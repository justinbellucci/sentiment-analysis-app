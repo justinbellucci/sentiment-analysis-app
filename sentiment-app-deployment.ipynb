{
 "cells": [
  {
   "cell_type": "markdown",
   "metadata": {},
   "source": [
    "# Creating a Sentiment Analysis Web App\n",
    "### Pytorch and AWS SageMaker\n",
    "_SageMaker, Lambda, API, CloudWatch_\n",
    "\n",
    "---\n",
    "Put an overview of the notebook here\n",
    "\n",
    "## Outline\n",
    "1. [Download the data](#download)\n",
    "2. [Process and prepare the data](#process)\n",
    "3. [Upload data to S3](#upload)\n",
    "4. [Build and train the Pytorch model](#train)\n",
    "5. [Test the trained model](#test)\n",
    "6. [Deploy the trained model](#deploy)\n",
    "7. [Use the deployed model for inference](#use)\n"
   ]
  },
  {
   "cell_type": "markdown",
   "metadata": {},
   "source": [
    "<a id='download'></a>\n",
    "## Download the Data\n",
    "\n",
    "The notebook and model use the [IMDb dataset](http://ai.stanford.edu/~amaas/data/sentiment/).\n",
    "\n",
    "> Maas, Andrew L., et al. [Learning Word Vectors for Sentiment Analysis](http://ai.stanford.edu/~amaas/data/sentiment/). In _Proceedings of the 49th Annual Meeting of the Association for Computational Linguistics: Human Language Technologies_. Association for Computational Linguistics, 2011."
   ]
  },
  {
   "cell_type": "code",
   "execution_count": 3,
   "metadata": {},
   "outputs": [
    {
     "name": "stdout",
     "output_type": "stream",
     "text": [
      "--2020-08-03 17:35:31--  http://ai.stanford.edu/~amaas/data/sentiment/aclImdb_v1.tar.gz\n",
      "Resolving ai.stanford.edu (ai.stanford.edu)... 171.64.68.10\n",
      "Connecting to ai.stanford.edu (ai.stanford.edu)|171.64.68.10|:80... connected.\n",
      "HTTP request sent, awaiting response... 200 OK\n",
      "Length: 84125825 (80M) [application/x-gzip]\n",
      "Saving to: ‘../data/aclImdb_v1.tar.gz’\n",
      "\n",
      "../data/aclImdb_v1. 100%[===================>]  80.23M  11.6MB/s    in 6.5s    \n",
      "\n",
      "2020-08-03 17:35:38 (12.4 MB/s) - ‘../data/aclImdb_v1.tar.gz’ saved [84125825/84125825]\n",
      "\n"
     ]
    }
   ],
   "source": [
    "%mkdir ../data\n",
    "!wget -O ../data/aclImdb_v1.tar.gz http://ai.stanford.edu/~amaas/data/sentiment/aclImdb_v1.tar.gz\n",
    "!tar -zxf ../data/aclImdb_v1.tar.gz -C ../data"
   ]
  },
  {
   "cell_type": "markdown",
   "metadata": {},
   "source": [
    "<a id='process'></a>\n",
    "## Process and Prepare the Data\n",
    "\n",
    "---\n",
    "### Read in Data"
   ]
  },
  {
   "cell_type": "code",
   "execution_count": 1,
   "metadata": {},
   "outputs": [],
   "source": [
    "# necessary imports \n",
    "import os\n",
    "import glob"
   ]
  },
  {
   "cell_type": "code",
   "execution_count": 2,
   "metadata": {},
   "outputs": [],
   "source": [
    "def read_imbd_data(data_dir='../data/aclImdb'):\n",
    "    \"\"\" Read in IMDb data from aclImdb folder. Creates data and label dictionaries.\n",
    "    \n",
    "        Arguments:\n",
    "        - data_dir: (str) Directory of the data\n",
    "        \n",
    "        Returns:\n",
    "        - data: (dict) Movie review\n",
    "        - labels: (dict) Movie review labels\n",
    "    \"\"\"\n",
    "    data = {}\n",
    "    labels = {}\n",
    "    \n",
    "    # create paths to read in review data\n",
    "    for data_type in ['train', 'test']:\n",
    "        data[data_type] = {}\n",
    "        labels[data_type] = {}\n",
    "        \n",
    "        for sentiment in ['pos', 'neg']:\n",
    "            data[data_type][sentiment] = []\n",
    "            labels[data_type][sentiment] = []\n",
    "            \n",
    "            # join path names\n",
    "            path = os.path.join(data_dir, data_type, sentiment, '*.txt')\n",
    "            files = glob.glob(path)\n",
    "            \n",
    "            # open each review and label. Append to dictionaries and label with binary vars\n",
    "            for f in files:\n",
    "                with open(f) as review:\n",
    "                    data[data_type][sentiment].append(review.read())\n",
    "                    labels[data_type][sentiment].append(1 if sentiment == 'pos' else 0)\n",
    "                    \n",
    "            assert len(data[data_type][sentiment]) == len(labels[data_type][sentiment]), \\\n",
    "                       \"{}: data size does not equal {}: label size.\".format(data_type, sentiment)\n",
    "                    \n",
    "    return data, labels"
   ]
  },
  {
   "cell_type": "code",
   "execution_count": 3,
   "metadata": {},
   "outputs": [
    {
     "name": "stdout",
     "output_type": "stream",
     "text": [
      "IMDb Reviews: Train --> 12500 pos / 12500 neg ... Test --> 12500 pos / 12500 neg\n"
     ]
    }
   ],
   "source": [
    "# read in data and display length of train and test data\n",
    "data, labels = read_imbd_data()\n",
    "print(\"IMDb Reviews: Train --> {} pos / {} neg ... Test --> {} pos / {} neg\".format(len(data['train']['pos']),\n",
    "                                                                                    len(data['train']['neg']),\n",
    "                                                                                    len(labels['test']['pos']),\n",
    "                                                                                    len(labels['test']['pos'])))"
   ]
  },
  {
   "cell_type": "code",
   "execution_count": 4,
   "metadata": {},
   "outputs": [
    {
     "data": {
      "text/plain": [
       "\"I didn't know what to make of this film. I guess that is what it was all about really. I have never seen a film like it and I doubt that I really ever will again. Glover puts together something that is unique to him. I think to appreciate it you have to read some of his poetry, maybe see one of his slide shows. I really like this guy, he is just so bizarre I can't help it. Note: I saw this film before it was through its final editing, so maybe what I have seen and what others have seen are different. I will know, I guess, if I choose to view the film again. I think I will have to be properly drug influenced...\""
      ]
     },
     "execution_count": 4,
     "metadata": {},
     "output_type": "execute_result"
    }
   ],
   "source": [
    "data['train']['pos'][0]"
   ]
  },
  {
   "cell_type": "code",
   "execution_count": 5,
   "metadata": {},
   "outputs": [
    {
     "data": {
      "text/plain": [
       "1"
      ]
     },
     "execution_count": 5,
     "metadata": {},
     "output_type": "execute_result"
    }
   ],
   "source": [
    "labels['train']['pos'][0]"
   ]
  },
  {
   "cell_type": "markdown",
   "metadata": {},
   "source": [
    "---\n",
    "### Create Feature and Target Sets\n",
    "Combine the training and test data/labels and shuffle to creat feature and target sets."
   ]
  },
  {
   "cell_type": "code",
   "execution_count": 6,
   "metadata": {},
   "outputs": [],
   "source": [
    "# necessary imports \n",
    "from sklearn.utils import shuffle\n",
    "\n",
    "import nltk\n",
    "from nltk.corpus import stopwords\n",
    "from nltk.stem.porter import *\n",
    "import re\n",
    "from bs4 import BeautifulSoup\n",
    "\n",
    "import pickle"
   ]
  },
  {
   "cell_type": "code",
   "execution_count": 7,
   "metadata": {},
   "outputs": [],
   "source": [
    "def combine_imdb_data(data, labels):\n",
    "    \"\"\" Combine pos and neg reviews from the training and test data \n",
    "        dictionaries.\n",
    "        \n",
    "        Arguments:\n",
    "        - data: (dict) Unprocessed reviews\n",
    "        - labels: (dict) Sentiment label, 1 pos --> 0 neg\n",
    "        \n",
    "        Returns:\n",
    "        - train_X, test_X: features\n",
    "        - train_y, test_y: targets\n",
    "    \"\"\"\n",
    "    # combine positive and negative reviews and labels\n",
    "    train_data = data['train']['pos'] + data['train']['neg']\n",
    "    test_data = data['test']['pos'] + data['test']['neg']\n",
    "    train_labels = labels['train']['pos'] + labels['train']['neg']\n",
    "    test_labels = labels['test']['pos'] + labels['test']['neg']\n",
    "    \n",
    "    # using sklearn shuffle data\n",
    "    train_data, train_labels = shuffle(train_data, train_labels)\n",
    "    test_data, test_labels = shuffle(test_data, test_labels)\n",
    "    \n",
    "    return train_data, test_data, train_labels, test_labels"
   ]
  },
  {
   "cell_type": "code",
   "execution_count": 8,
   "metadata": {},
   "outputs": [
    {
     "name": "stdout",
     "output_type": "stream",
     "text": [
      "IMDb Data Length: Train data = 25000, Test data = 25000\n"
     ]
    }
   ],
   "source": [
    "train_X, test_X, train_y, test_y = combine_imdb_data(data, labels)\n",
    "print(\"IMDb Data Length: Train data = {}, Test data = {}\".format(len(train_X), len(test_X)))"
   ]
  },
  {
   "cell_type": "code",
   "execution_count": 10,
   "metadata": {},
   "outputs": [
    {
     "name": "stdout",
     "output_type": "stream",
     "text": [
      "I am amazed at the amount of praise that is heaped on this movie by other commentators. To me it was rather a disappointment, especially the combination of historical facts, fantasy and the main character's internal turmoil does not work at all (in Vonnegut's book Slaughterhouse Five and even in George Roy Hill's adaptation for the screen it does). Credibility is often overstretched. Too many questions are left open. Did I miss some central points? Or did I fail to spot the lines that supposedly connect the dots? <br /><br />A boy called Campbell, Jr., grows up in upstate New York. At home his father has many technical trade papers and one book. It has photographs of heaps of dead bodies in it. The boy leafs through the book, his dad doesn't like his doing that. What should this tell me? The family moves away from upstate New York to Berlin. BANG. It is 1938, the boy is a married man in Berlin and a theater playwright. What kind of plays does he write? In what language? Is he successful? His wife is an actress and looks glamorous. The parents move back to the USA and invite their son to do the same. He does not. Why? Because having grown up in Germany he feels more German than American? Because he is successful? Because his wife is? Because he likes his life there? Because he likes the Nazis? Because he is just plain lazy and doesn't like change? Don't ask me.<br /><br />Possibly, the man just does not care, is not interested in politics, is a kind of an existentialist. He states that he is deeply in love with his wife. He speaks of his Republic of Two (meaning he and his wife). There is little to no evidence proving his love for his wife in the movie, it much more seems a Republic of One.<br /><br />On the request of an American agent Campbell, Jr., agrees to broadcast anti Semitic Nazi hate propaganda to American listeners as a device for transmitting encrypted messages to American authorities who read between the lines. The crucial meeting with the agent on a Berlin park bench is short, unexciting and anti climactic, the decision to play along comes pretty easily with no explanation, the rise up to broadcaster seems to be uneventful and apparently fast.<br /><br />So now we have Campbell, Jr., presenting himself over the air as the Last Free American. The scheme for transmitting secret messages is fairly realistic and exciting - although one wonders what happened when Campbell, Jr., really and honestly had to cough, hiccup etc. (must have scrambled the messages terribly). Anyway, the Nazis lose, the wife dies (touring in the Crimean for German troops - I never heard such tours really happened on German front lines in WW II), Campbell, Jr., says he goes to the Russian front but does not go, is captured by an American soldier who recognizes his mug (how come?), is dragged to a sight-seeing tour in Auschwitz, is then released and resettled with the help of the Crucial Agent somewhere in the City of New York.<br /><br />AND THIS IS WHERE THE STORY REALLY STARTS <br /><br />BANG. From now on it is like a short story by Paul Auster. It is 1961, Campbell, Jr., lives in New York tenement as a has-been and mourns the loss of his wife. Nobody really cares - or do they? Yes, somehow they do, and his neighbors offer some sort of distraction. Auschwitz survivors. A painter. Some American supremacists discover\" him and want him to be their figurehead. They even find his presumed dead wife for him, or is she his wife? Anyway, in the end Campbell, Jr., calls in at the Israeli consulate, and they obligingly give him the Big War Criminal treatment, placing him in the cell adjacent to Adolf Eichmann's. He writes his life story and, once this task finished, hangs himself on the typewriter's ribbons without getting sooty the least bit.<br /><br />While I can see that there must be an issue of guilt and of loss, I just had the impression that the main character is a person who at all times is pretty indifferent to everything and hardly capable of love for anyone. So I found it difficult to sympathize for this looser who mourns his loss. Amazingly, many reviewers focus on his status as a potential war hero, having put his reputation at stake for playing the Last Free American. I assume according to them this took a lot of courage. As a matter of fact, however, the movie suggests that by accepting the assignment Campbell created for himself a win-win situation, as he would have been politically on the safe side no matter who had won the war. The danger of his being uncovered never comes up during the first part of the story.<br /><br />One might argue, that the whole story is a dreamlike fantasy and that nobody should bother with historical accuracy or a logical development of the story which explains everything. But even then it fails to make a point, primarily, I suspect, because the love affair in the Republic of Two falls completely flat. This is a pity, especially if you consider that the wife was played by Sheryl Lee, a talented, versatile and sensuous actress. She has much too little screen time and is forced to use a ridiculous German accent. Another somehow neglected aspect are the different texts (confession, broadcast and hidden messages), but I guess this is largely unfilmable. Maybe I should give the book a chance. \n",
      "\n",
      "0\n"
     ]
    }
   ],
   "source": [
    "# take a look at a review and it's corresponding label\n",
    "print(train_X[20], '\\n')\n",
    "print(train_y[20])"
   ]
  },
  {
   "cell_type": "markdown",
   "metadata": {},
   "source": [
    "---\n",
    "### Process Review\n",
    "Remove the html formatting and convert the review into a list of words."
   ]
  },
  {
   "cell_type": "code",
   "execution_count": 11,
   "metadata": {},
   "outputs": [],
   "source": [
    "def review_to_words(review):\n",
    "    \"\"\" Converts a review string to a list of words. Removes html\n",
    "        formatting, stopwords and morphological endings of common\n",
    "        words.\n",
    "        \n",
    "        Arguments:\n",
    "        - review: (str) String of words that make up review\n",
    "        \n",
    "        Returns:\n",
    "        - words: (list) List of processed words in a review\n",
    "    \n",
    "    \"\"\" \n",
    "    nltk.download('stopwords', quiet=True)\n",
    "    stemmer = PorterStemmer()\n",
    "    \n",
    "    text = BeautifulSoup(review, 'html.parser').get_text() # remove html tags\n",
    "    text = re.sub(r\"[^a-zA-z0-9]\", \" \", text.lower()) \n",
    "    words = text.split() # split the string into a list of words\n",
    "    words = [word for word in words if word not in stopwords.words('english')] # remove stopwords\n",
    "    words = [stemmer.stem(word) for word in words] # stem words\n",
    "    \n",
    "    return words"
   ]
  },
  {
   "cell_type": "code",
   "execution_count": 12,
   "metadata": {},
   "outputs": [
    {
     "name": "stdout",
     "output_type": "stream",
     "text": [
      "['amaz', 'amount', 'prais', 'heap', 'movi', 'comment', 'rather', 'disappoint', 'especi', 'combin', 'histor', 'fact', 'fantasi', 'main', 'charact', 'intern', 'turmoil', 'work', 'vonnegut', 'book', 'slaughterhous', 'five', 'even', 'georg', 'roy', 'hill', 'adapt', 'screen', 'credibl', 'often', 'overstretch', 'mani', 'question', 'left', 'open', 'miss', 'central', 'point', 'fail', 'spot', 'line', 'supposedli', 'connect', 'dot', 'boy', 'call', 'campbel', 'jr', 'grow', 'upstat', 'new', 'york', 'home', 'father', 'mani', 'technic', 'trade', 'paper', 'one', 'book', 'photograph', 'heap', 'dead', 'bodi', 'boy', 'leaf', 'book', 'dad', 'like', 'tell', 'famili', 'move', 'away', 'upstat', 'new', 'york', 'berlin', 'bang', '1938', 'boy', 'marri', 'man', 'berlin', 'theater', 'playwright', 'kind', 'play', 'write', 'languag', 'success', 'wife', 'actress', 'look', 'glamor', 'parent', 'move', 'back', 'usa', 'invit', 'son', 'grown', 'germani', 'feel', 'german', 'american', 'success', 'wife', 'like', 'life', 'like', 'nazi', 'plain', 'lazi', 'like', 'chang', 'ask', 'possibl', 'man', 'care', 'interest', 'polit', 'kind', 'existentialist', 'state', 'deepli', 'love', 'wife', 'speak', 'republ', 'two', 'mean', 'wife', 'littl', 'evid', 'prove', 'love', 'wife', 'movi', 'much', 'seem', 'republ', 'one', 'request', 'american', 'agent', 'campbel', 'jr', 'agre', 'broadcast', 'anti', 'semit', 'nazi', 'hate', 'propaganda', 'american', 'listen', 'devic', 'transmit', 'encrypt', 'messag', 'american', 'author', 'read', 'line', 'crucial', 'meet', 'agent', 'berlin', 'park', 'bench', 'short', 'unexcit', 'anti', 'climact', 'decis', 'play', 'along', 'come', 'pretti', 'easili', 'explan', 'rise', 'broadcast', 'seem', 'unev', 'appar', 'fast', 'campbel', 'jr', 'present', 'air', 'last', 'free', 'american', 'scheme', 'transmit', 'secret', 'messag', 'fairli', 'realist', 'excit', 'although', 'one', 'wonder', 'happen', 'campbel', 'jr', 'realli', 'honestli', 'cough', 'hiccup', 'etc', 'must', 'scrambl', 'messag', 'terribl', 'anyway', 'nazi', 'lose', 'wife', 'die', 'tour', 'crimean', 'german', 'troop', 'never', 'heard', 'tour', 'realli', 'happen', 'german', 'front', 'line', 'ww', 'ii', 'campbel', 'jr', 'say', 'goe', 'russian', 'front', 'go', 'captur', 'american', 'soldier', 'recogn', 'mug', 'come', 'drag', 'sight', 'see', 'tour', 'auschwitz', 'releas', 'resettl', 'help', 'crucial', 'agent', 'somewher', 'citi', 'new', 'york', 'stori', 'realli', 'start', 'bang', 'like', 'short', 'stori', 'paul', 'auster', '1961', 'campbel', 'jr', 'live', 'new', 'york', 'tenement', 'mourn', 'loss', 'wife', 'nobodi', 'realli', 'care', 'ye', 'somehow', 'neighbor', 'offer', 'sort', 'distract', 'auschwitz', 'survivor', 'painter', 'american', 'supremacist', 'discov', 'want', 'figurehead', 'even', 'find', 'presum', 'dead', 'wife', 'wife', 'anyway', 'end', 'campbel', 'jr', 'call', 'isra', 'consul', 'obligingli', 'give', 'big', 'war', 'crimin', 'treatment', 'place', 'cell', 'adjac', 'adolf', 'eichmann', 'write', 'life', 'stori', 'task', 'finish', 'hang', 'typewrit', 'ribbon', 'without', 'get', 'sooti', 'least', 'bit', 'see', 'must', 'issu', 'guilt', 'loss', 'impress', 'main', 'charact', 'person', 'time', 'pretti', 'indiffer', 'everyth', 'hardli', 'capabl', 'love', 'anyon', 'found', 'difficult', 'sympath', 'looser', 'mourn', 'loss', 'amazingli', 'mani', 'review', 'focu', 'statu', 'potenti', 'war', 'hero', 'put', 'reput', 'stake', 'play', 'last', 'free', 'american', 'assum', 'accord', 'took', 'lot', 'courag', 'matter', 'fact', 'howev', 'movi', 'suggest', 'accept', 'assign', 'campbel', 'creat', 'win', 'win', 'situat', 'would', 'polit', 'safe', 'side', 'matter', 'war', 'danger', 'uncov', 'never', 'come', 'first', 'part', 'stori', 'one', 'might', 'argu', 'whole', 'stori', 'dreamlik', 'fantasi', 'nobodi', 'bother', 'histor', 'accuraci', 'logic', 'develop', 'stori', 'explain', 'everyth', 'even', 'fail', 'make', 'point', 'primarili', 'suspect', 'love', 'affair', 'republ', 'two', 'fall', 'complet', 'flat', 'piti', 'especi', 'consid', 'wife', 'play', 'sheryl', 'lee', 'talent', 'versatil', 'sensuou', 'actress', 'much', 'littl', 'screen', 'time', 'forc', 'use', 'ridicul', 'german', 'accent', 'anoth', 'somehow', 'neglect', 'aspect', 'differ', 'text', 'confess', 'broadcast', 'hidden', 'messag', 'guess', 'larg', 'unfilm', 'mayb', 'give', 'book', 'chanc']\n"
     ]
    }
   ],
   "source": [
    "words = review_to_words(train_X[20])\n",
    "print(words)"
   ]
  },
  {
   "cell_type": "code",
   "execution_count": 13,
   "metadata": {},
   "outputs": [],
   "source": [
    "cache_dir = os.path.join(\"../cache\", \"sentiment_analysis\")\n",
    "os.makedirs(cache_dir, exist_ok=True) \n",
    "\n",
    "def preprocess_data(train_data, test_data, train_labels, test_labels,\n",
    "                    cache_dir=cache_dir, cache_file='preprocesssed_data.pkl'):\n",
    "    \"\"\" Convert each review to words and read from the cache file if \n",
    "        available. \n",
    "    \n",
    "    \"\"\"\n",
    "    # if cache file exists try to read from it\n",
    "    cache_data = None\n",
    "    if cache_file is not None:\n",
    "        try:\n",
    "            with open(os.path.join(cache_dir, cache_file), \"rb\") as f: # open and read binary file\n",
    "                cache_data = pickle.load(f)\n",
    "                print(\"Reading preprocessed data from cache file: {}\".format(cache_file))\n",
    "        except:\n",
    "            pass\n",
    "        \n",
    "    # if cache data does not exist create it\n",
    "    if cache_data is None:\n",
    "        # process data to create list of words for each review\n",
    "        train_words = [review_to_words(review) for review in train_data]\n",
    "        test_words = [review_to_words(review) for review in test_data]\n",
    "        \n",
    "        # write to cache file if it doesn't exist\n",
    "        if cache_file is not None:\n",
    "            cache_data = dict(train_words=train_words, test_words=test_words,\n",
    "                              train_labels=train_labels, test_labels=test_labels)\n",
    "            with open(os.path.join(cache_dir, cache_file), \"wb\") as f:\n",
    "                pickle.dump(cache_data, f)\n",
    "            print(\"Wrote preprocessed data to cache file: {}\".format(cache_file))\n",
    "            \n",
    "    else:\n",
    "        # unpack data from cache file\n",
    "        train_words = cache_data['train_words']\n",
    "        test_words = cache_data['test_words']\n",
    "        train_labels = cache_data['train_labels']\n",
    "        test_labels = cache_data['test_labels']\n",
    "        \n",
    "    return train_words, test_words, train_labels, test_labels"
   ]
  },
  {
   "cell_type": "code",
   "execution_count": 14,
   "metadata": {},
   "outputs": [
    {
     "name": "stdout",
     "output_type": "stream",
     "text": [
      "Reading preprocessed data from cache file: preprocesssed_data.pkl\n"
     ]
    }
   ],
   "source": [
    "train_X, test_X, train_y, test_y = preprocess_data(train_X, test_X, train_y, test_y)"
   ]
  },
  {
   "cell_type": "code",
   "execution_count": 15,
   "metadata": {},
   "outputs": [
    {
     "name": "stdout",
     "output_type": "stream",
     "text": [
      "['could', 'anyon', 'pleas', 'stop', 'john', 'carpent', 'continu', 'deliber', 'ruin', 'reput', 'low', 'go', 'seem', 'man', 'lost', 'self', 'respect', 'episod', 'look', 'like', 'done', 'film', 'student', 'even', 'worth', 'begin', 'talk', 'bad', 'borefest', 'direct', 'somebodi', 'talent', 'filmmak', 'without', 'motiv', 'come', 'mr', 'carpent', 'pleas', 'retir', 'immedi', 'rest', 'self', 'esteem', 'stop', 'spill', 'trash', 'like', 'bad', 'tradit', 'escap', 'l', 'ghost', 'mar', 'get', 'drunk', 'instead']\n"
     ]
    }
   ],
   "source": [
    "len(train_X[20])\n",
    "print(train_X[20])"
   ]
  },
  {
   "cell_type": "markdown",
   "metadata": {},
   "source": [
    "---\n",
    "### Transform the Data\n",
    "First we will create a working vocabulary of the most frequently occuring words in our dataset. We will remove the words that occur most infrequently. Each review will be fixed in size with shorter reviews padded with zeros. This will allow our RNN to train more efficiently."
   ]
  },
  {
   "cell_type": "code",
   "execution_count": 16,
   "metadata": {},
   "outputs": [],
   "source": [
    "# necessary imports\n",
    "import numpy as np\n",
    "from collections import Counter"
   ]
  },
  {
   "cell_type": "code",
   "execution_count": 17,
   "metadata": {},
   "outputs": [],
   "source": [
    "def build_dict(data, vocab_size=5000):\n",
    "    \"\"\" Construct and return a dictionary mapping each of the most frequently \n",
    "        appearing words to a unique integer.\n",
    "        \n",
    "        Arguments:\n",
    "        - data: preprocessed reviews\n",
    "        - vacab_size: (int) size of vacabulary\n",
    "        \n",
    "        Returns:\n",
    "        - word_dict: dictionary of vocabulary mappings\n",
    "    \"\"\"\n",
    "    # count and sort the words \n",
    "    word_count = Counter(np.concatenate(train_X, axis = 0))\n",
    "    sorted_vocab = sorted(word_count, key=word_count.get, reverse=True)\n",
    "    \n",
    "    # create a word dictionary\n",
    "    word_dict = {word: idx+2 for idx, word in enumerate(sorted_vocab[:vocab_size-2])}\n",
    "    \n",
    "    return word_dict"
   ]
  },
  {
   "cell_type": "markdown",
   "metadata": {},
   "source": [
    "Take a look at the dictionary to make sure everything looks good. "
   ]
  },
  {
   "cell_type": "code",
   "execution_count": 18,
   "metadata": {},
   "outputs": [],
   "source": [
    "word_dict = build_dict(train_X)\n",
    "# print(word_dict)"
   ]
  },
  {
   "cell_type": "code",
   "execution_count": 19,
   "metadata": {},
   "outputs": [
    {
     "name": "stdout",
     "output_type": "stream",
     "text": [
      "['movi', 'film', 'one', 'like', 'time']\n"
     ]
    }
   ],
   "source": [
    "most_freq = [key for idx, (key, val) in enumerate(word_dict.items()) if idx < 5]\n",
    "print(most_freq)"
   ]
  },
  {
   "cell_type": "markdown",
   "metadata": {},
   "source": [
    "### Save `word_dict`\n",
    "\n",
    "Later on when we construct an endpoint which processes a submitted review we will need to make use of the `word_dict` which we have created. As such, we will save it to a file now for future use."
   ]
  },
  {
   "cell_type": "code",
   "execution_count": 20,
   "metadata": {},
   "outputs": [],
   "source": [
    "data_dir = '../data/pytorch' # folder that will store the data\n",
    "if not os.path.exists(data_dir): # check if the folder exists\n",
    "    os.makedirs(data_dir)"
   ]
  },
  {
   "cell_type": "code",
   "execution_count": 21,
   "metadata": {},
   "outputs": [],
   "source": [
    "with open(os.path.join(data_dir, 'word_dict.pkl'), \"wb\") as f:\n",
    "    pickle.dump(word_dict, f)"
   ]
  },
  {
   "cell_type": "markdown",
   "metadata": {},
   "source": [
    "### Transform the Reviews\n",
    "Convert the reviews into their integer sequence representation. Shorter reviews will be padded with `0` or `1` for no word and infrequent word representation. Longer reviews will be truncated to 500 characters. "
   ]
  },
  {
   "cell_type": "code",
   "execution_count": 22,
   "metadata": {},
   "outputs": [
    {
     "name": "stdout",
     "output_type": "stream",
     "text": [
      "Zero-length reviews: 0\n",
      "Max length review: 1429\n",
      "25000\n"
     ]
    }
   ],
   "source": [
    "review_lens = Counter([len(review) for review in train_X])\n",
    "print(\"Zero-length reviews: {}\".format(review_lens[0]))\n",
    "print(\"Max length review: {}\".format(max(review_lens)))\n",
    "print(len(train_X))"
   ]
  },
  {
   "cell_type": "code",
   "execution_count": 23,
   "metadata": {},
   "outputs": [],
   "source": [
    "def convert_and_pad(word_dict, review, pad=500):\n",
    "    NOWORD = 0\n",
    "    INFREQ = 1\n",
    "    current_review = [NOWORD] * pad\n",
    "        \n",
    "    for idx, word in enumerate(review[:pad]):\n",
    "        if word in word_dict:\n",
    "            current_review[idx] = word_dict[word]\n",
    "        else:\n",
    "            current_review[idx] = INFREQ\n",
    "    \n",
    "    return current_review, min(len(review), pad)\n",
    "\n",
    "def convert_reviews(word_dict, data, pad=500):\n",
    "    \"\"\" Convert each review to an integer sequence representation. Truncate\n",
    "        to 500 chars and pad with 0s and 1s accordingly.\n",
    "        \n",
    "        Arguments:\n",
    "        - word_dict: (dict) word mapping dictionary\n",
    "        - data: reviews\n",
    "        - pad: (int) length to truncate to\n",
    "        \n",
    "        Returns:\n",
    "        - train_X: feature\n",
    "        - train_X_len: length of feature set\n",
    "    \"\"\"    \n",
    "    result = []\n",
    "    lengths = []\n",
    "    \n",
    "    for review in data:\n",
    "        current_review, leng = convert_and_pad(word_dict, review, pad)\n",
    "        result.append(current_review)\n",
    "        lengths.append(leng)\n",
    "        \n",
    "    return np.array(result), np.array(lengths)"
   ]
  },
  {
   "cell_type": "code",
   "execution_count": 24,
   "metadata": {},
   "outputs": [],
   "source": [
    "train_X, train_X_len = convert_reviews(word_dict, train_X)\n",
    "test_X, test_X_len = convert_reviews(word_dict, train_X)"
   ]
  },
  {
   "cell_type": "code",
   "execution_count": 25,
   "metadata": {},
   "outputs": [
    {
     "name": "stdout",
     "output_type": "stream",
     "text": [
      "[  36  181  444  368  227 2516  471 2471  962 2055  295   25   39   55\n",
      "  359  464  616  182   19    5  143    3  745   14  218  159  241   24\n",
      "    1   97 1623  310  585  129 1128   45  326 2516  444 2579  997  302\n",
      "  464    1  368 4963  976    5   24 1087  640 1224  837 2710   10 1562\n",
      "  235    0    0    0    0    0    0    0    0    0    0    0    0    0\n",
      "    0    0    0    0    0    0    0    0    0    0    0    0    0    0\n",
      "    0    0    0    0    0    0    0    0    0    0    0    0    0    0\n",
      "    0    0    0    0    0    0    0    0    0    0    0    0    0    0\n",
      "    0    0    0    0    0    0    0    0    0    0    0    0    0    0\n",
      "    0    0    0    0    0    0    0    0    0    0    0    0    0    0\n",
      "    0    0    0    0    0    0    0    0    0    0    0    0    0    0\n",
      "    0    0    0    0    0    0    0    0    0    0    0    0    0    0\n",
      "    0    0    0    0    0    0    0    0    0    0    0    0    0    0\n",
      "    0    0    0    0    0    0    0    0    0    0    0    0    0    0\n",
      "    0    0    0    0    0    0    0    0    0    0    0    0    0    0\n",
      "    0    0    0    0    0    0    0    0    0    0    0    0    0    0\n",
      "    0    0    0    0    0    0    0    0    0    0    0    0    0    0\n",
      "    0    0    0    0    0    0    0    0    0    0    0    0    0    0\n",
      "    0    0    0    0    0    0    0    0    0    0    0    0    0    0\n",
      "    0    0    0    0    0    0    0    0    0    0    0    0    0    0\n",
      "    0    0    0    0    0    0    0    0    0    0    0    0    0    0\n",
      "    0    0    0    0    0    0    0    0    0    0    0    0    0    0\n",
      "    0    0    0    0    0    0    0    0    0    0    0    0    0    0\n",
      "    0    0    0    0    0    0    0    0    0    0    0    0    0    0\n",
      "    0    0    0    0    0    0    0    0    0    0    0    0    0    0\n",
      "    0    0    0    0    0    0    0    0    0    0    0    0    0    0\n",
      "    0    0    0    0    0    0    0    0    0    0    0    0    0    0\n",
      "    0    0    0    0    0    0    0    0    0    0    0    0    0    0\n",
      "    0    0    0    0    0    0    0    0    0    0    0    0    0    0\n",
      "    0    0    0    0    0    0    0    0    0    0    0    0    0    0\n",
      "    0    0    0    0    0    0    0    0    0    0    0    0    0    0\n",
      "    0    0    0    0    0    0    0    0    0    0    0    0    0    0\n",
      "    0    0    0    0    0    0    0    0    0    0    0    0    0    0\n",
      "    0    0    0    0    0    0    0    0    0    0    0    0    0    0\n",
      "    0    0    0    0    0    0    0    0    0    0    0    0    0    0\n",
      "    0    0    0    0    0    0    0    0    0    0] \n",
      "\n",
      "57\n"
     ]
    }
   ],
   "source": [
    "print(train_X[20], '\\n')\n",
    "print(train_X_len[20])"
   ]
  },
  {
   "cell_type": "markdown",
   "metadata": {},
   "source": [
    "<a id='upload'></a>\n",
    "## Upload the Data to S3\n",
    "Save the data locally and upload to S3 later. Note that the format has to be in the form `label`, `length`, `review`.\n",
    "\n",
    "### Save and process locally"
   ]
  },
  {
   "cell_type": "code",
   "execution_count": 26,
   "metadata": {},
   "outputs": [],
   "source": [
    "# necessary imports\n",
    "import pandas as pd\n",
    "import sagemaker"
   ]
  },
  {
   "cell_type": "code",
   "execution_count": 27,
   "metadata": {},
   "outputs": [],
   "source": [
    "pd.concat([pd.DataFrame(train_y), pd.DataFrame(train_X_len), pd.DataFrame(train_X)], axis=1) \\\n",
    "        .to_csv(os.path.join(data_dir, 'train.csv'), header=False, index=False)"
   ]
  },
  {
   "cell_type": "markdown",
   "metadata": {},
   "source": [
    "### Upload the data\n",
    "Create a SageMaker session, role, and bucket. Upload the data to the default S3 bucket.\n"
   ]
  },
  {
   "cell_type": "code",
   "execution_count": 30,
   "metadata": {},
   "outputs": [],
   "source": [
    "# This is an object that represents the SageMaker session that we are currently operating in. This\n",
    "# object contains some useful information that we will need to access later such as our region.\n",
    "session = sagemaker.Session()\n",
    "\n",
    "bucket = session.default_bucket()\n",
    "prefix = 'sagemaker/sentiment_rnn'\n",
    "\n",
    "# This is an object that represents the IAM role that we are currently assigned. When we construct\n",
    "# and launch the training job later we will need to tell it what IAM role it should have. Since our\n",
    "# use case is relatively simple we will simply assign the training job the role we currently have.\n",
    "role = sagemaker.get_execution_role()"
   ]
  },
  {
   "cell_type": "code",
   "execution_count": 31,
   "metadata": {},
   "outputs": [],
   "source": [
    "training_data = session.upload_data(path=data_dir, bucket=bucket, key_prefix=prefix)"
   ]
  },
  {
   "cell_type": "markdown",
   "metadata": {},
   "source": [
    "<a id='train'></a>\n",
    "## Build and Train the Pytorch Model"
   ]
  },
  {
   "cell_type": "code",
   "execution_count": 32,
   "metadata": {},
   "outputs": [
    {
     "name": "stdout",
     "output_type": "stream",
     "text": [
      "\u001b[37m# PROGRAMMER: Justin Bellucci \u001b[39;49;00m\r\n",
      "\u001b[37m# DATE CREATED: 07_31_2020                                  \u001b[39;49;00m\r\n",
      "\u001b[37m# REVISED DATE: \u001b[39;49;00m\r\n",
      "\r\n",
      "\u001b[34mimport\u001b[39;49;00m \u001b[04m\u001b[36mtorch\u001b[39;49;00m\u001b[04m\u001b[36m.\u001b[39;49;00m\u001b[04m\u001b[36mnn\u001b[39;49;00m \u001b[34mas\u001b[39;49;00m \u001b[04m\u001b[36mnn\u001b[39;49;00m\r\n",
      "\r\n",
      "\u001b[34mclass\u001b[39;49;00m \u001b[04m\u001b[32mLSTMClassifier\u001b[39;49;00m(nn.Module):\r\n",
      "    \u001b[33m\"\"\" LSTM based RNN to perform sentiment analysis\u001b[39;49;00m\r\n",
      "\u001b[33m    \u001b[39;49;00m\r\n",
      "\u001b[33m    \"\"\"\u001b[39;49;00m\r\n",
      "    \u001b[34mdef\u001b[39;49;00m \u001b[32m__init__\u001b[39;49;00m(\u001b[36mself\u001b[39;49;00m, embedding_dim, hidden_dim, vocab_size, n_layers=\u001b[34m2\u001b[39;49;00m):\r\n",
      "        \u001b[33m\"\"\" Initialize the model by setting up the various \u001b[39;49;00m\r\n",
      "\u001b[33m            layers.\u001b[39;49;00m\r\n",
      "\u001b[33m        \"\"\"\u001b[39;49;00m\r\n",
      "        \u001b[36msuper\u001b[39;49;00m(LSTMClassifier, \u001b[36mself\u001b[39;49;00m).\u001b[32m__init__\u001b[39;49;00m()\r\n",
      "\r\n",
      "        \u001b[36mself\u001b[39;49;00m.n_layers = n_layers\r\n",
      "        \u001b[36mself\u001b[39;49;00m.hidden_dim = hidden_dim\r\n",
      "        \r\n",
      "        \u001b[36mself\u001b[39;49;00m.embedding = nn.Embedding(vocab_size, embedding_dim)\r\n",
      "        \u001b[36mself\u001b[39;49;00m.lstm = nn.LSTM(embedding_dim, hidden_dim, n_layers)\r\n",
      "        \r\n",
      "        \u001b[36mself\u001b[39;49;00m.dropout = nn.Dropout(\u001b[34m0.2\u001b[39;49;00m)\r\n",
      "        \r\n",
      "        \u001b[36mself\u001b[39;49;00m.fc = nn.Linear(in_features=hidden_dim, out_features=\u001b[34m1\u001b[39;49;00m)\r\n",
      "        \u001b[36mself\u001b[39;49;00m.sigmoid = nn.Sigmoid()\r\n",
      "\r\n",
      "    \u001b[34mdef\u001b[39;49;00m \u001b[32mforward\u001b[39;49;00m(\u001b[36mself\u001b[39;49;00m, x, hidden):\r\n",
      "        \u001b[33m\"\"\" Perform a forward pass of our model on some input and \u001b[39;49;00m\r\n",
      "\u001b[33m            hidden state.\u001b[39;49;00m\r\n",
      "\u001b[33m        \"\"\"\u001b[39;49;00m\r\n",
      "        batch_size = x.size(\u001b[34m0\u001b[39;49;00m)\r\n",
      "        x = x.t()\r\n",
      "        embeds = \u001b[36mself\u001b[39;49;00m.embedding(x)\r\n",
      "        lstm_out, hidden = \u001b[36mself\u001b[39;49;00m.lstm(embeds, hidden)\r\n",
      "        out = \u001b[36mself\u001b[39;49;00m.dropout(lstm_out)\r\n",
      "        out = \u001b[36mself\u001b[39;49;00m.fc(out)\r\n",
      "        sig_out = \u001b[36mself\u001b[39;49;00m.sigmoid(out)\r\n",
      "        \r\n",
      "        sig_out = sig_out.view(batch_size, -\u001b[34m1\u001b[39;49;00m)\r\n",
      "        sig_out = sig_out[:, -\u001b[34m1\u001b[39;49;00m]\r\n",
      "        \r\n",
      "        \u001b[34mreturn\u001b[39;49;00m sig_out, hidden\r\n",
      "\r\n",
      "    \u001b[34mdef\u001b[39;49;00m \u001b[32minit_hidden\u001b[39;49;00m(\u001b[36mself\u001b[39;49;00m, batch_size, device):\r\n",
      "        \u001b[33m\"\"\" Intialize the hidden state\u001b[39;49;00m\r\n",
      "\u001b[33m        \"\"\"\u001b[39;49;00m\r\n",
      "        weight = \u001b[36mnext\u001b[39;49;00m(\u001b[36mself\u001b[39;49;00m.parameters()).data\r\n",
      "\r\n",
      "        hidden = (weight.new(\u001b[36mself\u001b[39;49;00m.n_layers, batch_size, \u001b[36mself\u001b[39;49;00m.hidden_dim).zero_().to(device),\r\n",
      "                      weight.new(\u001b[36mself\u001b[39;49;00m.n_layers, batch_size, \u001b[36mself\u001b[39;49;00m.hidden_dim).zero_().to(device))\r\n",
      "\r\n",
      "        \u001b[34mreturn\u001b[39;49;00m hidden\r\n",
      "   \r\n"
     ]
    }
   ],
   "source": [
    "!pygmentize train/model.py"
   ]
  },
  {
   "cell_type": "markdown",
   "metadata": {},
   "source": [
    "Loading in a bit of data to test the model before we use GPU to train on Sagemaker. This is important to identify any mistakes."
   ]
  },
  {
   "cell_type": "code",
   "execution_count": 33,
   "metadata": {},
   "outputs": [],
   "source": [
    "# necessary imports\n",
    "import torch\n",
    "import torch.utils.data\n",
    "import torch.nn as nn\n",
    "\n",
    "import torch.optim as optim\n"
   ]
  },
  {
   "cell_type": "code",
   "execution_count": 71,
   "metadata": {},
   "outputs": [],
   "source": [
    "# %load_ext autoreload\n",
    "# %autoreload 2\n",
    "\n",
    "from train.model import LSTMClassifier"
   ]
  },
  {
   "cell_type": "code",
   "execution_count": 72,
   "metadata": {},
   "outputs": [],
   "source": [
    "batch_size = 50\n",
    "\n",
    "# read in the fist 250 rows\n",
    "train_sample = pd.read_csv(os.path.join(data_dir, 'train.csv'), header=None, names=None, nrows=250)\n",
    "\n",
    "# turn the Pandas DF into Tensors. Labels are first.\n",
    "train_sample_y = torch.from_numpy(train_sample[[0]].values).float().squeeze()\n",
    "train_sample_X = torch.from_numpy(train_sample.drop([0], axis=1).values).long()\n",
    "\n",
    "# build dataset using TensorDataset() from Pytorch\n",
    "train_sample_dataset = torch.utils.data.TensorDataset(train_sample_X, train_sample_y)\n",
    "\n",
    "# build the dataloader using DataLoader() from Pytorch\n",
    "train_sample_loader = torch.utils.data.DataLoader(train_sample_dataset, batch_size=50)"
   ]
  },
  {
   "cell_type": "markdown",
   "metadata": {},
   "source": [
    "### Training with the small sample dataset"
   ]
  },
  {
   "cell_type": "code",
   "execution_count": 73,
   "metadata": {},
   "outputs": [],
   "source": [
    "def train_sample(model, train_loader, epochs, optimizer, criterion, device):\n",
    "    \"\"\" Train a sample dataset in Jupyter notebook.\n",
    "    \"\"\"\n",
    "    for e in range(epochs):\n",
    "        model.train() # put model in training mode\n",
    "        total_loss = 0\n",
    "#         print(batch_size)\n",
    "        h = model.init_hidden(batch_size, device)\n",
    "        \n",
    "        for batch in train_loader:\n",
    "            batch_X, batch_y = batch\n",
    "            \n",
    "            # move to GPU if available\n",
    "            batch_X = batch_X.to(device)\n",
    "            batch_y = batch_y.to(device)\n",
    "            \n",
    "            h = tuple([each.data for each in h])\n",
    "            \n",
    "            # train the model\n",
    "            optimizer.zero_grad() # zero gradients\n",
    "            out, h = model.forward(batch_X, h)\n",
    "            loss = criterion(out, batch_y)\n",
    "            loss.backward()\n",
    "            \n",
    "#             nn.utils.clip_grad_norm_(model.parameters(), 5)\n",
    "            optimizer.step()\n",
    "            \n",
    "            total_loss += loss.data.item()\n",
    "        print(\"Epoch: {}, BCELoss: {}\".format(e+1, total_loss/len(train_loader)))"
   ]
  },
  {
   "cell_type": "code",
   "execution_count": 74,
   "metadata": {},
   "outputs": [
    {
     "name": "stdout",
     "output_type": "stream",
     "text": [
      "Using cpu to train...\n",
      "torch.Size([5000, 42])\n",
      "torch.Size([2, 50, 100])\n",
      "Epoch: 1, BCELoss: 0.6929988503456116\n"
     ]
    }
   ],
   "source": [
    "embedding_dim = 42\n",
    "hidden_dim = 100\n",
    "vocab_size = 5000\n",
    "epochs = 1\n",
    "device = torch.device(\"cuda\" if torch.cuda.is_available() else \"cpu\")\n",
    "print(\"Using {} to train...\".format(device))\n",
    "\n",
    "model = LSTMClassifier(embedding_dim, hidden_dim, vocab_size).to(device)\n",
    "optimizer = optim.Adam(model.parameters())\n",
    "criterion = torch.nn.BCELoss()\n",
    "\n",
    "train_sample(model, train_sample_loader, epochs, optimizer, criterion, device)"
   ]
  },
  {
   "cell_type": "markdown",
   "metadata": {},
   "source": [
    "<a id='train'></a>\n",
    "## Train the Model"
   ]
  },
  {
   "cell_type": "code",
   "execution_count": 38,
   "metadata": {},
   "outputs": [],
   "source": [
    "# necessary imports\n",
    "from sagemaker.pytorch import PyTorch"
   ]
  },
  {
   "cell_type": "code",
   "execution_count": 83,
   "metadata": {},
   "outputs": [],
   "source": [
    "pytorch_estimator = PyTorch(entry_point=\"train.py\",\n",
    "                            source_dir=\"train\",\n",
    "                            role=role,\n",
    "                            framework_version='1.0.0',\n",
    "                            train_instance_count=1,\n",
    "                            train_instance_type='ml.p2.xlarge',\n",
    "                            hyperparameters={'epochs': 15,\n",
    "                                             'hidden_dim': 300})"
   ]
  },
  {
   "cell_type": "code",
   "execution_count": 84,
   "metadata": {},
   "outputs": [
    {
     "name": "stderr",
     "output_type": "stream",
     "text": [
      "'create_image_uri' will be deprecated in favor of 'ImageURIProvider' class in SageMaker Python SDK v2.\n",
      "'s3_input' class will be renamed to 'TrainingInput' in SageMaker Python SDK v2.\n",
      "'create_image_uri' will be deprecated in favor of 'ImageURIProvider' class in SageMaker Python SDK v2.\n"
     ]
    },
    {
     "name": "stdout",
     "output_type": "stream",
     "text": [
      "2020-08-09 20:46:20 Starting - Starting the training job...\n",
      "2020-08-09 20:46:21 Starting - Launching requested ML instances......\n",
      "2020-08-09 20:47:31 Starting - Preparing the instances for training......\n",
      "2020-08-09 20:48:40 Downloading - Downloading input data...\n",
      "2020-08-09 20:48:58 Training - Downloading the training image.....\u001b[34mbash: cannot set terminal process group (-1): Inappropriate ioctl for device\u001b[0m\n",
      "\u001b[34mbash: no job control in this shell\u001b[0m\n",
      "\u001b[34m2020-08-09 20:49:59,531 sagemaker-containers INFO     Imported framework sagemaker_pytorch_container.training\u001b[0m\n",
      "\u001b[34m2020-08-09 20:49:59,559 sagemaker_pytorch_container.training INFO     Block until all host DNS lookups succeed.\u001b[0m\n",
      "\u001b[34m2020-08-09 20:49:59,561 sagemaker_pytorch_container.training INFO     Invoking user training script.\u001b[0m\n",
      "\u001b[34m2020-08-09 20:49:59,792 sagemaker-containers INFO     Module train does not provide a setup.py. \u001b[0m\n",
      "\u001b[34mGenerating setup.py\u001b[0m\n",
      "\u001b[34m2020-08-09 20:49:59,792 sagemaker-containers INFO     Generating setup.cfg\u001b[0m\n",
      "\u001b[34m2020-08-09 20:49:59,792 sagemaker-containers INFO     Generating MANIFEST.in\u001b[0m\n",
      "\u001b[34m2020-08-09 20:49:59,792 sagemaker-containers INFO     Installing module with the following command:\u001b[0m\n",
      "\u001b[34m/usr/bin/python -m pip install -U . -r requirements.txt\u001b[0m\n",
      "\u001b[34mProcessing /opt/ml/code\u001b[0m\n",
      "\u001b[34mCollecting pandas (from -r requirements.txt (line 1))\n",
      "  Downloading https://files.pythonhosted.org/packages/a7/f7/2adca20a7fa71b6a32f823bbd83992adeceab1d8bf72992bb7a55c69c19a/pandas-1.1.0-cp36-cp36m-manylinux1_x86_64.whl (10.5MB)\u001b[0m\n",
      "\u001b[34mCollecting numpy (from -r requirements.txt (line 2))\u001b[0m\n",
      "\u001b[34m  Downloading https://files.pythonhosted.org/packages/22/e7/4b2bdddb99f5f631d8c1de259897c2b7d65dcfcc1e0a6fd17a7f62923500/numpy-1.19.1-cp36-cp36m-manylinux1_x86_64.whl (13.4MB)\u001b[0m\n",
      "\u001b[34mCollecting nltk (from -r requirements.txt (line 3))\n",
      "  Downloading https://files.pythonhosted.org/packages/92/75/ce35194d8e3022203cca0d2f896dbb88689f9b3fce8e9f9cff942913519d/nltk-3.5.zip (1.4MB)\u001b[0m\n",
      "\u001b[34mCollecting beautifulsoup4 (from -r requirements.txt (line 4))\n",
      "  Downloading https://files.pythonhosted.org/packages/66/25/ff030e2437265616a1e9b25ccc864e0371a0bc3adb7c5a404fd661c6f4f6/beautifulsoup4-4.9.1-py3-none-any.whl (115kB)\u001b[0m\n",
      "\u001b[34mCollecting html5lib (from -r requirements.txt (line 5))\n",
      "  Downloading https://files.pythonhosted.org/packages/6c/dd/a834df6482147d48e225a49515aabc28974ad5a4ca3215c18a882565b028/html5lib-1.1-py2.py3-none-any.whl (112kB)\u001b[0m\n",
      "\u001b[34mRequirement already satisfied, skipping upgrade: python-dateutil>=2.7.3 in /usr/local/lib/python3.6/dist-packages (from pandas->-r requirements.txt (line 1)) (2.8.0)\u001b[0m\n",
      "\u001b[34mRequirement already satisfied, skipping upgrade: pytz>=2017.2 in /usr/local/lib/python3.6/dist-packages (from pandas->-r requirements.txt (line 1)) (2019.1)\u001b[0m\n",
      "\u001b[34mRequirement already satisfied, skipping upgrade: click in /usr/local/lib/python3.6/dist-packages (from nltk->-r requirements.txt (line 3)) (7.0)\u001b[0m\n",
      "\u001b[34mCollecting joblib (from nltk->-r requirements.txt (line 3))\n",
      "  Downloading https://files.pythonhosted.org/packages/51/dd/0e015051b4a27ec5a58b02ab774059f3289a94b0906f880a3f9507e74f38/joblib-0.16.0-py3-none-any.whl (300kB)\u001b[0m\n",
      "\u001b[34mCollecting regex (from nltk->-r requirements.txt (line 3))\u001b[0m\n",
      "\u001b[34m  Downloading https://files.pythonhosted.org/packages/3e/eb/85f375a102e95cde14a184ee985a35e1a20c4ceb3fe7f57fa128a9326283/regex-2020.7.14-cp36-cp36m-manylinux1_x86_64.whl (660kB)\u001b[0m\n",
      "\u001b[34mRequirement already satisfied, skipping upgrade: tqdm in /usr/local/lib/python3.6/dist-packages (from nltk->-r requirements.txt (line 3)) (4.32.1)\u001b[0m\n",
      "\u001b[34mCollecting soupsieve>1.2 (from beautifulsoup4->-r requirements.txt (line 4))\n",
      "  Downloading https://files.pythonhosted.org/packages/6f/8f/457f4a5390eeae1cc3aeab89deb7724c965be841ffca6cfca9197482e470/soupsieve-2.0.1-py3-none-any.whl\u001b[0m\n",
      "\u001b[34mCollecting webencodings (from html5lib->-r requirements.txt (line 5))\n",
      "  Downloading https://files.pythonhosted.org/packages/f4/24/2a3e3df732393fed8b3ebf2ec078f05546de641fe1b667ee316ec1dcf3b7/webencodings-0.5.1-py2.py3-none-any.whl\u001b[0m\n",
      "\u001b[34mRequirement already satisfied, skipping upgrade: six>=1.9 in /usr/local/lib/python3.6/dist-packages (from html5lib->-r requirements.txt (line 5)) (1.12.0)\u001b[0m\n",
      "\u001b[34mBuilding wheels for collected packages: nltk, train\n",
      "  Running setup.py bdist_wheel for nltk: started\u001b[0m\n",
      "\u001b[34m  Running setup.py bdist_wheel for nltk: finished with status 'done'\n",
      "  Stored in directory: /root/.cache/pip/wheels/ae/8c/3f/b1fe0ba04555b08b57ab52ab7f86023639a526d8bc8d384306\n",
      "  Running setup.py bdist_wheel for train: started\n",
      "  Running setup.py bdist_wheel for train: finished with status 'done'\n",
      "  Stored in directory: /tmp/pip-ephem-wheel-cache-xqckp6xj/wheels/35/24/16/37574d11bf9bde50616c67372a334f94fa8356bc7164af8ca3\u001b[0m\n",
      "\u001b[34mSuccessfully built nltk train\u001b[0m\n",
      "\n",
      "2020-08-09 20:49:58 Training - Training image download completed. Training in progress.\u001b[34mInstalling collected packages: numpy, pandas, joblib, regex, nltk, soupsieve, beautifulsoup4, webencodings, html5lib, train\n",
      "  Found existing installation: numpy 1.16.4\n",
      "    Uninstalling numpy-1.16.4:\u001b[0m\n",
      "\u001b[34m      Successfully uninstalled numpy-1.16.4\u001b[0m\n",
      "\u001b[34m  Found existing installation: pandas 0.24.2\n",
      "    Uninstalling pandas-0.24.2:\u001b[0m\n",
      "\u001b[34m      Successfully uninstalled pandas-0.24.2\u001b[0m\n",
      "\u001b[34mSuccessfully installed beautifulsoup4-4.9.1 html5lib-1.1 joblib-0.16.0 nltk-3.5 numpy-1.19.1 pandas-1.1.0 regex-2020.7.14 soupsieve-2.0.1 train-1.0.0 webencodings-0.5.1\u001b[0m\n",
      "\u001b[34mYou are using pip version 18.1, however version 20.2.1 is available.\u001b[0m\n",
      "\u001b[34mYou should consider upgrading via the 'pip install --upgrade pip' command.\u001b[0m\n",
      "\u001b[34m2020-08-09 20:50:17,078 sagemaker-containers INFO     Invoking user script\n",
      "\u001b[0m\n",
      "\u001b[34mTraining Env:\n",
      "\u001b[0m\n",
      "\u001b[34m{\n",
      "    \"additional_framework_parameters\": {},\n",
      "    \"channel_input_dirs\": {\n",
      "        \"training\": \"/opt/ml/input/data/training\"\n",
      "    },\n",
      "    \"current_host\": \"algo-1\",\n",
      "    \"framework_module\": \"sagemaker_pytorch_container.training:main\",\n",
      "    \"hosts\": [\n",
      "        \"algo-1\"\n",
      "    ],\n",
      "    \"hyperparameters\": {\n",
      "        \"hidden_dim\": 300,\n",
      "        \"epochs\": 15\n",
      "    },\n",
      "    \"input_config_dir\": \"/opt/ml/input/config\",\n",
      "    \"input_data_config\": {\n",
      "        \"training\": {\n",
      "            \"TrainingInputMode\": \"File\",\n",
      "            \"S3DistributionType\": \"FullyReplicated\",\n",
      "            \"RecordWrapperType\": \"None\"\n",
      "        }\n",
      "    },\n",
      "    \"input_dir\": \"/opt/ml/input\",\n",
      "    \"is_master\": true,\n",
      "    \"job_name\": \"sagemaker-pytorch-2020-08-09-20-46-19-640\",\n",
      "    \"log_level\": 20,\n",
      "    \"master_hostname\": \"algo-1\",\n",
      "    \"model_dir\": \"/opt/ml/model\",\n",
      "    \"module_dir\": \"s3://sagemaker-us-west-2-904606187431/sagemaker-pytorch-2020-08-09-20-46-19-640/source/sourcedir.tar.gz\",\n",
      "    \"module_name\": \"train\",\n",
      "    \"network_interface_name\": \"eth0\",\n",
      "    \"num_cpus\": 4,\n",
      "    \"num_gpus\": 1,\n",
      "    \"output_data_dir\": \"/opt/ml/output/data\",\n",
      "    \"output_dir\": \"/opt/ml/output\",\n",
      "    \"output_intermediate_dir\": \"/opt/ml/output/intermediate\",\n",
      "    \"resource_config\": {\n",
      "        \"current_host\": \"algo-1\",\n",
      "        \"hosts\": [\n",
      "            \"algo-1\"\n",
      "        ],\n",
      "        \"network_interface_name\": \"eth0\"\n",
      "    },\n",
      "    \"user_entry_point\": \"train.py\"\u001b[0m\n",
      "\u001b[34m}\n",
      "\u001b[0m\n",
      "\u001b[34mEnvironment variables:\n",
      "\u001b[0m\n",
      "\u001b[34mSM_HOSTS=[\"algo-1\"]\u001b[0m\n",
      "\u001b[34mSM_NETWORK_INTERFACE_NAME=eth0\u001b[0m\n",
      "\u001b[34mSM_HPS={\"epochs\":15,\"hidden_dim\":300}\u001b[0m\n",
      "\u001b[34mSM_USER_ENTRY_POINT=train.py\u001b[0m\n",
      "\u001b[34mSM_FRAMEWORK_PARAMS={}\u001b[0m\n",
      "\u001b[34mSM_RESOURCE_CONFIG={\"current_host\":\"algo-1\",\"hosts\":[\"algo-1\"],\"network_interface_name\":\"eth0\"}\u001b[0m\n",
      "\u001b[34mSM_INPUT_DATA_CONFIG={\"training\":{\"RecordWrapperType\":\"None\",\"S3DistributionType\":\"FullyReplicated\",\"TrainingInputMode\":\"File\"}}\u001b[0m\n",
      "\u001b[34mSM_OUTPUT_DATA_DIR=/opt/ml/output/data\u001b[0m\n",
      "\u001b[34mSM_CHANNELS=[\"training\"]\u001b[0m\n",
      "\u001b[34mSM_CURRENT_HOST=algo-1\u001b[0m\n",
      "\u001b[34mSM_MODULE_NAME=train\u001b[0m\n",
      "\u001b[34mSM_LOG_LEVEL=20\u001b[0m\n",
      "\u001b[34mSM_FRAMEWORK_MODULE=sagemaker_pytorch_container.training:main\u001b[0m\n",
      "\u001b[34mSM_INPUT_DIR=/opt/ml/input\u001b[0m\n",
      "\u001b[34mSM_INPUT_CONFIG_DIR=/opt/ml/input/config\u001b[0m\n",
      "\u001b[34mSM_OUTPUT_DIR=/opt/ml/output\u001b[0m\n",
      "\u001b[34mSM_NUM_CPUS=4\u001b[0m\n",
      "\u001b[34mSM_NUM_GPUS=1\u001b[0m\n",
      "\u001b[34mSM_MODEL_DIR=/opt/ml/model\u001b[0m\n",
      "\u001b[34mSM_MODULE_DIR=s3://sagemaker-us-west-2-904606187431/sagemaker-pytorch-2020-08-09-20-46-19-640/source/sourcedir.tar.gz\u001b[0m\n",
      "\u001b[34mSM_TRAINING_ENV={\"additional_framework_parameters\":{},\"channel_input_dirs\":{\"training\":\"/opt/ml/input/data/training\"},\"current_host\":\"algo-1\",\"framework_module\":\"sagemaker_pytorch_container.training:main\",\"hosts\":[\"algo-1\"],\"hyperparameters\":{\"epochs\":15,\"hidden_dim\":300},\"input_config_dir\":\"/opt/ml/input/config\",\"input_data_config\":{\"training\":{\"RecordWrapperType\":\"None\",\"S3DistributionType\":\"FullyReplicated\",\"TrainingInputMode\":\"File\"}},\"input_dir\":\"/opt/ml/input\",\"is_master\":true,\"job_name\":\"sagemaker-pytorch-2020-08-09-20-46-19-640\",\"log_level\":20,\"master_hostname\":\"algo-1\",\"model_dir\":\"/opt/ml/model\",\"module_dir\":\"s3://sagemaker-us-west-2-904606187431/sagemaker-pytorch-2020-08-09-20-46-19-640/source/sourcedir.tar.gz\",\"module_name\":\"train\",\"network_interface_name\":\"eth0\",\"num_cpus\":4,\"num_gpus\":1,\"output_data_dir\":\"/opt/ml/output/data\",\"output_dir\":\"/opt/ml/output\",\"output_intermediate_dir\":\"/opt/ml/output/intermediate\",\"resource_config\":{\"current_host\":\"algo-1\",\"hosts\":[\"algo-1\"],\"network_interface_name\":\"eth0\"},\"user_entry_point\":\"train.py\"}\u001b[0m\n",
      "\u001b[34mSM_USER_ARGS=[\"--epochs\",\"15\",\"--hidden_dim\",\"300\"]\u001b[0m\n",
      "\u001b[34mSM_OUTPUT_INTERMEDIATE_DIR=/opt/ml/output/intermediate\u001b[0m\n",
      "\u001b[34mSM_CHANNEL_TRAINING=/opt/ml/input/data/training\u001b[0m\n",
      "\u001b[34mSM_HP_HIDDEN_DIM=300\u001b[0m\n",
      "\u001b[34mSM_HP_EPOCHS=15\u001b[0m\n",
      "\u001b[34mPYTHONPATH=/usr/local/bin:/usr/lib/python36.zip:/usr/lib/python3.6:/usr/lib/python3.6/lib-dynload:/usr/local/lib/python3.6/dist-packages:/usr/lib/python3/dist-packages\n",
      "\u001b[0m\n",
      "\u001b[34mInvoking script with the following command:\n",
      "\u001b[0m\n",
      "\u001b[34m/usr/bin/python -m train --epochs 15 --hidden_dim 300\n",
      "\n",
      "\u001b[0m\n",
      "\u001b[34mUsing cuda to train...\u001b[0m\n",
      "\u001b[34mCreating dataloader...\u001b[0m\n",
      "\u001b[34mModel loaded with embedding_dim: 42, hidden_dim: 300, vocab_size: 5000\u001b[0m\n"
     ]
    },
    {
     "name": "stdout",
     "output_type": "stream",
     "text": [
      "\u001b[34m2020-08-09 21:06:36,903 sagemaker-containers INFO     Reporting training SUCCESS\u001b[0m\n",
      "\n",
      "2020-08-09 21:06:46 Uploading - Uploading generated training model\n",
      "2020-08-09 21:06:46 Completed - Training job completed\n",
      "Training seconds: 1086\n",
      "Billable seconds: 1086\n"
     ]
    }
   ],
   "source": [
    "pytorch_estimator.fit({'training': training_data})"
   ]
  },
  {
   "cell_type": "markdown",
   "metadata": {},
   "source": [
    "<a id='deploy'></a>\n",
    "## Deploy the Trained Model"
   ]
  },
  {
   "cell_type": "code",
   "execution_count": null,
   "metadata": {},
   "outputs": [],
   "source": []
  },
  {
   "cell_type": "markdown",
   "metadata": {},
   "source": [
    "<a id='use'></a>\n",
    "## Use the Deployed Model for Inference"
   ]
  },
  {
   "cell_type": "code",
   "execution_count": null,
   "metadata": {},
   "outputs": [],
   "source": []
  }
 ],
 "metadata": {
  "kernelspec": {
   "display_name": "conda_pytorch_p36",
   "language": "python",
   "name": "conda_pytorch_p36"
  },
  "language_info": {
   "codemirror_mode": {
    "name": "ipython",
    "version": 3
   },
   "file_extension": ".py",
   "mimetype": "text/x-python",
   "name": "python",
   "nbconvert_exporter": "python",
   "pygments_lexer": "ipython3",
   "version": "3.6.10"
  }
 },
 "nbformat": 4,
 "nbformat_minor": 4
}
