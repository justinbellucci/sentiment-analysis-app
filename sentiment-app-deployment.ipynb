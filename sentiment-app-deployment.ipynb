{
 "cells": [
  {
   "cell_type": "markdown",
   "metadata": {},
   "source": [
    "# Creating a Sentiment Analysis Web App\n",
    "### Pytorch and AWS SageMaker\n",
    "_SageMaker, Lambda, API, CloudWatch_\n",
    "\n",
    "---\n",
    "Put an overview of the notebook here\n",
    "\n",
    "## Outline\n",
    "1. [Download the data](#download)\n",
    "2. [Process and prepare the data](#process)\n",
    "3. [Upload data to S3](#upload)\n",
    "4. [Train a model](#train)\n",
    "5. [Test the trained model](#test)\n",
    "6. [Deploy the trained model](#deploy)\n",
    "7. [Use the deployed model for inference](#use)\n"
   ]
  },
  {
   "cell_type": "markdown",
   "metadata": {},
   "source": [
    "<a id='download'></a>\n",
    "## Download the Data\n",
    "\n",
    "The notebook and model use the [IMDb dataset](http://ai.stanford.edu/~amaas/data/sentiment/).\n",
    "\n",
    "> Maas, Andrew L., et al. [Learning Word Vectors for Sentiment Analysis](http://ai.stanford.edu/~amaas/data/sentiment/). In _Proceedings of the 49th Annual Meeting of the Association for Computational Linguistics: Human Language Technologies_. Association for Computational Linguistics, 2011."
   ]
  },
  {
   "cell_type": "code",
   "execution_count": 3,
   "metadata": {},
   "outputs": [
    {
     "name": "stdout",
     "output_type": "stream",
     "text": [
      "--2020-08-03 17:35:31--  http://ai.stanford.edu/~amaas/data/sentiment/aclImdb_v1.tar.gz\n",
      "Resolving ai.stanford.edu (ai.stanford.edu)... 171.64.68.10\n",
      "Connecting to ai.stanford.edu (ai.stanford.edu)|171.64.68.10|:80... connected.\n",
      "HTTP request sent, awaiting response... 200 OK\n",
      "Length: 84125825 (80M) [application/x-gzip]\n",
      "Saving to: ‘../data/aclImdb_v1.tar.gz’\n",
      "\n",
      "../data/aclImdb_v1. 100%[===================>]  80.23M  11.6MB/s    in 6.5s    \n",
      "\n",
      "2020-08-03 17:35:38 (12.4 MB/s) - ‘../data/aclImdb_v1.tar.gz’ saved [84125825/84125825]\n",
      "\n"
     ]
    }
   ],
   "source": [
    "%mkdir ../data\n",
    "!wget -O ../data/aclImdb_v1.tar.gz http://ai.stanford.edu/~amaas/data/sentiment/aclImdb_v1.tar.gz\n",
    "!tar -zxf ../data/aclImdb_v1.tar.gz -C ../data"
   ]
  },
  {
   "cell_type": "markdown",
   "metadata": {},
   "source": [
    "<a id='process'></a>\n",
    "## Process and Prepare the Data\n",
    "\n",
    "---\n",
    "### Read in Data"
   ]
  },
  {
   "cell_type": "code",
   "execution_count": 1,
   "metadata": {},
   "outputs": [],
   "source": [
    "# necessary imports \n",
    "import os\n",
    "import glob"
   ]
  },
  {
   "cell_type": "code",
   "execution_count": 2,
   "metadata": {},
   "outputs": [],
   "source": [
    "def read_imbd_data(data_dir='../data/aclImdb'):\n",
    "    \"\"\" Read in IMDb data from aclImdb folder. Creates data and label dictionaries.\n",
    "    \n",
    "        Arguments:\n",
    "        - data_dir: (str) Directory of the data\n",
    "        \n",
    "        Returns:\n",
    "        - data: (dict) Movie review\n",
    "        - labels: (dict) Movie review labels\n",
    "    \"\"\"\n",
    "    data = {}\n",
    "    labels = {}\n",
    "    \n",
    "    # create paths to read in review data\n",
    "    for data_type in ['train', 'test']:\n",
    "        data[data_type] = {}\n",
    "        labels[data_type] = {}\n",
    "        \n",
    "        for sentiment in ['pos', 'neg']:\n",
    "            data[data_type][sentiment] = []\n",
    "            labels[data_type][sentiment] = []\n",
    "            \n",
    "            # join path names\n",
    "            path = os.path.join(data_dir, data_type, sentiment, '*.txt')\n",
    "            files = glob.glob(path)\n",
    "            \n",
    "            # open each review and label. Append to dictionaries and label with binary vars\n",
    "            for f in files:\n",
    "                with open(f) as review:\n",
    "                    data[data_type][sentiment].append(review.read())\n",
    "                    labels[data_type][sentiment].append(1 if sentiment == 'pos' else 0)\n",
    "                    \n",
    "            assert len(data[data_type][sentiment]) == len(labels[data_type][sentiment]), \\\n",
    "                       \"{}: data size does not equal {}: label size.\".format(data_type, sentiment)\n",
    "                    \n",
    "    return data, labels"
   ]
  },
  {
   "cell_type": "code",
   "execution_count": 4,
   "metadata": {},
   "outputs": [
    {
     "name": "stdout",
     "output_type": "stream",
     "text": [
      "IMDb Reviews: Train --> 12500 pos / 12500 neg ... Test --> 12500 pos / 12500 neg\n"
     ]
    }
   ],
   "source": [
    "# read in data and display length of train and test data\n",
    "data, labels = read_imbd_data()\n",
    "print(\"IMDb Reviews: Train --> {} pos / {} neg ... Test --> {} pos / {} neg\".format(len(data['train']['pos']),\n",
    "                                                                                    len(data['train']['neg']),\n",
    "                                                                                    len(labels['test']['pos']),\n",
    "                                                                                    len(labels['test']['pos'])))"
   ]
  },
  {
   "cell_type": "code",
   "execution_count": 5,
   "metadata": {},
   "outputs": [
    {
     "data": {
      "text/plain": [
       "\"I didn't know what to make of this film. I guess that is what it was all about really. I have never seen a film like it and I doubt that I really ever will again. Glover puts together something that is unique to him. I think to appreciate it you have to read some of his poetry, maybe see one of his slide shows. I really like this guy, he is just so bizarre I can't help it. Note: I saw this film before it was through its final editing, so maybe what I have seen and what others have seen are different. I will know, I guess, if I choose to view the film again. I think I will have to be properly drug influenced...\""
      ]
     },
     "execution_count": 5,
     "metadata": {},
     "output_type": "execute_result"
    }
   ],
   "source": [
    "data['train']['pos'][0]"
   ]
  },
  {
   "cell_type": "code",
   "execution_count": 6,
   "metadata": {},
   "outputs": [
    {
     "data": {
      "text/plain": [
       "1"
      ]
     },
     "execution_count": 6,
     "metadata": {},
     "output_type": "execute_result"
    }
   ],
   "source": [
    "labels['train']['pos'][0]"
   ]
  },
  {
   "cell_type": "markdown",
   "metadata": {},
   "source": [
    "---\n",
    "### Create Feature and Target Sets\n",
    "Combine the training and test data/labels and shuffle to creat feature and target sets."
   ]
  },
  {
   "cell_type": "code",
   "execution_count": 19,
   "metadata": {},
   "outputs": [],
   "source": [
    "# necessary imports \n",
    "from sklearn.utils import shuffle\n",
    "\n",
    "import nltk\n",
    "from nltk.corpus import stopwords\n",
    "from nltk.stem.porter import *\n",
    "import re\n",
    "from bs4 import BeautifulSoup\n",
    "\n",
    "import pickle"
   ]
  },
  {
   "cell_type": "code",
   "execution_count": 11,
   "metadata": {},
   "outputs": [],
   "source": [
    "def combine_imdb_data(data, labels):\n",
    "    \"\"\" Combine pos and neg reviews from the training and test data \n",
    "        dictionaries.\n",
    "        \n",
    "        Arguments:\n",
    "        - data: (dict) Unprocessed reviews\n",
    "        - labels: (dict) Sentiment label, 1 pos --> 0 neg\n",
    "        \n",
    "        Returns:\n",
    "        - train_X, test_X: features\n",
    "        - train_y, test_y: targets\n",
    "    \"\"\"\n",
    "    # combine positive and negative reviews and labels\n",
    "    train_data = data['train']['pos'] + data['train']['neg']\n",
    "    test_data = data['test']['pos'] + data['test']['neg']\n",
    "    train_labels = labels['train']['pos'] + labels['train']['neg']\n",
    "    test_labels = labels['test']['pos'] + labels['test']['neg']\n",
    "    \n",
    "    # using sklearn shuffle data\n",
    "    train_data, train_labels = shuffle(train_data, train_labels)\n",
    "    test_data, test_labels = shuffle(test_data, test_labels)\n",
    "    \n",
    "    return train_data, test_data, train_labels, test_labels"
   ]
  },
  {
   "cell_type": "code",
   "execution_count": 12,
   "metadata": {},
   "outputs": [
    {
     "name": "stdout",
     "output_type": "stream",
     "text": [
      "IMDb Data Length: Train data = 25000, Test data = 25000\n"
     ]
    }
   ],
   "source": [
    "train_X, test_X, train_y, test_y = combine_imdb_data(data, labels)\n",
    "print(\"IMDb Data Length: Train data = {}, Test data = {}\".format(len(train_X), len(test_X)))"
   ]
  },
  {
   "cell_type": "code",
   "execution_count": 13,
   "metadata": {},
   "outputs": [
    {
     "name": "stdout",
     "output_type": "stream",
     "text": [
      "Cary Grant and Myrna Loy are perfectly cast as a middle class couple who want to build the house of their dreams. It all starts out with reasonable plans and expectations, both of which are blown to bits by countless complications and an explosion of the original budget.<br /><br />There are many great laughs (even if the story is somewhat thin) sure to entertain fans of the stars or the late 1940s Hollywood comedy style. A definite highlight comes when a contractor goes through a run down of all expenses, which must have sounded quite excessive to a 1948 audience. As he makes his exit, he assures the client (Grant) that perhaps he could achieve a reduction of $100.00 from the total...or at least $50.00...but certainly $25.00. Hilarious! \n",
      "\n",
      "1\n"
     ]
    }
   ],
   "source": [
    "# take a look at a review and it's corresponding label\n",
    "print(train_X[20], '\\n')\n",
    "print(train_y[20])"
   ]
  },
  {
   "cell_type": "markdown",
   "metadata": {},
   "source": [
    "---\n",
    "### Process Review\n",
    "Remove the html formatting and convert the review into a list of words."
   ]
  },
  {
   "cell_type": "code",
   "execution_count": 14,
   "metadata": {},
   "outputs": [],
   "source": [
    "def review_to_words(review):\n",
    "    \"\"\" Converts a review string to a list of words. Removes html\n",
    "        formatting, stopwords and morphological endings of common\n",
    "        words.\n",
    "        \n",
    "        Arguments:\n",
    "        - review: (str) String of words that make up review\n",
    "        \n",
    "        Returns:\n",
    "        - words: (list) List of processed words in a review\n",
    "    \n",
    "    \"\"\" \n",
    "    nltk.download('stopwords', quiet=True)\n",
    "    stemmer = PorterStemmer()\n",
    "    \n",
    "    text = BeautifulSoup(review, 'html.parser').get_text() # remove html tags\n",
    "    text = re.sub(r\"[^a-zA-z0-9]\", \" \", text.lower()) \n",
    "    words = text.split() # split the string into a list of words\n",
    "    words = [word for word in words if word not in stopwords.words('english')] # remove stopwords\n",
    "    words = [stemmer.stem(word) for word in words] # stem words\n",
    "    \n",
    "    return words"
   ]
  },
  {
   "cell_type": "code",
   "execution_count": 15,
   "metadata": {},
   "outputs": [
    {
     "name": "stdout",
     "output_type": "stream",
     "text": [
      "['cari', 'grant', 'myrna', 'loy', 'perfectli', 'cast', 'middl', 'class', 'coupl', 'want', 'build', 'hous', 'dream', 'start', 'reason', 'plan', 'expect', 'blown', 'bit', 'countless', 'complic', 'explos', 'origin', 'budget', 'mani', 'great', 'laugh', 'even', 'stori', 'somewhat', 'thin', 'sure', 'entertain', 'fan', 'star', 'late', '1940', 'hollywood', 'comedi', 'style', 'definit', 'highlight', 'come', 'contractor', 'goe', 'run', 'expens', 'must', 'sound', 'quit', 'excess', '1948', 'audienc', 'make', 'exit', 'assur', 'client', 'grant', 'perhap', 'could', 'achiev', 'reduct', '100', '00', 'total', 'least', '50', '00', 'certainli', '25', '00', 'hilari']\n"
     ]
    }
   ],
   "source": [
    "words = review_to_words(train_X[20])\n",
    "print(words)"
   ]
  },
  {
   "cell_type": "code",
   "execution_count": 16,
   "metadata": {},
   "outputs": [],
   "source": [
    "cache_dir = os.path.join(\"../cache\", \"sentiment_analysis\")\n",
    "os.makedirs(cache_dir, exist_ok=True) \n",
    "\n",
    "def preprocess_data(train_data, test_data, train_labels, test_labels,\n",
    "                    cache_dir=cache_dir, cache_file='preprocesssed_data.pkl'):\n",
    "    \"\"\" Convert each review to words and read from the cache file if \n",
    "        available. \n",
    "    \n",
    "    \"\"\"\n",
    "    # if cache file exists try to read from it\n",
    "    cache_data = None\n",
    "    if cache_file is not None:\n",
    "        try:\n",
    "            with open(os.path.join(cache_dir, cache_file), \"rb\") as f: # open and read binary file\n",
    "                cache_data = pickle.load(f)\n",
    "                print(\"Reading preprocessed data from cache file: {}\".format(cache_file))\n",
    "        except:\n",
    "            pass\n",
    "        \n",
    "    # if cache data does not exist create it\n",
    "    if cache_data is None:\n",
    "        # process data to create list of words for each review\n",
    "        train_words = [review_to_words(review) for review in train_data]\n",
    "        test_words = [review_to_words(review) for review in test_data]\n",
    "        \n",
    "        # write to cache file if it doesn't exist\n",
    "        if cache_file is not None:\n",
    "            cache_data = dict(train_words=train_words, test_words=test_words,\n",
    "                              train_labels=train_labels, test_labels=test_labels)\n",
    "            with open(os.path.join(cache_dir, cache_file), \"wb\") as f:\n",
    "                pickle.dump(cache_data, f)\n",
    "            print(\"Wrote preprocessed data to cache file: {}\".format(cache_file))\n",
    "            \n",
    "    else:\n",
    "        # unpack data from cache file\n",
    "        train_words = cache_data['train_words']\n",
    "        test_words = cache_data['test_words']\n",
    "        train_labels = cache_data['train_labels']\n",
    "        test_labels = cache_data['test_labels']\n",
    "        \n",
    "    return train_words, test_words, train_labels, test_labels"
   ]
  },
  {
   "cell_type": "code",
   "execution_count": 17,
   "metadata": {},
   "outputs": [
    {
     "name": "stdout",
     "output_type": "stream",
     "text": [
      "Reading preprocessed data from cache file: preprocesssed_data.pkl\n"
     ]
    }
   ],
   "source": [
    "train_X, test_X, train_y, test_y = preprocess_data(train_X, test_X, train_y, test_y)"
   ]
  },
  {
   "cell_type": "code",
   "execution_count": 22,
   "metadata": {},
   "outputs": [
    {
     "name": "stdout",
     "output_type": "stream",
     "text": [
      "['could', 'anyon', 'pleas', 'stop', 'john', 'carpent', 'continu', 'deliber', 'ruin', 'reput', 'low', 'go', 'seem', 'man', 'lost', 'self', 'respect', 'episod', 'look', 'like', 'done', 'film', 'student', 'even', 'worth', 'begin', 'talk', 'bad', 'borefest', 'direct', 'somebodi', 'talent', 'filmmak', 'without', 'motiv', 'come', 'mr', 'carpent', 'pleas', 'retir', 'immedi', 'rest', 'self', 'esteem', 'stop', 'spill', 'trash', 'like', 'bad', 'tradit', 'escap', 'l', 'ghost', 'mar', 'get', 'drunk', 'instead']\n"
     ]
    }
   ],
   "source": [
    "len(train_X[20])\n",
    "print(train_X[20])"
   ]
  },
  {
   "cell_type": "markdown",
   "metadata": {},
   "source": [
    "---\n",
    "### Transform the Data\n",
    "First we will create a working vocabulary of the most frequently occuring words in our dataset. We will remove the words that occur most infrequently. Each review will be fixed in size with shorter reviews padded with zeros. This will allow our RNN to train more efficiently."
   ]
  },
  {
   "cell_type": "code",
   "execution_count": 21,
   "metadata": {},
   "outputs": [],
   "source": [
    "# necessary imports\n",
    "import numpy as np\n",
    "from collections import Counter"
   ]
  },
  {
   "cell_type": "code",
   "execution_count": 40,
   "metadata": {},
   "outputs": [],
   "source": [
    "def build_dict(data, vocab_size=5000):\n",
    "    \"\"\" Construct and return a dictionary mapping each of the most frequently \n",
    "        appearing words to a unique integer.\n",
    "        \n",
    "        Arguments:\n",
    "        - data: preprocessed reviews\n",
    "        - vacab_size: (int) size of vacabulary\n",
    "        \n",
    "        Returns:\n",
    "        - word_dict: dictionary of vocabulary mappings\n",
    "    \"\"\"\n",
    "    # count and sort the words \n",
    "    word_count = Counter(np.concatenate(train_X, axis = 0))\n",
    "    sorted_vocab = sorted(word_count, key=word_count.get, reverse=True)\n",
    "    \n",
    "    # create a word dictionary\n",
    "    word_dict = {word: idx+2 for idx, word in enumerate(sorted_vocab[:vocab_size-2])}\n",
    "    \n",
    "    return word_dict"
   ]
  },
  {
   "cell_type": "markdown",
   "metadata": {},
   "source": [
    "Take a look at the dictionary to make sure everything looks good. "
   ]
  },
  {
   "cell_type": "code",
   "execution_count": 38,
   "metadata": {},
   "outputs": [
    {
     "name": "stdout",
     "output_type": "stream",
     "text": [
      "{'movi': 2, 'film': 3, 'one': 4, 'like': 5, 'time': 6, 'good': 7, 'make': 8, 'charact': 9, 'get': 10, 'see': 11, 'watch': 12, 'stori': 13, 'even': 14, 'would': 15, 'realli': 16, 'well': 17, 'scene': 18, 'look': 19, 'show': 20, 'much': 21, 'end': 22, 'peopl': 23, 'bad': 24, 'go': 25, 'great': 26, 'also': 27, 'first': 28, 'love': 29, 'think': 30, 'way': 31, 'act': 32, 'play': 33, 'made': 34, 'thing': 35, 'could': 36, 'know': 37, 'say': 38, 'seem': 39, 'work': 40, 'plot': 41, 'two': 42, 'actor': 43, 'year': 44, 'come': 45, 'mani': 46, 'seen': 47, 'take': 48, 'life': 49, 'want': 50, 'never': 51, 'littl': 52, 'best': 53, 'tri': 54, 'man': 55, 'ever': 56, 'give': 57, 'better': 58, 'still': 59, 'perform': 60, 'find': 61, 'feel': 62, 'part': 63, 'back': 64, 'use': 65, 'someth': 66, 'director': 67, 'actual': 68, 'interest': 69, 'lot': 70, 'real': 71, 'old': 72, 'cast': 73, 'though': 74, 'live': 75, 'star': 76, 'enjoy': 77, 'guy': 78, 'anoth': 79, 'new': 80, 'role': 81, 'noth': 82, 'funni': 83, '10': 84, 'music': 85, 'point': 86, 'start': 87, 'set': 88, 'girl': 89, 'origin': 90, 'day': 91, 'world': 92, 'everi': 93, 'believ': 94, 'turn': 95, 'quit': 96, 'direct': 97, 'us': 98, 'thought': 99, 'fact': 100, 'minut': 101, 'horror': 102, 'kill': 103, 'action': 104, 'comedi': 105, 'pretti': 106, 'young': 107, 'wonder': 108, 'happen': 109, 'around': 110, 'got': 111, 'effect': 112, 'right': 113, 'long': 114, 'howev': 115, 'big': 116, 'line': 117, 'famili': 118, 'enough': 119, 'seri': 120, 'may': 121, 'need': 122, 'fan': 123, 'bit': 124, 'script': 125, 'beauti': 126, 'person': 127, 'becom': 128, 'without': 129, 'must': 130, 'alway': 131, 'friend': 132, 'tell': 133, 'reason': 134, 'saw': 135, 'last': 136, 'final': 137, 'kid': 138, 'almost': 139, 'put': 140, 'least': 141, 'sure': 142, 'done': 143, 'whole': 144, 'place': 145, 'complet': 146, 'kind': 147, 'expect': 148, 'differ': 149, 'shot': 150, 'far': 151, 'mean': 152, 'anyth': 153, 'book': 154, 'laugh': 155, 'might': 156, 'name': 157, 'sinc': 158, 'begin': 159, '2': 160, 'probabl': 161, 'woman': 162, 'help': 163, 'entertain': 164, 'let': 165, 'screen': 166, 'call': 167, 'tv': 168, 'moment': 169, 'away': 170, 'read': 171, 'yet': 172, 'rather': 173, 'worst': 174, 'run': 175, 'fun': 176, 'lead': 177, 'hard': 178, 'audienc': 179, 'idea': 180, 'anyon': 181, 'episod': 182, 'american': 183, 'found': 184, 'appear': 185, 'bore': 186, 'especi': 187, 'although': 188, 'hope': 189, 'keep': 190, 'cours': 191, 'anim': 192, 'job': 193, 'goe': 194, 'move': 195, 'sens': 196, 'dvd': 197, 'version': 198, 'war': 199, 'money': 200, 'someon': 201, 'mind': 202, 'mayb': 203, 'problem': 204, 'true': 205, 'hous': 206, 'everyth': 207, 'nice': 208, 'second': 209, 'rate': 210, 'three': 211, 'face': 212, 'follow': 213, 'recommend': 214, 'night': 215, 'main': 216, 'product': 217, 'worth': 218, 'leav': 219, 'human': 220, 'special': 221, 'excel': 222, 'togeth': 223, 'wast': 224, 'sound': 225, 'everyon': 226, 'john': 227, 'hand': 228, '1': 229, 'father': 230, 'later': 231, 'eye': 232, 'said': 233, 'view': 234, 'instead': 235, 'review': 236, 'boy': 237, 'high': 238, 'hour': 239, 'miss': 240, 'talk': 241, 'classic': 242, 'wife': 243, 'understand': 244, 'care': 245, 'left': 246, 'black': 247, 'death': 248, 'open': 249, 'murder': 250, 'write': 251, 'half': 252, 'head': 253, 'rememb': 254, 'chang': 255, 'viewer': 256, 'fight': 257, 'gener': 258, 'includ': 259, 'surpris': 260, 'short': 261, 'die': 262, 'fall': 263, 'less': 264, 'els': 265, 'entir': 266, 'piec': 267, 'involv': 268, 'pictur': 269, 'simpli': 270, 'home': 271, 'power': 272, 'top': 273, 'total': 274, 'usual': 275, 'budget': 276, 'attempt': 277, 'suppos': 278, 'hollywood': 279, 'releas': 280, 'terribl': 281, 'song': 282, 'men': 283, 'possibl': 284, 'featur': 285, 'portray': 286, 'disappoint': 287, '3': 288, 'poor': 289, 'coupl': 290, 'camera': 291, 'stupid': 292, 'dead': 293, 'wrong': 294, 'low': 295, 'produc': 296, 'video': 297, 'either': 298, 'aw': 299, 'definit': 300, 'except': 301, 'rest': 302, 'given': 303, 'absolut': 304, 'women': 305, 'lack': 306, 'word': 307, 'writer': 308, 'titl': 309, 'talent': 310, 'decid': 311, 'full': 312, 'perfect': 313, 'along': 314, 'style': 315, 'close': 316, 'truli': 317, 'school': 318, 'emot': 319, 'save': 320, 'age': 321, 'sex': 322, 'next': 323, 'bring': 324, 'case': 325, 'mr': 326, 'killer': 327, 'heart': 328, 'comment': 329, 'sort': 330, 'creat': 331, 'perhap': 332, 'came': 333, 'brother': 334, 'sever': 335, 'joke': 336, 'art': 337, 'dialogu': 338, 'game': 339, 'small': 340, 'base': 341, 'flick': 342, 'written': 343, 'sequenc': 344, 'meet': 345, 'earli': 346, 'often': 347, 'other': 348, 'mother': 349, 'develop': 350, 'humor': 351, 'actress': 352, 'consid': 353, 'dark': 354, 'guess': 355, 'amaz': 356, 'unfortun': 357, 'light': 358, 'lost': 359, 'exampl': 360, 'cinema': 361, 'drama': 362, 'ye': 363, 'white': 364, 'experi': 365, 'imagin': 366, 'mention': 367, 'stop': 368, 'natur': 369, 'forc': 370, 'manag': 371, 'felt': 372, 'cut': 373, 'present': 374, 'children': 375, 'fail': 376, 'son': 377, 'qualiti': 378, 'car': 379, 'support': 380, 'ask': 381, 'hit': 382, 'side': 383, 'voic': 384, 'extrem': 385, 'impress': 386, 'wors': 387, 'evil': 388, 'went': 389, 'stand': 390, 'certainli': 391, 'basic': 392, 'oh': 393, 'overal': 394, 'favorit': 395, 'horribl': 396, 'number': 397, 'mysteri': 398, 'type': 399, 'danc': 400, 'wait': 401, 'hero': 402, 'alreadi': 403, '5': 404, 'learn': 405, 'matter': 406, '4': 407, 'michael': 408, 'genr': 409, 'fine': 410, 'despit': 411, 'throughout': 412, 'walk': 413, 'success': 414, 'histori': 415, 'question': 416, 'zombi': 417, 'town': 418, 'relationship': 419, 'realiz': 420, 'past': 421, 'child': 422, 'daughter': 423, 'late': 424, 'b': 425, 'wish': 426, 'credit': 427, 'hate': 428, 'theme': 429, 'event': 430, 'touch': 431, 'citi': 432, 'today': 433, 'sometim': 434, 'behind': 435, 'god': 436, 'twist': 437, 'sit': 438, 'stay': 439, 'deal': 440, 'annoy': 441, 'abl': 442, 'rent': 443, 'pleas': 444, 'edit': 445, 'blood': 446, 'deserv': 447, 'anyway': 448, 'comic': 449, 'appar': 450, 'soon': 451, 'gave': 452, 'etc': 453, 'level': 454, 'slow': 455, 'chanc': 456, 'score': 457, 'bodi': 458, 'brilliant': 459, 'incred': 460, 'figur': 461, 'situat': 462, 'major': 463, 'self': 464, 'stuff': 465, 'decent': 466, 'element': 467, 'dream': 468, 'return': 469, 'obvious': 470, 'continu': 471, 'order': 472, 'pace': 473, 'ridicul': 474, 'happi': 475, 'group': 476, 'add': 477, 'highli': 478, 'thank': 479, 'ladi': 480, 'pain': 481, 'novel': 482, 'speak': 483, 'career': 484, 'shoot': 485, 'strang': 486, 'heard': 487, 'sad': 488, 'husband': 489, 'polic': 490, 'import': 491, 'break': 492, 'took': 493, 'cannot': 494, 'strong': 495, 'predict': 496, 'robert': 497, 'violenc': 498, 'hilari': 499, 'recent': 500, 'countri': 501, 'known': 502, 'particularli': 503, 'pick': 504, 'documentari': 505, 'season': 506, 'critic': 507, 'jame': 508, 'compar': 509, 'obviou': 510, 'alon': 511, 'told': 512, 'state': 513, 'rock': 514, 'exist': 515, 'theater': 516, 'visual': 517, 'offer': 518, 'opinion': 519, 'crap': 520, 'hold': 521, 'gore': 522, 'result': 523, 'hear': 524, 'realiti': 525, 'room': 526, 'effort': 527, 'clich': 528, 'thriller': 529, 'caus': 530, 'sequel': 531, 'serious': 532, 'explain': 533, 'king': 534, 'local': 535, 'ago': 536, 'none': 537, 'hell': 538, 'note': 539, 'allow': 540, 'sister': 541, 'david': 542, 'simpl': 543, 'femal': 544, 'deliv': 545, 'ok': 546, 'convinc': 547, 'class': 548, 'check': 549, 'suspens': 550, 'win': 551, 'buy': 552, 'oscar': 553, 'huge': 554, 'valu': 555, 'sexual': 556, 'cool': 557, 'scari': 558, 'excit': 559, 'similar': 560, 'exactli': 561, 'provid': 562, 'shown': 563, 'apart': 564, 'avoid': 565, 'seriou': 566, 'taken': 567, 'whose': 568, 'english': 569, 'cinematographi': 570, 'polit': 571, 'shock': 572, 'offic': 573, 'across': 574, 'spoiler': 575, 'middl': 576, 'pass': 577, 'street': 578, 'messag': 579, 'somewhat': 580, 'silli': 581, 'charm': 582, 'modern': 583, 'confus': 584, 'filmmak': 585, 'form': 586, 'tale': 587, 'singl': 588, 'jack': 589, 'mostli': 590, 'william': 591, 'carri': 592, 'attent': 593, 'sing': 594, 'subject': 595, 'prove': 596, 'richard': 597, 'five': 598, 'stage': 599, 'team': 600, 'unlik': 601, 'cop': 602, 'georg': 603, 'monster': 604, 'televis': 605, 'earth': 606, 'cover': 607, 'villain': 608, 'pay': 609, 'marri': 610, 'toward': 611, 'build': 612, 'pull': 613, 'parent': 614, 'due': 615, 'respect': 616, 'fill': 617, 'dialog': 618, 'four': 619, 'remind': 620, 'futur': 621, 'weak': 622, 'typic': 623, 'cheap': 624, '7': 625, 'intellig': 626, 'atmospher': 627, 'british': 628, 'clearli': 629, 'non': 630, 'dog': 631, '80': 632, 'artist': 633, 'knew': 634, 'fast': 635, 'paul': 636, '8': 637, 'crime': 638, 'easili': 639, 'escap': 640, 'doubt': 641, 'adult': 642, 'detail': 643, 'date': 644, 'fire': 645, 'romant': 646, 'member': 647, 'gun': 648, 'drive': 649, 'straight': 650, 'fit': 651, 'beyond': 652, 'attack': 653, 'imag': 654, 'upon': 655, 'posit': 656, 'whether': 657, 'fantast': 658, 'peter': 659, 'captur': 660, 'appreci': 661, 'aspect': 662, 'ten': 663, 'discov': 664, 'plan': 665, 'remain': 666, 'period': 667, 'near': 668, 'realist': 669, 'air': 670, 'mark': 671, 'red': 672, 'adapt': 673, 'dull': 674, 'within': 675, 'lose': 676, 'spend': 677, 'materi': 678, 'color': 679, 'chase': 680, 'mari': 681, 'storylin': 682, 'forget': 683, 'bunch': 684, 'clear': 685, 'lee': 686, 'victim': 687, 'nearli': 688, 'box': 689, 'york': 690, 'match': 691, 'inspir': 692, 'finish': 693, 'mess': 694, 'standard': 695, 'easi': 696, 'truth': 697, 'suffer': 698, 'busi': 699, 'bill': 700, 'western': 701, 'dramat': 702, 'space': 703, 'e': 704, 'battl': 705, 'list': 706, 'notic': 707, 'de': 708, 'french': 709, 'ad': 710, '9': 711, 'larg': 712, 'among': 713, 'tom': 714, 'eventu': 715, 'accept': 716, 'train': 717, 'agre': 718, 'soundtrack': 719, 'spirit': 720, 'third': 721, 'teenag': 722, 'adventur': 723, 'soldier': 724, 'suggest': 725, 'sorri': 726, 'famou': 727, 'drug': 728, 'babi': 729, 'cri': 730, 'normal': 731, 'ultim': 732, 'troubl': 733, 'certain': 734, 'contain': 735, 'cultur': 736, 'romanc': 737, 'rare': 738, 'lame': 739, 'somehow': 740, 'mix': 741, 'disney': 742, 'gone': 743, 'cartoon': 744, 'student': 745, 'fear': 746, 'reveal': 747, 'suck': 748, 'kept': 749, 'attract': 750, 'appeal': 751, 'premis': 752, 'secret': 753, 'greatest': 754, 'design': 755, 'shame': 756, 'throw': 757, 'copi': 758, 'scare': 759, 'wit': 760, 'admit': 761, 'brought': 762, 'relat': 763, 'america': 764, 'particular': 765, 'screenplay': 766, 'pure': 767, 'whatev': 768, '70': 769, 'averag': 770, 'harri': 771, 'describ': 772, 'master': 773, 'male': 774, 'treat': 775, '20': 776, 'fantasi': 777, 'issu': 778, 'inde': 779, 'warn': 780, 'forward': 781, 'background': 782, 'project': 783, 'free': 784, 'memor': 785, 'japanes': 786, 'poorli': 787, 'award': 788, 'locat': 789, 'amus': 790, 'potenti': 791, 'struggl': 792, 'weird': 793, 'magic': 794, 'societi': 795, 'okay': 796, 'imdb': 797, 'accent': 798, 'water': 799, 'hot': 800, 'express': 801, 'odd': 802, '30': 803, 'dr': 804, 'doctor': 805, 'alien': 806, 'choic': 807, 'studio': 808, 'fiction': 809, 'crazi': 810, 'control': 811, 'becam': 812, 'masterpiec': 813, 'difficult': 814, 'fli': 815, 'joe': 816, 'scream': 817, 'lover': 818, 'costum': 819, 'refer': 820, 'uniqu': 821, 'remak': 822, 'girlfriend': 823, 'vampir': 824, 'prison': 825, 'execut': 826, 'wear': 827, 'jump': 828, 'wood': 829, 'unless': 830, 'creepi': 831, 'cheesi': 832, 'superb': 833, 'otherwis': 834, 'parti': 835, 'roll': 836, 'ghost': 837, 'public': 838, 'depict': 839, 'moral': 840, 'week': 841, 'mad': 842, 'earlier': 843, 'jane': 844, 'badli': 845, 'fi': 846, 'dumb': 847, 'flaw': 848, 'grow': 849, 'sci': 850, 'deep': 851, 'maker': 852, 'cat': 853, 'older': 854, 'footag': 855, 'connect': 856, 'bother': 857, 'plenti': 858, 'outsid': 859, 'stick': 860, 'gay': 861, 'catch': 862, 'plu': 863, 'co': 864, 'popular': 865, 'equal': 866, 'social': 867, 'disturb': 868, 'quickli': 869, 'perfectli': 870, 'dress': 871, 'era': 872, 'mistak': 873, '90': 874, 'lie': 875, 'previou': 876, 'combin': 877, 'ride': 878, 'concept': 879, 'band': 880, 'surviv': 881, 'rich': 882, 'answer': 883, 'front': 884, 'sweet': 885, 'christma': 886, 'concern': 887, 'insid': 888, 'bare': 889, 'eat': 890, 'listen': 891, 'beat': 892, 'ben': 893, 'serv': 894, 'term': 895, 'meant': 896, 'c': 897, 'german': 898, 'stereotyp': 899, 'hardli': 900, 'la': 901, 'innoc': 902, 'law': 903, 'desper': 904, 'promis': 905, 'memori': 906, 'cute': 907, 'steal': 908, 'inform': 909, 'variou': 910, 'intent': 911, 'brain': 912, 'post': 913, 'tone': 914, 'amount': 915, 'island': 916, 'nuditi': 917, 'track': 918, 'compani': 919, 'store': 920, 'claim': 921, 'flat': 922, 'hair': 923, '50': 924, 'univers': 925, 'land': 926, 'kick': 927, 'danger': 928, 'fairli': 929, 'player': 930, 'scott': 931, 'crew': 932, 'plain': 933, 'step': 934, 'toni': 935, 'share': 936, 'centuri': 937, 'tast': 938, 'achiev': 939, 'engag': 940, 'travel': 941, 'suit': 942, 'rip': 943, 'record': 944, 'sadli': 945, 'manner': 946, 'tension': 947, 'cold': 948, 'wrote': 949, 'intens': 950, 'fascin': 951, 'spot': 952, 'familiar': 953, 'burn': 954, 'depth': 955, 'remark': 956, 'histor': 957, 'destroy': 958, 'sleep': 959, 'purpos': 960, 'languag': 961, 'ruin': 962, 'ignor': 963, 'delight': 964, 'unbeliev': 965, 'italian': 966, 'collect': 967, 'abil': 968, 'soul': 969, 'clever': 970, 'detect': 971, 'violent': 972, 'rape': 973, 'reach': 974, 'door': 975, 'trash': 976, 'liter': 977, 'scienc': 978, 'commun': 979, 'caught': 980, 'reveng': 981, 'creatur': 982, 'approach': 983, 'trip': 984, 'intrigu': 985, 'skill': 986, 'fashion': 987, 'paint': 988, 'introduc': 989, 'complex': 990, 'channel': 991, 'camp': 992, 'christian': 993, 'extra': 994, 'hole': 995, 'limit': 996, 'immedi': 997, 'ann': 998, 'slightli': 999, 'million': 1000, 'comput': 1001, '6': 1002, 'mental': 1003, 'mere': 1004, 'conclus': 1005, 'slasher': 1006, 'suddenli': 1007, 'imposs': 1008, 'teen': 1009, 'neither': 1010, 'spent': 1011, 'physic': 1012, 'crimin': 1013, 'nation': 1014, 'respons': 1015, 'fake': 1016, 'receiv': 1017, 'sick': 1018, 'blue': 1019, 'planet': 1020, 'bizarr': 1021, 'embarrass': 1022, 'indian': 1023, 'ring': 1024, '15': 1025, 'pop': 1026, 'drop': 1027, 'drag': 1028, 'haunt': 1029, 'suspect': 1030, 'pointless': 1031, 'search': 1032, 'edg': 1033, 'handl': 1034, 'biggest': 1035, 'common': 1036, 'arriv': 1037, 'faith': 1038, 'hurt': 1039, 'technic': 1040, 'genuin': 1041, 'dad': 1042, 'angel': 1043, 'awesom': 1044, 'van': 1045, 'former': 1046, 'colleg': 1047, 'solid': 1048, 'focu': 1049, 'f': 1050, 'count': 1051, 'tear': 1052, 'rais': 1053, 'wall': 1054, 'heavi': 1055, 'younger': 1056, 'laughabl': 1057, 'visit': 1058, 'fair': 1059, 'excus': 1060, 'sign': 1061, 'key': 1062, 'cult': 1063, 'motion': 1064, 'tough': 1065, 'desir': 1066, 'addit': 1067, 'stun': 1068, 'super': 1069, 'cloth': 1070, 'exploit': 1071, 'tortur': 1072, 'smith': 1073, 'race': 1074, 'author': 1075, 'davi': 1076, 'cross': 1077, 'jim': 1078, 'minor': 1079, 'consist': 1080, 'focus': 1081, 'compel': 1082, 'commit': 1083, 'chemistri': 1084, 'pathet': 1085, 'park': 1086, 'tradit': 1087, 'frank': 1088, 'obsess': 1089, 'grade': 1090, 'asid': 1091, '60': 1092, 'brutal': 1093, 'steve': 1094, 'explor': 1095, 'opportun': 1096, 'rule': 1097, 'somewher': 1098, 'u': 1099, 'depress': 1100, 'besid': 1101, 'dub': 1102, 'grant': 1103, 'honest': 1104, 'anti': 1105, 'intend': 1106, 'trailer': 1107, 'bar': 1108, 'regard': 1109, 'west': 1110, 'longer': 1111, 'scientist': 1112, 'judg': 1113, 'decad': 1114, 'silent': 1115, 'creativ': 1116, 'armi': 1117, 'wild': 1118, 'stewart': 1119, 'south': 1120, 'draw': 1121, 'g': 1122, 'road': 1123, 'boss': 1124, 'govern': 1125, 'practic': 1126, 'ex': 1127, 'motiv': 1128, 'club': 1129, 'gang': 1130, 'festiv': 1131, 'green': 1132, 'page': 1133, 'surprisingli': 1134, 'redeem': 1135, 'london': 1136, 'display': 1137, 'militari': 1138, 'machin': 1139, 'aliv': 1140, 'idiot': 1141, 'repeat': 1142, 'thrill': 1143, 'nobodi': 1144, 'yeah': 1145, 'folk': 1146, '100': 1147, '40': 1148, 'garbag': 1149, 'tire': 1150, 'journey': 1151, 'ground': 1152, 'smile': 1153, 'bought': 1154, 'mood': 1155, 'sam': 1156, 'stone': 1157, 'cost': 1158, 'mouth': 1159, 'terrif': 1160, 'noir': 1161, 'requir': 1162, 'utterli': 1163, 'agent': 1164, 'sexi': 1165, 'area': 1166, 'honestli': 1167, 'report': 1168, 'glad': 1169, 'geniu': 1170, 'humour': 1171, 'investig': 1172, 'enter': 1173, 'serial': 1174, 'narr': 1175, 'passion': 1176, 'occasion': 1177, 'marriag': 1178, 'climax': 1179, 'studi': 1180, 'industri': 1181, 'nowher': 1182, 'center': 1183, 'charli': 1184, 'ship': 1185, 'demon': 1186, 'loos': 1187, 'hors': 1188, 'bear': 1189, 'hang': 1190, 'wow': 1191, 'graphic': 1192, 'giant': 1193, 'send': 1194, 'admir': 1195, 'loud': 1196, 'nake': 1197, 'subtl': 1198, 'rel': 1199, 'profession': 1200, 'damn': 1201, 'bottom': 1202, 'blow': 1203, 'insult': 1204, 'boyfriend': 1205, 'kelli': 1206, 'doubl': 1207, 'r': 1208, 'initi': 1209, 'batman': 1210, 'gem': 1211, 'frame': 1212, 'affect': 1213, 'cinemat': 1214, 'challeng': 1215, 'church': 1216, 'drawn': 1217, 'opera': 1218, 'fulli': 1219, 'seek': 1220, 'nightmar': 1221, 'j': 1222, 'evid': 1223, 'l': 1224, 'essenti': 1225, 'arm': 1226, 'conflict': 1227, 'christoph': 1228, 'henri': 1229, 'wind': 1230, 'grace': 1231, 'assum': 1232, 'narrat': 1233, 'push': 1234, 'witch': 1235, 'wise': 1236, 'hunt': 1237, 'repres': 1238, 'nomin': 1239, 'month': 1240, 'chri': 1241, 'avail': 1242, 'affair': 1243, 'sceneri': 1244, 'hide': 1245, 'bond': 1246, 'smart': 1247, 'thu': 1248, 'outstand': 1249, 'justic': 1250, 'interview': 1251, 'satisfi': 1252, 'constantli': 1253, 'presenc': 1254, 'flashback': 1255, 'central': 1256, 'bed': 1257, 'iron': 1258, 'content': 1259, 'sell': 1260, 'everybodi': 1261, 'gag': 1262, 'hotel': 1263, 'slowli': 1264, 'hire': 1265, 'system': 1266, 'individu': 1267, 'adam': 1268, 'charl': 1269, 'thrown': 1270, 'mediocr': 1271, 'jone': 1272, 'allen': 1273, 'billi': 1274, 'lesson': 1275, 'ray': 1276, 'cameo': 1277, 'photographi': 1278, 'hey': 1279, 'fellow': 1280, 'strike': 1281, 'pari': 1282, 'independ': 1283, 'brief': 1284, 'absurd': 1285, 'rise': 1286, 'neg': 1287, 'phone': 1288, 'impact': 1289, 'born': 1290, 'ill': 1291, 'model': 1292, 'spoil': 1293, 'angl': 1294, 'fresh': 1295, 'likabl': 1296, 'abus': 1297, 'sight': 1298, 'sent': 1299, 'photograph': 1300, 'ahead': 1301, 'discuss': 1302, 'hill': 1303, 'occur': 1304, 'blame': 1305, 'mainli': 1306, 'logic': 1307, 'shine': 1308, 'forev': 1309, 'skip': 1310, 'commerci': 1311, 'surround': 1312, 'held': 1313, 'teacher': 1314, 'zero': 1315, 'segment': 1316, 'blond': 1317, 'summer': 1318, 'resembl': 1319, 'trap': 1320, 'satir': 1321, 'bruce': 1322, 'fool': 1323, 'ball': 1324, 'six': 1325, 'tragedi': 1326, 'sub': 1327, 'reaction': 1328, 'twice': 1329, 'pack': 1330, 'bomb': 1331, 'protagonist': 1332, 'will': 1333, 'hospit': 1334, 'mile': 1335, 'sport': 1336, 'vote': 1337, 'queen': 1338, 'trust': 1339, 'drink': 1340, 'mom': 1341, 'plane': 1342, 'encount': 1343, 'jerri': 1344, 'current': 1345, 'station': 1346, 'program': 1347, 'al': 1348, 'martin': 1349, 'choos': 1350, 'celebr': 1351, 'join': 1352, 'favourit': 1353, 'lord': 1354, 'round': 1355, 'tragic': 1356, 'field': 1357, 'robot': 1358, 'jean': 1359, 'tie': 1360, 'vision': 1361, 'arthur': 1362, 'random': 1363, 'roger': 1364, 'fortun': 1365, 'psycholog': 1366, 'intern': 1367, 'dread': 1368, 'nonsens': 1369, 'prefer': 1370, 'epic': 1371, 'improv': 1372, 'legend': 1373, 'formula': 1374, 'pleasur': 1375, 'highlight': 1376, 'tape': 1377, '11': 1378, 'dollar': 1379, 'gorgeou': 1380, 'wide': 1381, 'object': 1382, 'porn': 1383, 'thin': 1384, 'fox': 1385, 'influenc': 1386, 'buddi': 1387, 'ugli': 1388, 'nasti': 1389, 'ii': 1390, 'prepar': 1391, 'progress': 1392, 'warm': 1393, 'supposedli': 1394, 'reflect': 1395, 'youth': 1396, 'worthi': 1397, 'latter': 1398, 'length': 1399, 'unusu': 1400, 'crash': 1401, 'shop': 1402, 'superior': 1403, 'childhood': 1404, 'theatr': 1405, 'seven': 1406, 'remot': 1407, 'funniest': 1408, 'disgust': 1409, 'paid': 1410, 'pilot': 1411, 'trick': 1412, 'fell': 1413, 'convers': 1414, 'rob': 1415, 'establish': 1416, 'disast': 1417, 'gangster': 1418, 'disappear': 1419, 'ident': 1420, 'suicid': 1421, 'mine': 1422, 'heaven': 1423, 'castl': 1424, 'decis': 1425, 'mask': 1426, 'forgotten': 1427, 'heroin': 1428, 'singer': 1429, 'tend': 1430, 'brian': 1431, 'partner': 1432, 'alan': 1433, 'desert': 1434, 'recogn': 1435, 'thoroughli': 1436, 'ms': 1437, 'sky': 1438, 'stuck': 1439, 'replac': 1440, 'accur': 1441, 'market': 1442, 'p': 1443, 'commentari': 1444, 'seemingli': 1445, 'eddi': 1446, 'clue': 1447, 'uncl': 1448, 'andi': 1449, 'danni': 1450, 'therefor': 1451, 'refus': 1452, 'jackson': 1453, 'pair': 1454, 'that': 1455, 'devil': 1456, 'fault': 1457, 'fate': 1458, 'river': 1459, 'accid': 1460, 'unit': 1461, 'ed': 1462, 'tune': 1463, 'afraid': 1464, 'hidden': 1465, 'clean': 1466, 'stephen': 1467, 'russian': 1468, 'readi': 1469, 'convey': 1470, 'test': 1471, 'captain': 1472, 'quick': 1473, 'instanc': 1474, 'irrit': 1475, 'european': 1476, 'frustrat': 1477, 'insan': 1478, 'daniel': 1479, 'wed': 1480, 'food': 1481, '1950': 1482, 'chines': 1483, 'rescu': 1484, 'angri': 1485, 'lock': 1486, 'joy': 1487, 'steven': 1488, 'price': 1489, 'cage': 1490, 'bland': 1491, 'rang': 1492, 'anymor': 1493, 'wooden': 1494, 'news': 1495, 'jason': 1496, 'rush': 1497, 'led': 1498, 'board': 1499, 'worri': 1500, 'dirti': 1501, 'martial': 1502, 'n': 1503, 'symbol': 1504, 'transform': 1505, 'cgi': 1506, 'twenti': 1507, '12': 1508, 'hunter': 1509, 'onto': 1510, 'invent': 1511, 'piti': 1512, 'sentiment': 1513, 'attitud': 1514, 'explan': 1515, 'process': 1516, 'johnni': 1517, 'awar': 1518, 'owner': 1519, 'x': 1520, 'aim': 1521, 'energi': 1522, 'necessari': 1523, 'floor': 1524, 'target': 1525, 'favor': 1526, 'opposit': 1527, 'religi': 1528, 'insight': 1529, 'blind': 1530, 'chick': 1531, 'movement': 1532, 'mountain': 1533, 'deepli': 1534, 'possess': 1535, 'comparison': 1536, 'research': 1537, 'window': 1538, 'comed': 1539, 'whatsoev': 1540, 'grand': 1541, 'began': 1542, 'mid': 1543, 'rain': 1544, 'shadow': 1545, 'bank': 1546, 'parodi': 1547, 'princ': 1548, 'credibl': 1549, 'weapon': 1550, 'pre': 1551, 'friendship': 1552, 'taylor': 1553, 'flesh': 1554, 'dougla': 1555, 'teach': 1556, 'protect': 1557, 'bloodi': 1558, 'hint': 1559, 'terror': 1560, 'marvel': 1561, 'drunk': 1562, 'leader': 1563, 'anybodi': 1564, 'accord': 1565, 'watchabl': 1566, 'load': 1567, 'superman': 1568, 'brown': 1569, 'freddi': 1570, 'tim': 1571, 'appropri': 1572, 'seat': 1573, 'jeff': 1574, 'charg': 1575, 'villag': 1576, 'unknown': 1577, 'knock': 1578, 'keaton': 1579, 'empti': 1580, 'england': 1581, 'media': 1582, 'unnecessari': 1583, 'craft': 1584, 'wave': 1585, 'dare': 1586, 'strength': 1587, 'perspect': 1588, 'utter': 1589, 'contrast': 1590, 'nativ': 1591, 'ford': 1592, 'buck': 1593, 'hitler': 1594, 'distract': 1595, 'knowledg': 1596, 'speed': 1597, 'soap': 1598, 'enemi': 1599, 'nazi': 1600, 'correct': 1601, 'anywher': 1602, 'magnific': 1603, 'breath': 1604, 'ice': 1605, 'chill': 1606, 'fred': 1607, 'crowd': 1608, 'kiss': 1609, 'moon': 1610, 'joan': 1611, '1980': 1612, 'jr': 1613, 'frighten': 1614, 'kate': 1615, '000': 1616, 'soft': 1617, 'mission': 1618, 'hundr': 1619, 'nick': 1620, 'dan': 1621, 'dick': 1622, 'somebodi': 1623, 'radio': 1624, 'simon': 1625, 'thousand': 1626, 'dozen': 1627, 'academi': 1628, 'loss': 1629, 'andrew': 1630, 'shakespear': 1631, 'root': 1632, 'account': 1633, 'quot': 1634, 'vehicl': 1635, 'sum': 1636, 'behavior': 1637, 'convent': 1638, 'leg': 1639, 'gold': 1640, '1970': 1641, 'regular': 1642, 'pretenti': 1643, 'worker': 1644, 'demand': 1645, 'compet': 1646, 'candi': 1647, 'notabl': 1648, 'interpret': 1649, 'stretch': 1650, 'lynch': 1651, 'explos': 1652, 'japan': 1653, 'constant': 1654, 'privat': 1655, 'debut': 1656, 'tarzan': 1657, 'revolv': 1658, 'prais': 1659, 'sea': 1660, 'spi': 1661, 'translat': 1662, 'sat': 1663, 'quiet': 1664, 'failur': 1665, 'jesu': 1666, 'ass': 1667, 'technolog': 1668, 'franc': 1669, 'threaten': 1670, 'higher': 1671, 'aid': 1672, 'punch': 1673, 'kevin': 1674, 'met': 1675, 'mike': 1676, 'abandon': 1677, 'vh': 1678, 'interact': 1679, 'toy': 1680, 'separ': 1681, 'confront': 1682, 'command': 1683, 'bet': 1684, 'recal': 1685, 'belong': 1686, 'site': 1687, 'techniqu': 1688, 'stunt': 1689, 'servic': 1690, 'gotten': 1691, 'foot': 1692, 'freak': 1693, 'bug': 1694, 'cabl': 1695, 'bright': 1696, 'african': 1697, 'jimmi': 1698, 'capabl': 1699, 'fu': 1700, 'succeed': 1701, 'boat': 1702, 'stock': 1703, 'clark': 1704, 'fat': 1705, 'presid': 1706, 'structur': 1707, 'spanish': 1708, 'gene': 1709, 'kidnap': 1710, 'paper': 1711, 'factor': 1712, 'whilst': 1713, 'belief': 1714, 'attend': 1715, 'complic': 1716, 'witti': 1717, 'tree': 1718, 'educ': 1719, 'realis': 1720, 'bob': 1721, 'realism': 1722, 'broken': 1723, 'finest': 1724, 'assist': 1725, 'santa': 1726, 'determin': 1727, 'up': 1728, 'observ': 1729, 'v': 1730, 'smoke': 1731, 'depart': 1732, 'domin': 1733, 'hat': 1734, 'rubbish': 1735, 'lewi': 1736, 'routin': 1737, 'oper': 1738, 'fame': 1739, 'foreign': 1740, 'hook': 1741, 'morgan': 1742, 'advanc': 1743, 'kinda': 1744, 'safe': 1745, 'lone': 1746, 'numer': 1747, 'rank': 1748, 'shape': 1749, 'werewolf': 1750, 'vs': 1751, 'rose': 1752, 'civil': 1753, 'shallow': 1754, 'washington': 1755, 'gari': 1756, 'morn': 1757, 'accomplish': 1758, 'ordinari': 1759, 'winner': 1760, 'kong': 1761, 'peac': 1762, 'grab': 1763, 'virtual': 1764, 'whenev': 1765, 'luck': 1766, 'offens': 1767, 'h': 1768, 'activ': 1769, 'complain': 1770, 'contriv': 1771, 'unfunni': 1772, 'welcom': 1773, 'bigger': 1774, 'patient': 1775, 'dimension': 1776, 'pretend': 1777, 'con': 1778, 'cain': 1779, 'lesbian': 1780, 'wake': 1781, 'eric': 1782, 'code': 1783, 'trek': 1784, 'dri': 1785, 'flash': 1786, 'dancer': 1787, 'manipul': 1788, 'albert': 1789, 'corrupt': 1790, 'statu': 1791, 'guard': 1792, 'signific': 1793, 'context': 1794, 'speech': 1795, 'gain': 1796, 'sourc': 1797, 'awkward': 1798, 'corni': 1799, '13': 1800, 'clip': 1801, 'sean': 1802, 'advic': 1803, 'priest': 1804, 'anthoni': 1805, 'religion': 1806, 'curiou': 1807, 'theatric': 1808, 'reli': 1809, 'psycho': 1810, 'flow': 1811, 'w': 1812, 'secur': 1813, 'jennif': 1814, 'skin': 1815, 'addict': 1816, 'specif': 1817, 'asian': 1818, 'promot': 1819, 'comfort': 1820, 'golden': 1821, 'organ': 1822, 'core': 1823, 'howard': 1824, 'luke': 1825, 'cheat': 1826, 'lucki': 1827, 'cash': 1828, 'associ': 1829, 'lower': 1830, 'dislik': 1831, 'degre': 1832, 'regret': 1833, 'contribut': 1834, 'wing': 1835, 'balanc': 1836, 'spell': 1837, 'frankli': 1838, 'devic': 1839, 'frequent': 1840, 'lake': 1841, 'sake': 1842, 'forgiv': 1843, 'print': 1844, 'thoma': 1845, 'mass': 1846, 'betti': 1847, 'crack': 1848, 'unexpect': 1849, 'gordon': 1850, 'unfold': 1851, 'amateur': 1852, 'categori': 1853, 'construct': 1854, 'grown': 1855, 'invit': 1856, 'depend': 1857, 'walter': 1858, 'condit': 1859, 'honor': 1860, 'intellectu': 1861, 'matur': 1862, 'grew': 1863, 'anna': 1864, 'spectacular': 1865, 'veteran': 1866, 'sole': 1867, 'liner': 1868, 'overli': 1869, 'robin': 1870, 'experienc': 1871, 'meanwhil': 1872, 'demonstr': 1873, 'card': 1874, 'freedom': 1875, 'grip': 1876, 'oliv': 1877, 'circumst': 1878, 'mirror': 1879, 'theori': 1880, 'brilliantli': 1881, 'colour': 1882, 'sudden': 1883, 'unabl': 1884, 'subtitl': 1885, 'drew': 1886, 'crappi': 1887, 'section': 1888, 'gift': 1889, 'sheriff': 1890, 'sheer': 1891, 'parker': 1892, 'altern': 1893, 'laughter': 1894, 'path': 1895, 'cook': 1896, 'matt': 1897, 'pile': 1898, 'accident': 1899, 'defin': 1900, 'hall': 1901, 'lawyer': 1902, 'relief': 1903, 'wander': 1904, 'sinatra': 1905, 'captiv': 1906, 'treatment': 1907, 'hank': 1908, 'dragon': 1909, 'moor': 1910, 'gratuit': 1911, 'halloween': 1912, 'broadway': 1913, 'unintent': 1914, 'barbara': 1915, 'jacki': 1916, 'wound': 1917, 'cowboy': 1918, 'kung': 1919, 'wayn': 1920, 'surreal': 1921, 'k': 1922, 'winter': 1923, 'spoof': 1924, 'canadian': 1925, 'statement': 1926, 'treasur': 1927, 'fare': 1928, 'cheer': 1929, 'gonna': 1930, 'unrealist': 1931, 'compos': 1932, 'fish': 1933, 'woodi': 1934, 'sensit': 1935, 'victor': 1936, 'emerg': 1937, 'driven': 1938, 'neighbor': 1939, 'ran': 1940, 'sympathet': 1941, 'glass': 1942, 'overlook': 1943, 'expos': 1944, 'menac': 1945, 'topic': 1946, 'authent': 1947, 'gross': 1948, 'handsom': 1949, 'chief': 1950, 'ancient': 1951, 'michel': 1952, 'built': 1953, 'russel': 1954, 'comedian': 1955, 'pleasant': 1956, 'feet': 1957, 'nevertheless': 1958, 'network': 1959, 'contemporari': 1960, 'stranger': 1961, 'cinderella': 1962, 'consider': 1963, 'endless': 1964, 'underr': 1965, 'letter': 1966, 'miser': 1967, 'gori': 1968, 'blockbust': 1969, 'switch': 1970, 'solv': 1971, 'earn': 1972, 'brook': 1973, 'convict': 1974, 'victoria': 1975, 'edward': 1976, 'virgin': 1977, 'joseph': 1978, 'scale': 1979, 'chosen': 1980, 'cynic': 1981, 'bullet': 1982, '0': 1983, 'scenario': 1984, 'alex': 1985, 'outrag': 1986, 'curs': 1987, 'com': 1988, 'sword': 1989, 'wrap': 1990, 'juli': 1991, 'proper': 1992, 'driver': 1993, 'gut': 1994, 'uk': 1995, 'screenwrit': 1996, 'substanc': 1997, 'monkey': 1998, 'remov': 1999, 'court': 2000, 'par': 2001, 'bird': 2002, 'indic': 2003, 'grave': 2004, 'consequ': 2005, 'roy': 2006, 'loser': 2007, 'naiv': 2008, 'advertis': 2009, 'rental': 2010, 'nanci': 2011, 'inevit': 2012, 'germani': 2013, 'brave': 2014, 'invis': 2015, 'bridg': 2016, 'slap': 2017, 'fatal': 2018, 'provok': 2019, 'ador': 2020, 'anger': 2021, 'footbal': 2022, 'chan': 2023, 'loui': 2024, 'alcohol': 2025, 'anderson': 2026, 'ryan': 2027, 'professor': 2028, 'stumbl': 2029, 'willi': 2030, 'patrick': 2031, 'bat': 2032, 'sharp': 2033, 'le': 2034, '1930': 2035, 'australian': 2036, 'assassin': 2037, 'deni': 2038, 'saturday': 2039, 'trilog': 2040, 'heck': 2041, 'amateurish': 2042, 'lousi': 2043, 'refresh': 2044, 'ape': 2045, 'liber': 2046, 'strongli': 2047, 'cell': 2048, 'eight': 2049, 'sin': 2050, 'resid': 2051, 'vagu': 2052, 'justifi': 2053, 'san': 2054, 'reput': 2055, 'creator': 2056, 'terrifi': 2057, 'defeat': 2058, 'sympathi': 2059, 'indi': 2060, 'mini': 2061, 'tediou': 2062, 'task': 2063, 'tabl': 2064, 'expert': 2065, 'endur': 2066, 'prevent': 2067, 'employ': 2068, 'offend': 2069, 'rival': 2070, 'basebal': 2071, 'che': 2072, 'trial': 2073, 'pitch': 2074, 'max': 2075, 'beach': 2076, 'dig': 2077, 'complaint': 2078, 'imit': 2079, 'fairi': 2080, 'weekend': 2081, 'europ': 2082, 'purchas': 2083, 'format': 2084, 'murphi': 2085, 'risk': 2086, 'reminisc': 2087, 'harsh': 2088, 'tini': 2089, 'glimps': 2090, 'hype': 2091, 'bite': 2092, 'powel': 2093, 'nois': 2094, 'asleep': 2095, 'fals': 2096, 'till': 2097, 'strip': 2098, 'prime': 2099, 'north': 2100, '14': 2101, 'revel': 2102, 'descript': 2103, 'texa': 2104, 'africa': 2105, 'destruct': 2106, 'excess': 2107, 'sitcom': 2108, 'surfac': 2109, 'spin': 2110, 'arrest': 2111, 'uninterest': 2112, 'semi': 2113, 'inner': 2114, 'massiv': 2115, 'maintain': 2116, 'argu': 2117, 'makeup': 2118, 'titan': 2119, 'hitchcock': 2120, 'dinosaur': 2121, 'controversi': 2122, 'reject': 2123, 'insist': 2124, 'kim': 2125, 'twin': 2126, 'ludicr': 2127, 'stare': 2128, 'expens': 2129, 'melodrama': 2130, 'ideal': 2131, 'ala': 2132, 'press': 2133, 'supernatur': 2134, 'nail': 2135, 'subplot': 2136, 'ga': 2137, 'forest': 2138, 'erot': 2139, 'host': 2140, 'atroci': 2141, 'columbo': 2142, 'notch': 2143, 'identifi': 2144, 'cant': 2145, 'dude': 2146, 'presum': 2147, 'plagu': 2148, 'character': 2149, 'closer': 2150, 'forgett': 2151, 'method': 2152, 'guest': 2153, 'crude': 2154, 'landscap': 2155, 'lion': 2156, 'border': 2157, 'foster': 2158, 'beast': 2159, 'princess': 2160, 'ear': 2161, 'birth': 2162, 'bound': 2163, 'pacino': 2164, 'damag': 2165, 'urban': 2166, 'accus': 2167, 'aunt': 2168, 'storytel': 2169, 'previous': 2170, 'jungl': 2171, 'chose': 2172, 'jess': 2173, 'guid': 2174, 'propaganda': 2175, 'thirti': 2176, 'nude': 2177, 'doll': 2178, 'whoever': 2179, 'mate': 2180, '25': 2181, 'mainstream': 2182, 'warrior': 2183, 'exact': 2184, 'merit': 2185, 'emma': 2186, 'cooper': 2187, 'upset': 2188, 'gritti': 2189, 'latest': 2190, 'size': 2191, 'poster': 2192, 'deadli': 2193, 'pet': 2194, 'friday': 2195, '1990': 2196, 'settl': 2197, 'rough': 2198, 'popul': 2199, 'corps': 2200, 'blend': 2201, 'buff': 2202, 'sun': 2203, 'wilson': 2204, 'contest': 2205, 'ton': 2206, 'warner': 2207, 'citizen': 2208, 'rat': 2209, 'environ': 2210, 'alic': 2211, 'contact': 2212, 'bu': 2213, 'select': 2214, 'metal': 2215, 'mgm': 2216, 'overcom': 2217, 'lift': 2218, 'guilti': 2219, 'widow': 2220, 'revolut': 2221, 'ted': 2222, 'particip': 2223, 'pitt': 2224, 'link': 2225, 'afternoon': 2226, 'exagger': 2227, 'moron': 2228, 'johnson': 2229, 'corpor': 2230, '1960': 2231, 'matrix': 2232, 'corner': 2233, 'accompani': 2234, 'prostitut': 2235, 'doom': 2236, 'instal': 2237, 'hood': 2238, 'leagu': 2239, 'friendli': 2240, 'sincer': 2241, 'multipl': 2242, 'clair': 2243, 'holm': 2244, 'examin': 2245, 'advis': 2246, 'string': 2247, 'irish': 2248, 'campi': 2249, 'grim': 2250, 'sunday': 2251, 'lugosi': 2252, 'hip': 2253, 'junk': 2254, 'aka': 2255, 'blah': 2256, 'defend': 2257, 'rachel': 2258, 'varieti': 2259, 'confid': 2260, 'tight': 2261, 'shake': 2262, 'pro': 2263, 'icon': 2264, 'denni': 2265, 'directli': 2266, 'attach': 2267, 'medic': 2268, 'goal': 2269, 'shut': 2270, 'jaw': 2271, 'breast': 2272, 'terrorist': 2273, 'legendari': 2274, 'sullivan': 2275, 'dean': 2276, 'sarah': 2277, 'courag': 2278, 'mexican': 2279, 'sentenc': 2280, 'truck': 2281, 'prior': 2282, 'vietnam': 2283, 'duke': 2284, 'bourn': 2285, 'yell': 2286, 'donald': 2287, 'split': 2288, 'proceed': 2289, 'un': 2290, 'behav': 2291, 'hong': 2292, 'nose': 2293, 'entri': 2294, 'everywher': 2295, 'concentr': 2296, 'crush': 2297, 'borrow': 2298, 'jerk': 2299, 'unconvinc': 2300, 'swim': 2301, 'forth': 2302, 'gather': 2303, 'buri': 2304, 'confess': 2305, 'stolen': 2306, 'pan': 2307, 'california': 2308, 'turkey': 2309, 'spite': 2310, 'lifetim': 2311, 'deliveri': 2312, 'julia': 2313, 'lip': 2314, 'quest': 2315, 'offici': 2316, 'proud': 2317, 'hoffman': 2318, 'reward': 2319, 'flight': 2320, 'downright': 2321, 'freeman': 2322, 'fabul': 2323, 'notori': 2324, 'jail': 2325, 'encourag': 2326, 'lazi': 2327, 'fade': 2328, 'china': 2329, 'sir': 2330, 'inept': 2331, 'betray': 2332, 'jon': 2333, 'sink': 2334, 'worthwhil': 2335, 'imageri': 2336, 'shower': 2337, 'branagh': 2338, 'bag': 2339, 'relev': 2340, 'storm': 2341, 'teeth': 2342, 'bell': 2343, 'cousin': 2344, 'susan': 2345, 'retard': 2346, 'survivor': 2347, 'lisa': 2348, 'summari': 2349, 'shark': 2350, 'hugh': 2351, 'finger': 2352, 'toler': 2353, 'trade': 2354, 'bride': 2355, 'quirki': 2356, 'alright': 2357, 'mexico': 2358, 'stab': 2359, 'facial': 2360, 'tremend': 2361, 'von': 2362, 'hyster': 2363, 'bitter': 2364, 'blown': 2365, 'ha': 2366, 'pose': 2367, 'bone': 2368, 'address': 2369, 'ron': 2370, 'christ': 2371, 'scheme': 2372, 'afterward': 2373, 'ned': 2374, 'feed': 2375, 'thumb': 2376, 'distinct': 2377, 'swear': 2378, 'beg': 2379, 'snake': 2380, 'tour': 2381, 'screw': 2382, 'cruel': 2383, 'traci': 2384, 'pursu': 2385, 'mechan': 2386, 'larri': 2387, 'photo': 2388, 'raw': 2389, 'chair': 2390, 'occas': 2391, 'stomach': 2392, 'sidney': 2393, 'render': 2394, 'hardi': 2395, 'argument': 2396, 'necessarili': 2397, 'heavili': 2398, 'holiday': 2399, 'southern': 2400, 'cabin': 2401, 'obscur': 2402, 'chain': 2403, 'gruesom': 2404, 'resist': 2405, 'indulg': 2406, 'understood': 2407, 'racist': 2408, 'philip': 2409, 'india': 2410, 'stalk': 2411, 'lay': 2412, 'tongu': 2413, 'belov': 2414, 'midnight': 2415, 'pregnant': 2416, 'outfit': 2417, 'satan': 2418, 'obnoxi': 2419, 'forgot': 2420, 'fourth': 2421, 'integr': 2422, 'slapstick': 2423, 'restor': 2424, 'ticket': 2425, 'deeper': 2426, 'magazin': 2427, '17': 2428, 'garden': 2429, 'inhabit': 2430, 'carol': 2431, 'shoe': 2432, 'devot': 2433, 'incid': 2434, 'brad': 2435, 'lincoln': 2436, 'maria': 2437, 'divorc': 2438, 'sandler': 2439, 'anticip': 2440, 'guarante': 2441, 'benefit': 2442, 'underground': 2443, 'disbelief': 2444, 'lili': 2445, 'mildli': 2446, 'capit': 2447, 'princip': 2448, 'greater': 2449, 'slave': 2450, 'creation': 2451, 'cring': 2452, 'explod': 2453, 'elizabeth': 2454, 'bbc': 2455, 'amazingli': 2456, 'funnier': 2457, 'halfway': 2458, 'extraordinari': 2459, 'introduct': 2460, 'overwhelm': 2461, 'text': 2462, 'enhanc': 2463, 'extent': 2464, 'punish': 2465, 'tap': 2466, 'wreck': 2467, 'advantag': 2468, 'lesli': 2469, 'transfer': 2470, 'deliber': 2471, 'error': 2472, 'dynam': 2473, 'preview': 2474, 'east': 2475, 'horrif': 2476, 'lo': 2477, 'lane': 2478, 'plant': 2479, 'jessica': 2480, 'appli': 2481, 'ensu': 2482, '2000': 2483, 'miscast': 2484, 'sophist': 2485, 'basi': 2486, 'vacat': 2487, 'miller': 2488, 'homosexu': 2489, 'vincent': 2490, 'extend': 2491, 'steel': 2492, 'reed': 2493, 'measur': 2494, 'spoken': 2495, 'uncomfort': 2496, 'via': 2497, 'bollywood': 2498, 'elev': 2499, 'sleazi': 2500, 'mansion': 2501, 'conceiv': 2502, 'goofi': 2503, 'mous': 2504, 'savag': 2505, 'assign': 2506, 'hippi': 2507, 'breathtak': 2508, 'daili': 2509, 'alter': 2510, 'beer': 2511, 'fix': 2512, 'overact': 2513, 'dentist': 2514, 'melt': 2515, 'carpent': 2516, 'cathol': 2517, 'everyday': 2518, 'oppos': 2519, 'blair': 2520, 'properli': 2521, 'subsequ': 2522, 'nowaday': 2523, 'sacrific': 2524, 'succe': 2525, 'burt': 2526, 'stanley': 2527, 'inspector': 2528, 'block': 2529, 'circl': 2530, 'laura': 2531, 'massacr': 2532, 'neck': 2533, 'seagal': 2534, 'portrait': 2535, 'christi': 2536, 'grey': 2537, 'lesser': 2538, 'access': 2539, 'fallen': 2540, 'concert': 2541, 'fay': 2542, 'pool': 2543, 'mob': 2544, 'react': 2545, 'relax': 2546, 'jake': 2547, 'isol': 2548, 'usa': 2549, 'chees': 2550, 'jewish': 2551, 'competit': 2552, 'sinist': 2553, 'appal': 2554, 'nine': 2555, 'suitabl': 2556, 'spiritu': 2557, 'stink': 2558, '2006': 2559, 'lyric': 2560, 'ironi': 2561, 'creep': 2562, 'immens': 2563, 'chop': 2564, 'nonetheless': 2565, 'luci': 2566, 'shirt': 2567, 'nut': 2568, 'reduc': 2569, 'adopt': 2570, 'rage': 2571, 'showcas': 2572, 'franchis': 2573, 'spring': 2574, 'needless': 2575, 'sold': 2576, 'navi': 2577, 'user': 2578, 'retir': 2579, 'uninspir': 2580, 'bulli': 2581, 'zone': 2582, 'nurs': 2583, 'digit': 2584, 'per': 2585, 'asham': 2586, 'bath': 2587, 'jay': 2588, 'stanwyck': 2589, 'illustr': 2590, 'oddli': 2591, 'broadcast': 2592, 'amongst': 2593, 'sutherland': 2594, '1940': 2595, 'laid': 2596, 'upper': 2597, 'aspir': 2598, 'fulfil': 2599, 'throat': 2600, '2001': 2601, 'disguis': 2602, 'baker': 2603, 'stylish': 2604, 'brando': 2605, 'wwii': 2606, 'impli': 2607, 'wanna': 2608, 'pound': 2609, 'endear': 2610, 'thief': 2611, 'nobl': 2612, '18': 2613, 'neighborhood': 2614, 'albeit': 2615, 'prop': 2616, 'coher': 2617, 'distribut': 2618, 'diseas': 2619, 'shift': 2620, 'rochest': 2621, 'dawn': 2622, 'shoulder': 2623, 'pride': 2624, 'bo': 2625, 'tens': 2626, 'dinner': 2627, 'em': 2628, 'snow': 2629, 'cinematograph': 2630, 'matthau': 2631, 'shout': 2632, 'surf': 2633, 'wash': 2634, 'forti': 2635, 'function': 2636, 'knife': 2637, 'bett': 2638, '16': 2639, 'rebel': 2640, 'contract': 2641, 'poignant': 2642, 'height': 2643, 'chuck': 2644, 'derek': 2645, 'internet': 2646, 'mindless': 2647, 'cancel': 2648, 'horrend': 2649, 'instinct': 2650, 'silver': 2651, 'widmark': 2652, 'elvira': 2653, 'silenc': 2654, 'proof': 2655, 'eeri': 2656, 'duti': 2657, 'henc': 2658, 'heat': 2659, 'cannib': 2660, 'neat': 2661, 'etern': 2662, 'musician': 2663, 'innov': 2664, 'alik': 2665, 'pie': 2666, 'absorb': 2667, 'premier': 2668, 'spielberg': 2669, 'incoher': 2670, 'greatli': 2671, 'torn': 2672, 'mill': 2673, 'reunion': 2674, 'repetit': 2675, 'elvi': 2676, 'precis': 2677, 'glori': 2678, 'redempt': 2679, 'infam': 2680, 'horrifi': 2681, 'britain': 2682, 'itali': 2683, 'lovabl': 2684, 'homag': 2685, 'racism': 2686, 'crisi': 2687, 'announc': 2688, 'trite': 2689, 'wealthi': 2690, 'burton': 2691, 'fbi': 2692, 'diamond': 2693, 'blank': 2694, 'bang': 2695, 'nelson': 2696, 'flop': 2697, 'parallel': 2698, 'happili': 2699, 'resolut': 2700, 'ensembl': 2701, 'dedic': 2702, 'chaplin': 2703, 'hammer': 2704, 'pat': 2705, 'helen': 2706, 'streisand': 2707, 'wilder': 2708, 'plastic': 2709, 'mar': 2710, 'conclud': 2711, 'factori': 2712, 'carter': 2713, 'disagre': 2714, 'broke': 2715, 'triumph': 2716, 'st': 2717, 'oil': 2718, 'cube': 2719, 'weight': 2720, 'vega': 2721, 'chuckl': 2722, 'row': 2723, 'bush': 2724, 'fighter': 2725, 'rocket': 2726, 'march': 2727, 'own': 2728, 'climb': 2729, 'unforgett': 2730, 'meaning': 2731, 'dump': 2732, 'lust': 2733, 'luca': 2734, 'sensibl': 2735, 'enorm': 2736, 'kurt': 2737, 'spare': 2738, 'wherea': 2739, 'boot': 2740, 'dane': 2741, 'mst3k': 2742, 'thug': 2743, 'dear': 2744, 'difficulti': 2745, 'fifti': 2746, 'stress': 2747, 'brand': 2748, 'rap': 2749, 'engin': 2750, 'butt': 2751, 'karloff': 2752, 'caricatur': 2753, 'adequ': 2754, 'bobbi': 2755, 'threat': 2756, 'elabor': 2757, 'hamlet': 2758, 'polish': 2759, 'ralph': 2760, 'journalist': 2761, 'secretari': 2762, 'homeless': 2763, 'arrog': 2764, 'ego': 2765, 'fest': 2766, 'swing': 2767, 'barri': 2768, 'flynn': 2769, 'fanci': 2770, 'induc': 2771, 'simpson': 2772, 'spike': 2773, 'float': 2774, 'arnold': 2775, 'arrang': 2776, 'puppet': 2777, 'tool': 2778, 'resort': 2779, 'conspiraci': 2780, 'unbear': 2781, 'grate': 2782, 'guilt': 2783, 'pig': 2784, 'choreograph': 2785, 'basement': 2786, 'cruis': 2787, 'boll': 2788, 'phillip': 2789, 'tribut': 2790, 'muppet': 2791, 'exercis': 2792, '24': 2793, 'fianc': 2794, 'stan': 2795, 'toilet': 2796, 'medium': 2797, 'tower': 2798, 'editor': 2799, 'slip': 2800, 'item': 2801, 'korean': 2802, 'puzzl': 2803, 'babe': 2804, 'document': 2805, 'ward': 2806, 'ham': 2807, 'scarecrow': 2808, 'file': 2809, 'layer': 2810, 'larger': 2811, 'inexplic': 2812, 'spark': 2813, 'territori': 2814, 'persona': 2815, 'glover': 2816, 'portion': 2817, 'orient': 2818, 'slaughter': 2819, 'minim': 2820, 'transit': 2821, 'philosoph': 2822, 'librari': 2823, 'superfici': 2824, 'denzel': 2825, 'catherin': 2826, 'assur': 2827, 'doc': 2828, 'boredom': 2829, 'owe': 2830, 'financi': 2831, 'wolf': 2832, 'walken': 2833, 'jeremi': 2834, 'sneak': 2835, 'dorothi': 2836, 'jet': 2837, 'curti': 2838, 'shi': 2839, 'ban': 2840, 'pg': 2841, 'ambigu': 2842, 'backdrop': 2843, 'hudson': 2844, 'eleph': 2845, 'profound': 2846, 'metaphor': 2847, 'cusack': 2848, 'multi': 2849, 'union': 2850, 'birthday': 2851, 'implaus': 2852, 'ultra': 2853, 'notion': 2854, 'hack': 2855, 'whale': 2856, 'elsewher': 2857, 'viru': 2858, '2005': 2859, 'stiff': 2860, 'rave': 2861, 'gadget': 2862, 'disc': 2863, 'reader': 2864, 'distanc': 2865, 'canada': 2866, 'squar': 2867, 'urg': 2868, 'newspap': 2869, 'hawk': 2870, 'afford': 2871, 'bibl': 2872, 'poison': 2873, 'slight': 2874, 'pad': 2875, 'deriv': 2876, 'lloyd': 2877, '1st': 2878, 'eva': 2879, 'eastwood': 2880, 'button': 2881, 'health': 2882, 'heston': 2883, 'drown': 2884, 'sadist': 2885, 'cure': 2886, 'montag': 2887, 'spread': 2888, 'skit': 2889, 'charisma': 2890, 'essenc': 2891, 'restaur': 2892, 'lab': 2893, 'dealt': 2894, 'companion': 2895, 'huh': 2896, 'maniac': 2897, 'peak': 2898, 'godfath': 2899, 'fetch': 2900, 'estat': 2901, 'muslim': 2902, 'gradual': 2903, 'invest': 2904, 'superhero': 2905, 'scoobi': 2906, 'servant': 2907, 'tea': 2908, 'cup': 2909, 'ritter': 2910, 'subtleti': 2911, 'kane': 2912, 'gothic': 2913, 'alli': 2914, 'countless': 2915, 'miik': 2916, 'charismat': 2917, 'electr': 2918, 'heroic': 2919, 'iii': 2920, 'elect': 2921, 'salli': 2922, 'briefli': 2923, 'resourc': 2924, 'tender': 2925, 'neil': 2926, 'admittedli': 2927, 'toss': 2928, 'ingredi': 2929, 'bud': 2930, 'nuanc': 2931, 'wannab': 2932, 'grandmoth': 2933, 'reel': 2934, 'cole': 2935, 'reev': 2936, 'pit': 2937, 'stood': 2938, 'mild': 2939, 'punk': 2940, 'label': 2941, 'stronger': 2942, 'pauli': 2943, 'poverti': 2944, 'gate': 2945, 'dawson': 2946, 'mafia': 2947, 'assault': 2948, 'updat': 2949, 'terri': 2950, 'bakshi': 2951, 'burst': 2952, 'cox': 2953, 'fond': 2954, 'easier': 2955, 'shall': 2956, 'outcom': 2957, 'smooth': 2958, 'ian': 2959, 'tag': 2960, 'useless': 2961, 'astair': 2962, 'smash': 2963, 'cardboard': 2964, 'kubrick': 2965, '2002': 2966, 'melodramat': 2967, 'sketch': 2968, 'vulner': 2969, 'resolv': 2970, 'rex': 2971, 'divers': 2972, 'qualifi': 2973, 'increasingli': 2974, 'coincid': 2975, 'samurai': 2976, 'exchang': 2977, 'vari': 2978, 'carrey': 2979, 'blast': 2980, 'brillianc': 2981, 'be': 2982, 'tame': 2983, 'fist': 2984, 'suspend': 2985, 'templ': 2986, 'scratch': 2987, 'luckili': 2988, 'conveni': 2989, 'reynold': 2990, 'gotta': 2991, 'ambiti': 2992, 'seventi': 2993, 'meat': 2994, 'nuclear': 2995, 'hamilton': 2996, 'matthew': 2997, 'pin': 2998, 'insert': 2999, 'farm': 3000, 'walker': 3001, 'jami': 3002, 'coach': 3003, 'soprano': 3004, 'closet': 3005, 'brosnan': 3006, 'recreat': 3007, 'struck': 3008, 'timeless': 3009, 'ninja': 3010, 'monk': 3011, 'clock': 3012, 'fisher': 3013, 'kudo': 3014, 'worthless': 3015, 'cave': 3016, 'instantli': 3017, 'eccentr': 3018, 'discoveri': 3019, 'spooki': 3020, 'convolut': 3021, 'butcher': 3022, 'strictli': 3023, 'revers': 3024, 'grasp': 3025, 'joey': 3026, 'sidekick': 3027, 'empir': 3028, 'wipe': 3029, 'gray': 3030, 'partli': 3031, 'importantli': 3032, 'sloppi': 3033, 'eighti': 3034, 'evok': 3035, 'inconsist': 3036, 'declar': 3037, 'fifteen': 3038, 'communist': 3039, 'bleak': 3040, 'pal': 3041, 'mitchel': 3042, 'cliff': 3043, 'seller': 3044, 'selfish': 3045, 'clown': 3046, 'norman': 3047, 'websit': 3048, 'chew': 3049, 'stoog': 3050, 'enthusiast': 3051, 'psychiatrist': 3052, 'destin': 3053, 'aforement': 3054, 'flawless': 3055, 'debat': 3056, 'ho': 3057, 'superbl': 3058, 'cheek': 3059, 'seed': 3060, 'lifestyl': 3061, 'miracl': 3062, 'farc': 3063, 'piano': 3064, 'australia': 3065, 'kitchen': 3066, 'wrestl': 3067, 'regardless': 3068, 'slice': 3069, 'pressur': 3070, 'incompet': 3071, 'splatter': 3072, 'dash': 3073, 'soviet': 3074, 'dire': 3075, 'emili': 3076, 'directori': 3077, 'drivel': 3078, 'wick': 3079, 'bash': 3080, '45': 3081, 'akshay': 3082, 'abc': 3083, 'recov': 3084, 'judi': 3085, 'flower': 3086, 'ken': 3087, 'suppli': 3088, 'chapter': 3089, 'distant': 3090, 'glow': 3091, 'boil': 3092, 'curios': 3093, 'increas': 3094, 'pleasantli': 3095, 'helicopt': 3096, 'seduc': 3097, 'anni': 3098, 'mann': 3099, 'prize': 3100, 'jar': 3101, 'dave': 3102, 'cameron': 3103, 'beaten': 3104, 'cagney': 3105, 'cia': 3106, 'duo': 3107, 'artifici': 3108, 'lou': 3109, 'doo': 3110, 'blob': 3111, 'favour': 3112, 'laurel': 3113, 'splendid': 3114, 'glenn': 3115, 'web': 3116, 'ranger': 3117, 'psychot': 3118, 'craven': 3119, 'craig': 3120, 'drunken': 3121, 'perri': 3122, 'combat': 3123, 'turner': 3124, 'eleg': 3125, 'francisco': 3126, 'hop': 3127, 'goldberg': 3128, 'ellen': 3129, 'shortli': 3130, '20th': 3131, 'min': 3132, 'falk': 3133, 'fx': 3134, 'gentl': 3135, 'plausibl': 3136, 'flip': 3137, 'rid': 3138, 'hatr': 3139, 'slightest': 3140, 'greek': 3141, 'alexand': 3142, 'ruth': 3143, 'gandhi': 3144, 'modesti': 3145, 'graduat': 3146, 'legal': 3147, 'ocean': 3148, 'wizard': 3149, 'philosophi': 3150, 'we': 3151, 'preciou': 3152, 'jealou': 3153, 'holi': 3154, 'lend': 3155, 'fund': 3156, 'felix': 3157, 'futurist': 3158, 'tall': 3159, 'manhattan': 3160, 'knight': 3161, 'harm': 3162, 'panic': 3163, 'unpleas': 3164, 'digniti': 3165, 'bless': 3166, 'scientif': 3167, 'nod': 3168, 'forbidden': 3169, 'childish': 3170, 'overdon': 3171, 'tank': 3172, 'reviv': 3173, 'dracula': 3174, 'thread': 3175, 'giallo': 3176, 'mock': 3177, 'explicit': 3178, 'ami': 3179, 'yesterday': 3180, 'mel': 3181, 'torment': 3182, 'nerv': 3183, '99': 3184, 'eve': 3185, 'broad': 3186, 'fever': 3187, 'pirat': 3188, 'unwatch': 3189, 'thick': 3190, 'awaken': 3191, 'margaret': 3192, 'elderli': 3193, '2004': 3194, 'awe': 3195, 'repeatedli': 3196, 'verhoeven': 3197, 'uniform': 3198, 'ambit': 3199, 'lean': 3200, 'absenc': 3201, 'timothi': 3202, 'automat': 3203, 'roman': 3204, 'publish': 3205, 'eas': 3206, 'ah': 3207, 'royal': 3208, 'bin': 3209, 'rivet': 3210, 'romero': 3211, 'custom': 3212, 'acclaim': 3213, 'politician': 3214, 'kay': 3215, 'launch': 3216, 'stiller': 3217, 'griffith': 3218, 'transport': 3219, 'pierc': 3220, 'termin': 3221, 'tomato': 3222, 'bathroom': 3223, 'purpl': 3224, 'warren': 3225, 'sunshin': 3226, 'wallac': 3227, 'stinker': 3228, 'darker': 3229, 'antic': 3230, 'foul': 3231, 'crook': 3232, 'phrase': 3233, 'gabriel': 3234, 'rambo': 3235, 'viciou': 3236, 'kenneth': 3237, 'ought': 3238, 'karen': 3239, 'pulp': 3240, 'sixti': 3241, 'brazil': 3242, 'album': 3243, 'revolutionari': 3244, 'packag': 3245, 'choreographi': 3246, 'marin': 3247, 'juvenil': 3248, 'prom': 3249, 'donna': 3250, 'contrari': 3251, 'coloni': 3252, 'evolv': 3253, 'q': 3254, 'horrid': 3255, '2003': 3256, 'saint': 3257, 'awak': 3258, 'pray': 3259, 'dose': 3260, 'mummi': 3261, 'ireland': 3262, 'twelv': 3263, 'option': 3264, 'blade': 3265, 'eyr': 3266, 'overr': 3267, 'defi': 3268, 'li': 3269, 'conserv': 3270, 'candid': 3271, 'nerd': 3272, 'homicid': 3273, 'beatti': 3274, 'boast': 3275, 'stole': 3276, 'mildr': 3277, 'kapoor': 3278, 'ramon': 3279, 'confirm': 3280, 'protest': 3281, 'flame': 3282, 'hollow': 3283, 'astonish': 3284, 'trio': 3285, 'fulci': 3286, 'natali': 3287, 'kirk': 3288, 'global': 3289, 'detract': 3290, 'altman': 3291, 'collabor': 3292, 'jazz': 3293, 'funer': 3294, 'audio': 3295, 'spit': 3296, 'racial': 3297, 'mystic': 3298, 'leap': 3299, 'enterpris': 3300, 'tommi': 3301, 'whip': 3302, 'yellow': 3303, 'destini': 3304, 'bottl': 3305, 'shade': 3306, 'nicholson': 3307, 'blake': 3308, 'bull': 3309, 'delici': 3310, 'adolesc': 3311, 'meaningless': 3312, 'altogeth': 3313, 'neo': 3314, 'enchant': 3315, 'visibl': 3316, 'pseudo': 3317, 'merci': 3318, 'popcorn': 3319, 'threw': 3320, 'harder': 3321, 'staff': 3322, 'swedish': 3323, 'vivid': 3324, 'bedroom': 3325, 'inherit': 3326, 'reunit': 3327, 'todd': 3328, 'fonda': 3329, 'fanat': 3330, 'kennedi': 3331, 'moodi': 3332, 'leonard': 3333, 'tip': 3334, 'decor': 3335, 'madonna': 3336, 'await': 3337, 'ruthless': 3338, 'roommat': 3339, 'jew': 3340, 'reserv': 3341, 'edi': 3342, 'voight': 3343, 'lemmon': 3344, 'uneven': 3345, 'crocodil': 3346, 'synopsi': 3347, 'exhibit': 3348, 'respond': 3349, 'bust': 3350, 'befriend': 3351, 'suspici': 3352, 'lawrenc': 3353, 'dimens': 3354, 'rural': 3355, 'garner': 3356, 'audit': 3357, 'clumsi': 3358, 'holli': 3359, 'voyag': 3360, 'incident': 3361, '2007': 3362, 'abysm': 3363, 'bold': 3364, 'centr': 3365, 'wire': 3366, 'chao': 3367, 'ventur': 3368, 'unsettl': 3369, 'carl': 3370, 'palma': 3371, 'bradi': 3372, 'bargain': 3373, 'clint': 3374, 'imperson': 3375, 'lit': 3376, 'characterist': 3377, 'mall': 3378, 'daddi': 3379, 'humili': 3380, 'acknowledg': 3381, 'neglect': 3382, 'poetic': 3383, 'trail': 3384, 'hart': 3385, 'nearbi': 3386, '2nd': 3387, 'wealth': 3388, 'echo': 3389, 'timon': 3390, 'elimin': 3391, 'tiger': 3392, 'immigr': 3393, 'cari': 3394, 'versu': 3395, 'troop': 3396, 'cd': 3397, 'cuba': 3398, 'ant': 3399, 'domest': 3400, 'mistaken': 3401, 'prejudic': 3402, 'jeffrey': 3403, 'homer': 3404, 'mickey': 3405, 'repuls': 3406, 'saga': 3407, 'pun': 3408, 'collaps': 3409, 'infect': 3410, 'celluloid': 3411, 'marshal': 3412, 'solo': 3413, 'milk': 3414, 'olivi': 3415, 'coat': 3416, 'hbo': 3417, '1996': 3418, 'pant': 3419, 'paus': 3420, 'gear': 3421, 'inan': 3422, 'assembl': 3423, 'coffe': 3424, 'harvey': 3425, 'sore': 3426, 'interrupt': 3427, 'cake': 3428, 'atlanti': 3429, 'equip': 3430, 'tribe': 3431, 'apolog': 3432, 'ginger': 3433, 'promin': 3434, 'leon': 3435, 'inappropri': 3436, 'chest': 3437, 'undoubtedli': 3438, 'primari': 3439, 'retain': 3440, 'florida': 3441, 'pen': 3442, 'instant': 3443, 'vulgar': 3444, 'jenni': 3445, 'furthermor': 3446, 'highest': 3447, 'brooklyn': 3448, 'polanski': 3449, 'solut': 3450, 'trace': 3451, 'pot': 3452, 'exot': 3453, 'consum': 3454, 'airplan': 3455, 'colleagu': 3456, 'devast': 3457, 'institut': 3458, 'embrac': 3459, 'maggi': 3460, 'aveng': 3461, 'humbl': 3462, 'wive': 3463, 'strain': 3464, 'principl': 3465, 'outer': 3466, '3rd': 3467, 'smaller': 3468, 'illog': 3469, 'descend': 3470, 'seduct': 3471, 'bowl': 3472, 'disabl': 3473, 'cope': 3474, 'dian': 3475, 'dutch': 3476, '1999': 3477, 'poke': 3478, 'colonel': 3479, 'ya': 3480, 'rick': 3481, 'sale': 3482, 'linda': 3483, 'godzilla': 3484, 'scope': 3485, 'cue': 3486, 'dud': 3487, 'dive': 3488, 'vast': 3489, 'secondli': 3490, 'predecessor': 3491, 'rabbit': 3492, 'gloriou': 3493, 'mixtur': 3494, 'hal': 3495, 'beneath': 3496, 'blatant': 3497, 'primarili': 3498, 'lol': 3499, 'bubbl': 3500, 'devoid': 3501, 'yard': 3502, 'gender': 3503, 'gundam': 3504, 'glamor': 3505, 'inferior': 3506, 'talki': 3507, 'countrysid': 3508, 'pearl': 3509, 'domino': 3510, 'shirley': 3511, 'breed': 3512, 'z': 3513, 'disjoint': 3514, 'museum': 3515, 'senseless': 3516, 'april': 3517, 'shelf': 3518, 'streep': 3519, 'aggress': 3520, 'myer': 3521, 'casual': 3522, 'arab': 3523, 'trademark': 3524, 'et': 3525, 'invas': 3526, 'simplist': 3527, 'hideou': 3528, 'grinch': 3529, 'garbo': 3530, 'boom': 3531, 'slide': 3532, 'obtain': 3533, 'hopeless': 3534, 'oz': 3535, 'loyal': 3536, 'alert': 3537, 'stir': 3538, 'stack': 3539, 'acid': 3540, 'defens': 3541, 'alfr': 3542, 'unhappi': 3543, 'hardcor': 3544, 'uwe': 3545, 'maci': 3546, 'stellar': 3547, 'illeg': 3548, 'mayor': 3549, 'robinson': 3550, 'khan': 3551, 'mail': 3552, 'disgrac': 3553, 'experiment': 3554, 'rendit': 3555, 'applaud': 3556, 'robberi': 3557, 'rifl': 3558, 'emphasi': 3559, 'fri': 3560, 'counter': 3561, 'spider': 3562, 'psychic': 3563, 'soccer': 3564, 'blew': 3565, 'dismiss': 3566, 'span': 3567, 'berlin': 3568, 'topless': 3569, 'tenant': 3570, 'recruit': 3571, 'wont': 3572, 'declin': 3573, 'grandfath': 3574, 'dicken': 3575, 'incomprehens': 3576, 'craze': 3577, 'diana': 3578, 'vanish': 3579, 'hartley': 3580, 'amanda': 3581, 'lumet': 3582, 'bitch': 3583, 'justin': 3584, 'tempt': 3585, 'ration': 3586, 'scroog': 3587, 'sibl': 3588, 'shed': 3589, 'riot': 3590, 'porno': 3591, 'sympath': 3592, 'resurrect': 3593, 'faster': 3594, 'goer': 3595, 'trashi': 3596, 'wet': 3597, 'woo': 3598, 'parad': 3599, 'shaw': 3600, 'niro': 3601, 'revolt': 3602, 'intim': 3603, 'region': 3604, 'hopper': 3605, 'commend': 3606, 'weakest': 3607, 'andr': 3608, 'immort': 3609, 'rider': 3610, 'mario': 3611, 'enlighten': 3612, 'biographi': 3613, 'honesti': 3614, 'worm': 3615, 'jonathan': 3616, 'eager': 3617, 'sh': 3618, 'ballet': 3619, 'unreal': 3620, 'ethnic': 3621, 'ensur': 3622, 'gap': 3623, 'partial': 3624, 'steam': 3625, 'nephew': 3626, 'lena': 3627, '00': 3628, 'choru': 3629, 'wheel': 3630, 'slick': 3631, 'farmer': 3632, 'patriot': 3633, 'hesit': 3634, 'dealer': 3635, 'wendi': 3636, 'feminist': 3637, 'repress': 3638, 'franco': 3639, 'skull': 3640, 'psychopath': 3641, 'wore': 3642, 'composit': 3643, 'hung': 3644, 'sandra': 3645, 'kingdom': 3646, 'morri': 3647, 'nostalg': 3648, 'sappi': 3649, 'charlott': 3650, 'snap': 3651, 'safeti': 3652, 'properti': 3653, 'prequel': 3654, 'confin': 3655, 'blunt': 3656, 'util': 3657, 'vice': 3658, 'leo': 3659, 'similarli': 3660, 'victori': 3661, 'owen': 3662, 'mutant': 3663, 'rocki': 3664, 'thru': 3665, 'recycl': 3666, 'heartbreak': 3667, 'valuabl': 3668, 'nervou': 3669, 'despair': 3670, 'dalton': 3671, 'cg': 3672, 'speci': 3673, 'rope': 3674, 'farrel': 3675, 'compens': 3676, 'kyle': 3677, 'compass': 3678, 'rambl': 3679, 'tad': 3680, 'exit': 3681, 'del': 3682, 'dust': 3683, 'bow': 3684, 'drum': 3685, 'latin': 3686, 'strand': 3687, 'emperor': 3688, 'tail': 3689, 'snl': 3690, 'pattern': 3691, 'bergman': 3692, 'acquir': 3693, 'miseri': 3694, 'campbel': 3695, 'hyde': 3696, 'whoopi': 3697, 'bonu': 3698, '1972': 3699, 'drain': 3700, 'repli': 3701, 'deed': 3702, 'montana': 3703, 'bumbl': 3704, 'rapist': 3705, 'olli': 3706, 'downhil': 3707, 'radic': 3708, 'da': 3709, 'oppress': 3710, 'carradin': 3711, 'percept': 3712, 'bleed': 3713, 'mistress': 3714, 'orson': 3715, '35': 3716, 'chess': 3717, 'gal': 3718, 'airport': 3719, 'pour': 3720, 'romp': 3721, 'gimmick': 3722, 'roth': 3723, 'wacki': 3724, 'martian': 3725, 'contempl': 3726, 'slug': 3727, 'rotten': 3728, 'tonight': 3729, 'programm': 3730, 'stilt': 3731, 'mislead': 3732, 'attorney': 3733, 'banal': 3734, 'arc': 3735, 'arguabl': 3736, 'pervers': 3737, 'pervert': 3738, 'unpredict': 3739, 'preach': 3740, 'belt': 3741, 'edgar': 3742, 'tooth': 3743, 'slash': 3744, 'champion': 3745, 'heal': 3746, 'dazzl': 3747, 'shelley': 3748, 'taught': 3749, 'melodi': 3750, 'tackl': 3751, 'pursuit': 3752, 'paltrow': 3753, '1983': 3754, 'macarthur': 3755, 'gambl': 3756, 'poem': 3757, 'graham': 3758, 'duval': 3759, 'tiresom': 3760, 'passeng': 3761, 'mesmer': 3762, 'raymond': 3763, 'cleverli': 3764, 'closest': 3765, 'plight': 3766, 'sensat': 3767, 'employe': 3768, 'marti': 3769, 'uplift': 3770, 'bela': 3771, 'vocal': 3772, 'orang': 3773, 'maid': 3774, 'rubi': 3775, 'virginia': 3776, 'conneri': 3777, 'chicken': 3778, 'franki': 3779, 'dixon': 3780, 'extens': 3781, 'crystal': 3782, 'outing': 3783, 'calm': 3784, 'paranoia': 3785, 'inject': 3786, 'profan': 3787, 'secretli': 3788, 'tube': 3789, 'iran': 3790, 'numb': 3791, 'convincingli': 3792, 'volum': 3793, 'engross': 3794, 'sirk': 3795, 'suffic': 3796, 'clone': 3797, 'amitabh': 3798, 'habit': 3799, 'pokemon': 3800, 'monologu': 3801, 'scottish': 3802, 'climact': 3803, 'lundgren': 3804, 'yawn': 3805, 'giggl': 3806, 'vengeanc': 3807, '1968': 3808, 'swallow': 3809, 'bay': 3810, 'mute': 3811, 'whine': 3812, 'abraham': 3813, 'gerard': 3814, 'quarter': 3815, 'nichola': 3816, 'taxi': 3817, 'richardson': 3818, 'dispos': 3819, 'underst': 3820, 'trend': 3821, 'profess': 3822, 'franci': 3823, 'austen': 3824, 'poetri': 3825, 'plod': 3826, 'lowest': 3827, 'expand': 3828, 'earl': 3829, 'chicago': 3830, 'abort': 3831, 'grotesqu': 3832, 'spock': 3833, 'septemb': 3834, 'frankenstein': 3835, 'fed': 3836, 'backward': 3837, 'junior': 3838, 'surpass': 3839, 'meander': 3840, 'bend': 3841, 'ethan': 3842, 'linger': 3843, 'im': 3844, 'spoke': 3845, 'mundan': 3846, 'rubber': 3847, 'household': 3848, 'myth': 3849, 'eugen': 3850, 'greedi': 3851, 'hum': 3852, 'lure': 3853, 'instrument': 3854, 'muddl': 3855, 'der': 3856, 'sue': 3857, 'dysfunct': 3858, 'tourist': 3859, 'catchi': 3860, 'rant': 3861, 'literatur': 3862, 'compliment': 3863, 'simplic': 3864, 'econom': 3865, 'waitress': 3866, 'nostalgia': 3867, 'descent': 3868, 'cannon': 3869, 'stallon': 3870, 'firstli': 3871, 'duck': 3872, 'cent': 3873, 'louis': 3874, 'irrelev': 3875, 'phoni': 3876, 'hello': 3877, 'dement': 3878, 'deaf': 3879, 'occupi': 3880, 'eaten': 3881, 'flee': 3882, 'bacal': 3883, 'mortal': 3884, 'recognis': 3885, 'mankind': 3886, 'carel': 3887, 'june': 3888, 'randi': 3889, 'damon': 3890, 'coast': 3891, 'omen': 3892, 'insur': 3893, 'equival': 3894, 'stale': 3895, 'map': 3896, 'recognit': 3897, 'molli': 3898, 'dictat': 3899, 'furi': 3900, 'sissi': 3901, 'crucial': 3902, 'alongsid': 3903, 'lang': 3904, 'heel': 3905, 'lengthi': 3906, 'bump': 3907, 'dreari': 3908, 'blackmail': 3909, 'likewis': 3910, 'rude': 3911, 'drake': 3912, 'cyborg': 3913, 'bike': 3914, 'ashley': 3915, 'wisdom': 3916, 'reign': 3917, 'loyalti': 3918, 'onlin': 3919, 'freez': 3920, 'labor': 3921, '1973': 3922, 'rooney': 3923, 'buffalo': 3924, 'phantom': 3925, 'daisi': 3926, 'biko': 3927, 'distinguish': 3928, 'newli': 3929, 'damm': 3930, 'grayson': 3931, 'nineti': 3932, 'interior': 3933, 'butler': 3934, 'vein': 3935, 'emphas': 3936, 'twilight': 3937, 'baddi': 3938, 'prey': 3939, 'tunnel': 3940, 'pink': 3941, 'boxer': 3942, 'exposur': 3943, 'approv': 3944, 'inher': 3945, 'ridden': 3946, 'analysi': 3947, 'startl': 3948, 'unorigin': 3949, 'proce': 3950, 'barrymor': 3951, 'provoc': 3952, 'attribut': 3953, 'chronicl': 3954, 'worn': 3955, 'sailor': 3956, 'incorpor': 3957, 'keith': 3958, 'basketbal': 3959, 'meg': 3960, 'robbin': 3961, 'othello': 3962, 'underli': 3963, 'drift': 3964, 'walsh': 3965, 'fleet': 3966, 'bunni': 3967, 'substitut': 3968, 'simmon': 3969, 'barrel': 3970, 'elm': 3971, 'indiffer': 3972, 'millionair': 3973, 'condemn': 3974, 'unrel': 3975, 'mighti': 3976, 'julian': 3977, 'degrad': 3978, 'er': 3979, 'meyer': 3980, 'improvis': 3981, 'stalker': 3982, 'mormon': 3983, 'hypnot': 3984, 'undeni': 3985, 'carla': 3986, 'nicol': 3987, 'marion': 3988, 'vital': 3989, 'palac': 3990, 'firm': 3991, 'warmth': 3992, '3d': 3993, 'shove': 3994, 'disord': 3995, 'novak': 3996, 'hay': 3997, 'alarm': 3998, 'nyc': 3999, 'rukh': 4000, 'unawar': 4001, 'agenda': 4002, 'belushi': 4003, 'exquisit': 4004, 'alison': 4005, 'dolph': 4006, 'greed': 4007, 'mtv': 4008, 'watson': 4009, 'roof': 4010, 'edgi': 4011, 'reid': 4012, 'enthusiasm': 4013, 'lampoon': 4014, 'priceless': 4015, 'errol': 4016, 'spain': 4017, 'testament': 4018, 'session': 4019, 'crown': 4020, 'thompson': 4021, 'peril': 4022, '13th': 4023, 'cassidi': 4024, 'peck': 4025, 'preserv': 4026, 'simultan': 4027, 'iraq': 4028, 'glanc': 4029, 'championship': 4030, 'beatl': 4031, 'randomli': 4032, 'what': 4033, 'ponder': 4034, 'campaign': 4035, 'profit': 4036, 'pamela': 4037, '1933': 4038, 'nun': 4039, 'sergeant': 4040, 'minimum': 4041, 'israel': 4042, 'distort': 4043, 'gestur': 4044, 'unleash': 4045, 'antwon': 4046, 'valentin': 4047, 'angela': 4048, 'orlean': 4049, 'petti': 4050, 'eastern': 4051, 'predat': 4052, 'showdown': 4053, 'drip': 4054, 'zizek': 4055, 'coup': 4056, 'exposit': 4057, 'contradict': 4058, 'scotland': 4059, 'miyazaki': 4060, 'rout': 4061, 'represent': 4062, 'stroke': 4063, 'brenda': 4064, 'mon': 4065, 'travesti': 4066, 'sabrina': 4067, 'regist': 4068, 'kurosawa': 4069, 'empathi': 4070, 'stake': 4071, 'wig': 4072, 'valley': 4073, 'realm': 4074, 'crawl': 4075, 'perpetu': 4076, 'bro': 4077, 'shootout': 4078, 'crow': 4079, 'gentleman': 4080, 'cooki': 4081, 'buster': 4082, 'cream': 4083, 'reson': 4084, 'climat': 4085, 'han': 4086, 'unimagin': 4087, 'calib': 4088, 'fido': 4089, 'jan': 4090, 'restrain': 4091, 'din': 4092, 'distress': 4093, 'greg': 4094, 'perceiv': 4095, 'baldwin': 4096, 'shoddi': 4097, 'passabl': 4098, 'pole': 4099, 'warrant': 4100, 'fuller': 4101, 'femm': 4102, 'absent': 4103, 'pretens': 4104, 'traumat': 4105, 'monoton': 4106, 'geek': 4107, 'abomin': 4108, '1987': 4109, 'meryl': 4110, 'businessman': 4111, '1984': 4112, 'compromis': 4113, 'shaki': 4114, 'ross': 4115, 'derang': 4116, 'censor': 4117, 'sucker': 4118, '1997': 4119, 'dana': 4120, 'painter': 4121, 'soderbergh': 4122, 'tacki': 4123, 'cloud': 4124, 'delic': 4125, 'wax': 4126, 'sammi': 4127, 'demis': 4128, 'josh': 4129, 'unsatisfi': 4130, 'unseen': 4131, 'quinn': 4132, 'ustinov': 4133, 'darren': 4134, 'spacey': 4135, 'mclaglen': 4136, 'crawford': 4137, 'click': 4138, 'tarantino': 4139, 'fenc': 4140, 'valid': 4141, 'primit': 4142, 'antonioni': 4143, 'unravel': 4144, 'judgment': 4145, 'dee': 4146, 'deniro': 4147, 'expedit': 4148, 'tech': 4149, 'accuraci': 4150, 'deceas': 4151, '1993': 4152, 'reluct': 4153, 'sid': 4154, 'austin': 4155, 'kumar': 4156, 'seal': 4157, 'correctli': 4158, 'jewel': 4159, 'uncov': 4160, 'verbal': 4161, 'exclus': 4162, 'nathan': 4163, 'polici': 4164, 'furiou': 4165, 'fog': 4166, 'wholli': 4167, 'stargat': 4168, 'clash': 4169, 'nicola': 4170, 'vanc': 4171, '1995': 4172, 'seldom': 4173, 'pocket': 4174, 'roller': 4175, 'alec': 4176, 'darn': 4177, 'trait': 4178, 'tax': 4179, 'temper': 4180, 'patienc': 4181, 'dreck': 4182, 'fart': 4183, 'sustain': 4184, 'malon': 4185, 'sunni': 4186, 'conduct': 4187, 'sand': 4188, 'enforc': 4189, 'joel': 4190, 'crippl': 4191, 'logan': 4192, 'slam': 4193, 'fought': 4194, 'ritual': 4195, 'behold': 4196, 'mode': 4197, 'bake': 4198, '3000': 4199, 'fabric': 4200, 'clerk': 4201, 'sheet': 4202, 'wretch': 4203, '1971': 4204, 'debt': 4205, 'unfair': 4206, 'norm': 4207, 'hallucin': 4208, 'murray': 4209, 'wang': 4210, 'exhaust': 4211, 'fundament': 4212, 'bridget': 4213, 'grief': 4214, 'squad': 4215, 'rita': 4216, 'conscious': 4217, 'sweep': 4218, '2008': 4219, 'preposter': 4220, 'canyon': 4221, 'runner': 4222, 'legaci': 4223, 'guitar': 4224, 'outlin': 4225, 'phil': 4226, 'helpless': 4227, 'critiqu': 4228, 'pete': 4229, 'tactic': 4230, 'shanghai': 4231, 'shell': 4232, 'divid': 4233, 'stark': 4234, 'preston': 4235, 'despis': 4236, 'scriptwrit': 4237, 'technicolor': 4238, 'anchor': 4239, 'robber': 4240, 'soup': 4241, 'stuart': 4242, 'clau': 4243, 'penni': 4244, 'isabel': 4245, 'bias': 4246, 'schedul': 4247, 'jacket': 4248, 'newman': 4249, 'marc': 4250, 'cigarett': 4251, 'propos': 4252, 'agenc': 4253, 'delv': 4254, 'passag': 4255, 'implic': 4256, 'invad': 4257, 'palanc': 4258, 'restrict': 4259, 'liberti': 4260, 'consciou': 4261, 'flair': 4262, 'sugar': 4263, 'drove': 4264, 'unexpectedli': 4265, 'culmin': 4266, 'rehash': 4267, 'sentinel': 4268, 'russia': 4269, 'vomit': 4270, 'rear': 4271, 'downey': 4272, 'connor': 4273, 'bloom': 4274, 'boyl': 4275, 'kansa': 4276, 'lacklust': 4277, 'gregori': 4278, 'alley': 4279, 'jodi': 4280, 'inabl': 4281, 'alicia': 4282, 'sniper': 4283, 'behaviour': 4284, 'rod': 4285, '1936': 4286, 'vet': 4287, 'awhil': 4288, 'mccoy': 4289, 'feat': 4290, 'bacon': 4291, 'cap': 4292, 'horn': 4293, 'rampag': 4294, '22': 4295, 'wrench': 4296, 'foxx': 4297, 'tendenc': 4298, 'aesthet': 4299, 'improb': 4300, 'arrow': 4301, 'lush': 4302, 'pale': 4303, 'tripe': 4304, 'ladder': 4305, 'sharon': 4306, 'delet': 4307, 'asylum': 4308, 'karl': 4309, 'yeti': 4310, 'chainsaw': 4311, 'kolchak': 4312, 'minu': 4313, 'rehears': 4314, 'conscienc': 4315, '1988': 4316, 'loneli': 4317, 'basing': 4318, 'hackney': 4319, '1978': 4320, 'lurk': 4321, 'hungri': 4322, 'newcom': 4323, 'tomorrow': 4324, 'tasteless': 4325, 'coaster': 4326, 'paradis': 4327, 'underneath': 4328, 'shortcom': 4329, 'prank': 4330, 'paramount': 4331, 'hulk': 4332, 'financ': 4333, 'elit': 4334, '1920': 4335, 'stream': 4336, 'spice': 4337, 'visitor': 4338, 'globe': 4339, 'aristocrat': 4340, 'suspicion': 4341, 'rhythm': 4342, 'fright': 4343, 'wagner': 4344, '19th': 4345, 'suffici': 4346, 'wildli': 4347, 'el': 4348, 'weav': 4349, 'amazon': 4350, 'thunderbird': 4351, 'scoop': 4352, 'filler': 4353, 'secondari': 4354, 'bread': 4355, 'teas': 4356, 'paxton': 4357, 'straightforward': 4358, 'literari': 4359, 'abrupt': 4360, 'choppi': 4361, 'inmat': 4362, '75': 4363, 'couch': 4364, 'recogniz': 4365, 'beverli': 4366, 'counterpart': 4367, 'ingeni': 4368, 'lectur': 4369, 'impos': 4370, 'iv': 4371, 'atroc': 4372, 'immers': 4373, 'springer': 4374, 'quietli': 4375, 'dirt': 4376, 'minist': 4377, 'entranc': 4378, 'leigh': 4379, 'wwe': 4380, 'curli': 4381, 'rub': 4382, 'grudg': 4383, 'en': 4384, 'worship': 4385, 'ram': 4386, 'rumor': 4387, '1939': 4388, '1989': 4389, 'cancer': 4390, 'sung': 4391, 'chamberlain': 4392, 'brit': 4393, 'posey': 4394, 'hopkin': 4395, 'standout': 4396, 'penn': 4397, 'naughti': 4398, 'heist': 4399, 'tierney': 4400, 'chavez': 4401, 'entitl': 4402, 'watcher': 4403, 'laurenc': 4404, 'duel': 4405, 'moreov': 4406, 'cattl': 4407, 'morbid': 4408, 'transcend': 4409, 'bernard': 4410, 'sublim': 4411, 'injuri': 4412, 'convert': 4413, 'variat': 4414, 'policeman': 4415, 'nolan': 4416, 'ratso': 4417, 'misguid': 4418, 'smell': 4419, '1986': 4420, 'nemesi': 4421, 'net': 4422, 'yearn': 4423, 'quaid': 4424, 'missil': 4425, 'geni': 4426, 'skeptic': 4427, 'clan': 4428, 'heartfelt': 4429, 'lindsay': 4430, 'attenborough': 4431, 'ace': 4432, 'enthral': 4433, 'sassi': 4434, 'esther': 4435, 'rosemari': 4436, 'out': 4437, 'hopelessli': 4438, 'dont': 4439, 'bye': 4440, 'tyler': 4441, 'spiral': 4442, 'reliabl': 4443, 'grin': 4444, 'poe': 4445, 'steadi': 4446, 'buzz': 4447, 'youngest': 4448, 'facil': 4449, 'carlito': 4450, 'bean': 4451, 'obstacl': 4452, 'egg': 4453, 'characteris': 4454, 'vader': 4455, 'uncut': 4456, 'unexplain': 4457, 'enabl': 4458, 'kitti': 4459, 'graini': 4460, 'cruelti': 4461, 'diari': 4462, 'setup': 4463, 'brood': 4464, 'kidman': 4465, 'hk': 4466, 'mytholog': 4467, 'puppi': 4468, 'moder': 4469, 'artsi': 4470, 'niec': 4471, 'bronson': 4472, 'exterior': 4473, 'clueless': 4474, 'fuel': 4475, 'disastr': 4476, 'spontan': 4477, 'brendan': 4478, 'narrow': 4479, 'despic': 4480, 'effici': 4481, 'decept': 4482, 'hammi': 4483, 'sweat': 4484, 'oblig': 4485, 'underworld': 4486, 'baffl': 4487, 'weather': 4488, 'patricia': 4489, 'bewar': 4490, 'martha': 4491, 'acquaint': 4492, 'heap': 4493, '1979': 4494, 'kline': 4495, 'athlet': 4496, 'gina': 4497, 'hain': 4498, 'preming': 4499, 'gillian': 4500, 'trigger': 4501, 'goof': 4502, '1969': 4503, 'angst': 4504, 'candl': 4505, 'circu': 4506, 'mayhem': 4507, 'astound': 4508, '19': 4509, 'fontain': 4510, 'uh': 4511, 'sleepwalk': 4512, 'shatter': 4513, 'virtu': 4514, 'headach': 4515, 'insipid': 4516, 'housewif': 4517, 'harmless': 4518, 'renaiss': 4519, 'christin': 4520, 'injur': 4521, '73': 4522, 'scar': 4523, 'sooner': 4524, 'outlaw': 4525, 'enlist': 4526, 'suprem': 4527, 'dilemma': 4528, 'lester': 4529, 'biker': 4530, 'hepburn': 4531, 'preachi': 4532, 'taboo': 4533, 'tick': 4534, 'loi': 4535, 'loath': 4536, 'rome': 4537, 'viewpoint': 4538, 'mermaid': 4539, 'dandi': 4540, 'glorifi': 4541, 'ebert': 4542, 'contempt': 4543, 'steer': 4544, 'foolish': 4545, 'phenomenon': 4546, 'whore': 4547, 'hooker': 4548, 'overlong': 4549, 'camcord': 4550, 'macho': 4551, 'cassavet': 4552, 'hokey': 4553, 'redund': 4554, 'hostag': 4555, 'gere': 4556, 'fluff': 4557, 'dish': 4558, 'filth': 4559, 'surgeri': 4560, 'tripl': 4561, 'claustrophob': 4562, 'dismal': 4563, 'oldest': 4564, 'bent': 4565, 'boston': 4566, 'intric': 4567, 'idol': 4568, 'spade': 4569, 'slimi': 4570, 'guin': 4571, 'analyz': 4572, 'bounc': 4573, 'stimul': 4574, 'zoom': 4575, 'stair': 4576, 'immatur': 4577, 'scorses': 4578, 'salt': 4579, 'amor': 4580, 'corbett': 4581, 'sox': 4582, 'ariel': 4583, 'widescreen': 4584, 'fascist': 4585, 'shield': 4586, 'strongest': 4587, 'mount': 4588, 'flashi': 4589, 'frantic': 4590, '1976': 4591, 'transplant': 4592, 'dwarf': 4593, 'keen': 4594, 'cohen': 4595, 'cow': 4596, 'antagonist': 4597, 'cush': 4598, 'corman': 4599, 'spinal': 4600, 'conquer': 4601, 'remad': 4602, 'muscl': 4603, 'harold': 4604, 'proport': 4605, 'margin': 4606, 'radiat': 4607, 'beard': 4608, 'mutual': 4609, 'astronaut': 4610, 'flag': 4611, 'joker': 4612, 'schlock': 4613, 'gasp': 4614, 'down': 4615, 'nolt': 4616, 'faint': 4617, 'spree': 4618, 'assert': 4619, 'messi': 4620, 'flirt': 4621, 'preced': 4622, 'zane': 4623, 'perman': 4624, '1981': 4625, 'rhyme': 4626, 'obligatori': 4627, 'shred': 4628, 'alvin': 4629, 'gabl': 4630, 'naschi': 4631, '95': 4632, 'inflict': 4633, 'neurot': 4634, 'brush': 4635, '28': 4636, 'wield': 4637, '1945': 4638, 'bitten': 4639, 'info': 4640, 'instruct': 4641, 'repris': 4642, 'divin': 4643, 'boob': 4644, 'triangl': 4645, 'strive': 4646, 'deer': 4647, 'someday': 4648, 'persuad': 4649, 'off': 4650, 'www': 4651, 'archiv': 4652, 'departur': 4653, 'raj': 4654, 'bachelor': 4655, 'mol': 4656, 'scandal': 4657, 'mobil': 4658, 'resum': 4659, 'danish': 4660, 'sensual': 4661, 'carey': 4662, 'flock': 4663, 'fishburn': 4664, 'trivia': 4665, 'discern': 4666, 'aborigin': 4667, 'ritchi': 4668, 'vaniti': 4669, 'interestingli': 4670, 'hara': 4671, 'barn': 4672, 'claud': 4673, 'hug': 4674, 'miracul': 4675, 'undermin': 4676, 'cycl': 4677, 'helm': 4678, 'cliffhang': 4679, 'axe': 4680, 'earnest': 4681, 'jade': 4682, 'harrison': 4683, 'hilar': 4684, 'biblic': 4685, 'melissa': 4686, 'clad': 4687, 'colin': 4688, 'fragil': 4689, 'rot': 4690, 'dim': 4691, 'cb': 4692, 'hapless': 4693, 'ish': 4694, 'heartwarm': 4695, 'pixar': 4696, 'prophet': 4697, 'dylan': 4698, 'submit': 4699, 'proclaim': 4700, 'cher': 4701, 'banter': 4702, 'wendigo': 4703, 'frontier': 4704, 'luka': 4705, 'carlo': 4706, 'artwork': 4707, 'senior': 4708, 'bate': 4709, 'neill': 4710, 'parson': 4711, 'loretta': 4712, 'vibrant': 4713, 'pacif': 4714, 'mobster': 4715, 'recit': 4716, 'casino': 4717, 'timberlak': 4718, 'kathryn': 4719, 'dame': 4720, 'anton': 4721, 'pickford': 4722, 'northern': 4723, 'lucil': 4724, 'wardrob': 4725, 'antholog': 4726, 'feast': 4727, 'cerebr': 4728, 'vanessa': 4729, 'static': 4730, 'toronto': 4731, 'jordan': 4732, 'akin': 4733, 'sicken': 4734, 'vile': 4735, 'articl': 4736, 'foil': 4737, 'token': 4738, 'alexandr': 4739, 'electron': 4740, 'razor': 4741, 'rooki': 4742, 'eli': 4743, 'milo': 4744, 'uma': 4745, 'holocaust': 4746, 'winchest': 4747, 'choke': 4748, 'http': 4749, 'lui': 4750, 'bikini': 4751, 'venom': 4752, 'shepherd': 4753, 'blatantli': 4754, 'legitim': 4755, 'seedi': 4756, 'traffic': 4757, 'estrang': 4758, 'aris': 4759, 'pc': 4760, 'illus': 4761, 'breakfast': 4762, 'orphan': 4763, 'bondag': 4764, 'jo': 4765, 'trier': 4766, 'redneck': 4767, 'marlon': 4768, 'flavor': 4769, 'isra': 4770, 'misfortun': 4771, 'nope': 4772, 'mathieu': 4773, 'europa': 4774, 'mason': 4775, 'howl': 4776, 'disregard': 4777, 'shorter': 4778, 'charlton': 4779, 'linear': 4780, 'smack': 4781, 'knightley': 4782, 'clinic': 4783, 'tack': 4784, 'retriev': 4785, 'psych': 4786, 'fifth': 4787, 'leather': 4788, 'gilbert': 4789, 'swept': 4790, 'cartoonish': 4791, 'highway': 4792, 'comprehend': 4793, 'deem': 4794, 'styliz': 4795, 'peer': 4796, 'huston': 4797, 'boyer': 4798, 'audrey': 4799, 'outdat': 4800, 'turd': 4801, 'ideolog': 4802, 'oppon': 4803, 'magician': 4804, 'wrestler': 4805, 'ceremoni': 4806, 'frog': 4807, 'feminin': 4808, 'abund': 4809, 'glare': 4810, 'affleck': 4811, 'nightclub': 4812, 'gunga': 4813, 'dudley': 4814, 'summar': 4815, 'einstein': 4816, 'energet': 4817, 'client': 4818, 'newer': 4819, 'greet': 4820, 'whack': 4821, 'moe': 4822, 'phenomen': 4823, 'mitch': 4824, '1991': 4825, 'bastard': 4826, 'corn': 4827, 'compris': 4828, 'monument': 4829, 'spine': 4830, 'cemeteri': 4831, 'evolut': 4832, 'durat': 4833, 'senat': 4834, 'breakdown': 4835, 'uniformli': 4836, 'plate': 4837, 'btw': 4838, 'chip': 4839, 'lavish': 4840, 'collector': 4841, 'toe': 4842, 'bogu': 4843, 'tara': 4844, 'lighter': 4845, 'snatch': 4846, 'sleaz': 4847, 'conrad': 4848, 'lifeless': 4849, 'cuban': 4850, '`the': 4851, 'deliver': 4852, '4th': 4853, 'spawn': 4854, 'boo': 4855, 'potter': 4856, 'goldsworthi': 4857, '1994': 4858, 'salman': 4859, 'braveheart': 4860, 'ol': 4861, 'signal': 4862, 'embark': 4863, 'capot': 4864, 'trauma': 4865, 'neatli': 4866, 'spectacl': 4867, 'lex': 4868, 'bori': 4869, 'clara': 4870, 'evelyn': 4871, 'healthi': 4872, 'randolph': 4873, 'creek': 4874, 'undead': 4875, 'wtf': 4876, 'liu': 4877, 'occup': 4878, 'cecil': 4879, 'belli': 4880, 'bulk': 4881, 'alleg': 4882, 'nina': 4883, 'kent': 4884, 'constitut': 4885, 'inaccuraci': 4886, 'historian': 4887, 'jedi': 4888, 'firmli': 4889, 'luxuri': 4890, 'fluid': 4891, 'undertak': 4892, 'armstrong': 4893, 'jam': 4894, 'jule': 4895, 'mcqueen': 4896, 'outright': 4897, 'replay': 4898, 'sorrow': 4899, 'eleven': 4900, 'pronounc': 4901, 'kazan': 4902, 'gilliam': 4903, 'judd': 4904, 'jare': 4905, 'bait': 4906, 'comprehens': 4907, 'inclus': 4908, 'miniseri': 4909, 'lanc': 4910, 'unsuspect': 4911, 'ie': 4912, 'blur': 4913, 'decapit': 4914, 'ash': 4915, 'subtli': 4916, 'abound': 4917, 'conan': 4918, 'mum': 4919, 'groan': 4920, 'pioneer': 4921, 'meal': 4922, 'congratul': 4923, 'antonio': 4924, 'lauren': 4925, 'tokyo': 4926, 'palm': 4927, 'roar': 4928, 'bsg': 4929, 'forgiven': 4930, '1985': 4931, 'relentless': 4932, 'goldblum': 4933, '1977': 4934, 'porter': 4935, 'knee': 4936, 'vignett': 4937, 'pepper': 4938, 'carmen': 4939, 'appl': 4940, 'basket': 4941, 'cape': 4942, 'propheci': 4943, 'paula': 4944, 'unattract': 4945, 'galaxi': 4946, 'poker': 4947, 'sacrif': 4948, 'comb': 4949, 'aussi': 4950, 'inaccur': 4951, 'sidewalk': 4952, 'vain': 4953, 'fruit': 4954, 'truman': 4955, 'miami': 4956, 'rosario': 4957, 'spray': 4958, '1974': 4959, 'genet': 4960, 'kiddi': 4961, 'frontal': 4962, 'spill': 4963, 'weari': 4964, 'profil': 4965, 'optimist': 4966, 'evan': 4967, 'incorrect': 4968, 'sparkl': 4969, 'rapidli': 4970, 'walt': 4971, 'ghetto': 4972, 'handicap': 4973, 'playboy': 4974, 'modest': 4975, 'sophi': 4976, 'id': 4977, 'turtl': 4978, 'drone': 4979, 'epitom': 4980, 'macabr': 4981, 'verg': 4982, 'curtain': 4983, 'bravo': 4984, 'hackman': 4985, 'jill': 4986, 'reincarn': 4987, 'motorcycl': 4988, 'orchestr': 4989, 'masterson': 4990, 'mice': 4991, '21st': 4992, 'casper': 4993, 'growth': 4994, 'assort': 4995, 'weaker': 4996, 'scariest': 4997, 'hostil': 4998, 'asset': 4999}\n"
     ]
    }
   ],
   "source": [
    "print(word_dict)"
   ]
  },
  {
   "cell_type": "code",
   "execution_count": 39,
   "metadata": {},
   "outputs": [
    {
     "name": "stdout",
     "output_type": "stream",
     "text": [
      "['movi', 'film', 'one', 'like', 'time']\n"
     ]
    }
   ],
   "source": [
    "most_freq = [key for idx, (key, val) in enumerate(word_dict.items()) if idx < 5]\n",
    "print(most_freq)"
   ]
  },
  {
   "cell_type": "markdown",
   "metadata": {},
   "source": [
    "<a id='upload'></a>\n",
    "## Upload the Data to S3"
   ]
  },
  {
   "cell_type": "code",
   "execution_count": null,
   "metadata": {},
   "outputs": [],
   "source": []
  },
  {
   "cell_type": "markdown",
   "metadata": {},
   "source": [
    "<a id='train'></a>\n",
    "## Train a Model"
   ]
  },
  {
   "cell_type": "code",
   "execution_count": null,
   "metadata": {},
   "outputs": [],
   "source": []
  },
  {
   "cell_type": "markdown",
   "metadata": {},
   "source": [
    "<a id='test'></a>\n",
    "## Test the Trained Model"
   ]
  },
  {
   "cell_type": "code",
   "execution_count": null,
   "metadata": {},
   "outputs": [],
   "source": []
  },
  {
   "cell_type": "markdown",
   "metadata": {},
   "source": [
    "<a id='deploy'></a>\n",
    "## Deploy the Trained Model"
   ]
  },
  {
   "cell_type": "code",
   "execution_count": null,
   "metadata": {},
   "outputs": [],
   "source": []
  },
  {
   "cell_type": "markdown",
   "metadata": {},
   "source": [
    "<a id='use'></a>\n",
    "## Use the Deployed Model for Inference"
   ]
  },
  {
   "cell_type": "code",
   "execution_count": null,
   "metadata": {},
   "outputs": [],
   "source": []
  }
 ],
 "metadata": {
  "kernelspec": {
   "display_name": "conda_pytorch_p36",
   "language": "python",
   "name": "conda_pytorch_p36"
  },
  "language_info": {
   "codemirror_mode": {
    "name": "ipython",
    "version": 3
   },
   "file_extension": ".py",
   "mimetype": "text/x-python",
   "name": "python",
   "nbconvert_exporter": "python",
   "pygments_lexer": "ipython3",
   "version": "3.6.10"
  }
 },
 "nbformat": 4,
 "nbformat_minor": 4
}
