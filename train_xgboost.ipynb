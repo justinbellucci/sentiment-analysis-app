{
 "cells": [
  {
   "cell_type": "code",
   "execution_count": 1,
   "id": "7a90c5e0",
   "metadata": {},
   "outputs": [
    {
     "name": "stdout",
     "output_type": "stream",
     "text": [
      "mkdir: cannot create directory ‘../data’: File exists\n",
      "--2021-12-26 18:06:10--  http://ai.stanford.edu/~amaas/data/sentiment/aclImdb_v1.tar.gz\n",
      "Resolving ai.stanford.edu (ai.stanford.edu)... 171.64.68.10\n",
      "Connecting to ai.stanford.edu (ai.stanford.edu)|171.64.68.10|:80... connected.\n",
      "HTTP request sent, awaiting response... 200 OK\n",
      "Length: 84125825 (80M) [application/x-gzip]\n",
      "Saving to: ‘../data/aclImdb_v1.tar.gz’\n",
      "\n",
      "../data/aclImdb_v1. 100%[===================>]  80.23M  59.5MB/s    in 1.3s    \n",
      "\n",
      "2021-12-26 18:06:11 (59.5 MB/s) - ‘../data/aclImdb_v1.tar.gz’ saved [84125825/84125825]\n",
      "\n"
     ]
    }
   ],
   "source": [
    "%mkdir ../data\n",
    "!wget -O ../data/aclImdb_v1.tar.gz http://ai.stanford.edu/~amaas/data/sentiment/aclImdb_v1.tar.gz\n",
    "!tar -zxf ../data/aclImdb_v1.tar.gz -C ../data"
   ]
  },
  {
   "cell_type": "markdown",
   "id": "44ac2e22",
   "metadata": {},
   "source": [
    "## Prepare and Process Data"
   ]
  },
  {
   "cell_type": "code",
   "execution_count": 2,
   "id": "8540c100",
   "metadata": {},
   "outputs": [],
   "source": [
    "import os\n",
    "import glob\n",
    "\n",
    "def read_imdb_data(data_dir='../data/aclImdb'):\n",
    "    data = {}\n",
    "    labels = {}\n",
    "    \n",
    "    for data_type in ['train', 'test']:\n",
    "        data[data_type] = {}\n",
    "        labels[data_type] = {}\n",
    "        \n",
    "        for sentiment in ['pos', 'neg']:\n",
    "            data[data_type][sentiment] = []\n",
    "            labels[data_type][sentiment] = []\n",
    "            \n",
    "            path = os.path.join(data_dir, data_type, sentiment, '*.txt')\n",
    "            files = glob.glob(path)\n",
    "            \n",
    "            for f in files:\n",
    "                with open(f) as review:\n",
    "                    data[data_type][sentiment].append(review.read())\n",
    "                    # Here we represent a positive review by '1' and a negative review by '0'\n",
    "                    labels[data_type][sentiment].append(1 if sentiment == 'pos' else 0)\n",
    "                    \n",
    "            assert len(data[data_type][sentiment]) == len(labels[data_type][sentiment]), \\\n",
    "                    \"{}/{} data size does not match labels size\".format(data_type, sentiment)\n",
    "                \n",
    "    return data, labels"
   ]
  },
  {
   "cell_type": "code",
   "execution_count": 3,
   "id": "5cd543d1",
   "metadata": {},
   "outputs": [
    {
     "name": "stdout",
     "output_type": "stream",
     "text": [
      "IMDB reviews: train = 12500 pos / 12500 neg, test = 12500 pos / 12500 neg\n"
     ]
    }
   ],
   "source": [
    "data, labels = read_imdb_data()\n",
    "print(\"IMDB reviews: train = {} pos / {} neg, test = {} pos / {} neg\".format(\n",
    "            len(data['train']['pos']), len(data['train']['neg']),\n",
    "            len(data['test']['pos']), len(data['test']['neg'])))"
   ]
  },
  {
   "cell_type": "code",
   "execution_count": 4,
   "id": "26269f2d",
   "metadata": {},
   "outputs": [],
   "source": [
    "from sklearn.utils import shuffle\n",
    "\n",
    "def prepare_imdb_data(data, labels):\n",
    "    \"\"\"Prepare training and test sets from IMDb movie reviews.\"\"\"\n",
    "    \n",
    "    #Combine positive and negative reviews and labels\n",
    "    data_train = data['train']['pos'] + data['train']['neg']\n",
    "    data_test = data['test']['pos'] + data['test']['neg']\n",
    "    labels_train = labels['train']['pos'] + labels['train']['neg']\n",
    "    labels_test = labels['test']['pos'] + labels['test']['neg']\n",
    "    \n",
    "    #Shuffle reviews and corresponding labels within training and test sets\n",
    "    data_train, labels_train = shuffle(data_train, labels_train)\n",
    "    data_test, labels_test = shuffle(data_test, labels_test)\n",
    "    \n",
    "    # Return a unified training data, test data, training labels, test labets\n",
    "    return data_train, data_test, labels_train, labels_test"
   ]
  },
  {
   "cell_type": "code",
   "execution_count": 5,
   "id": "de520901",
   "metadata": {},
   "outputs": [
    {
     "name": "stdout",
     "output_type": "stream",
     "text": [
      "IMDb reviews (combined): train = 25000, test = 25000\n"
     ]
    }
   ],
   "source": [
    "train_X, test_X, train_y, test_y = prepare_imdb_data(data, labels)\n",
    "print(\"IMDb reviews (combined): train = {}, test = {}\".format(len(train_X), len(test_X)))"
   ]
  },
  {
   "cell_type": "code",
   "execution_count": 6,
   "id": "bfe6c0b5",
   "metadata": {},
   "outputs": [
    {
     "data": {
      "text/plain": [
       "\"I saw Brigadoon on TV last night (12 Sept 2009). I am 61 years old and have been watching films as long as I can remember. I can truthfully say that Brigadoon stands alone as by far and away the worst film I have ever seen. The accents were shameful. The local children's club would have produced better sets. The characters were so wooden that they probably contracted dry rot from the tears of the patrons who had the misfortune to watch them. It is to be hoped that the stars of this film had hides thick enough to protect them from the embarrassment which they must have suffered on seeing this film. The owners of this tripe should perform a great service to mankind and destroy all copies of this film.\""
      ]
     },
     "execution_count": 6,
     "metadata": {},
     "output_type": "execute_result"
    }
   ],
   "source": [
    "train_X[100]"
   ]
  },
  {
   "cell_type": "markdown",
   "id": "8c80f482",
   "metadata": {},
   "source": [
    "## Process the Data"
   ]
  },
  {
   "cell_type": "code",
   "execution_count": 7,
   "id": "8431d86c",
   "metadata": {},
   "outputs": [],
   "source": [
    "import re\n",
    "\n",
    "REPLACE_NO_SPACE = re.compile(\"(\\.)|(\\;)|(\\:)|(\\!)|(\\')|(\\?)|(\\,)|(\\\")|(\\()|(\\))|(\\[)|(\\])\")\n",
    "REPLACE_WITH_SPACE = re.compile(\"(<br\\s*/><br\\s*/>)|(\\-)|(\\/)\")\n",
    "\n",
    "def review_to_words(review):\n",
    "    words = REPLACE_NO_SPACE.sub(\"\", review.lower())\n",
    "    words = REPLACE_WITH_SPACE.sub(\" \", words)\n",
    "    return words"
   ]
  },
  {
   "cell_type": "code",
   "execution_count": 8,
   "id": "84be825b",
   "metadata": {},
   "outputs": [
    {
     "data": {
      "text/plain": [
       "'i saw brigadoon on tv last night 12 sept 2009 i am 61 years old and have been watching films as long as i can remember i can truthfully say that brigadoon stands alone as by far and away the worst film i have ever seen the accents were shameful the local childrens club would have produced better sets the characters were so wooden that they probably contracted dry rot from the tears of the patrons who had the misfortune to watch them it is to be hoped that the stars of this film had hides thick enough to protect them from the embarrassment which they must have suffered on seeing this film the owners of this tripe should perform a great service to mankind and destroy all copies of this film'"
      ]
     },
     "execution_count": 8,
     "metadata": {},
     "output_type": "execute_result"
    }
   ],
   "source": [
    "review_to_words(train_X[100])"
   ]
  },
  {
   "cell_type": "code",
   "execution_count": 9,
   "id": "13ecaab6",
   "metadata": {},
   "outputs": [],
   "source": [
    "import pickle\n",
    "\n",
    "cache_dir = os.path.join(\"../cache\", \"sentiment_xgboost\")  # where to store cache files\n",
    "os.makedirs(cache_dir, exist_ok=True)  # ensure cache directory exists\n",
    "\n",
    "def preprocess_data(data_train, data_test, labels_train, labels_test,\n",
    "                    cache_dir=cache_dir, cache_file=\"prepocessed_data_xgboost.pkl\"):\n",
    "    \"\"\"Convert each review to words; read from cache if available.\"\"\"\n",
    "\n",
    "    # If cache_file is not None, try to read from it first\n",
    "    cache_data = None\n",
    "    if cache_file is not None:\n",
    "        try:\n",
    "            with open(os.path.join(cache_dir, cache_file), \"rb\") as f:\n",
    "                cache_data = pickle.load(f)\n",
    "            print(\"Read preprocessed data from cache file:\", cache_file)\n",
    "        except:\n",
    "            pass  # unable to read from cache, but that's okay\n",
    "    \n",
    "    # If cache is missing, then do the heavy lifting\n",
    "    if cache_data is None:\n",
    "        # Preprocess training and test data to obtain words for each review\n",
    "        words_train = [review_to_words(review) for review in data_train]\n",
    "        words_test = [review_to_words(review) for review in data_test]\n",
    "        \n",
    "        # Write to cache file for future runs\n",
    "        if cache_file is not None:\n",
    "            cache_data = dict(words_train=words_train, words_test=words_test,\n",
    "                              labels_train=labels_train, labels_test=labels_test)\n",
    "            with open(os.path.join(cache_dir, cache_file), \"wb\") as f:\n",
    "                pickle.dump(cache_data, f)\n",
    "            print(\"Wrote preprocessed data to cache file:\", cache_file)\n",
    "    else:\n",
    "        # Unpack data loaded from cache file\n",
    "        words_train, words_test, labels_train, labels_test = (cache_data['words_train'],\n",
    "                cache_data['words_test'], cache_data['labels_train'], cache_data['labels_test'])\n",
    "    \n",
    "    return words_train, words_test, labels_train, labels_test"
   ]
  },
  {
   "cell_type": "code",
   "execution_count": 10,
   "id": "3341d9ea",
   "metadata": {},
   "outputs": [
    {
     "name": "stdout",
     "output_type": "stream",
     "text": [
      "Wrote preprocessed data to cache file: prepocessed_data_xgboost.pkl\n"
     ]
    }
   ],
   "source": [
    "# Preprocess data\n",
    "train_X, test_X, train_y, test_y = preprocess_data(train_X, test_X, train_y, test_y)"
   ]
  },
  {
   "cell_type": "markdown",
   "id": "2eb12610",
   "metadata": {},
   "source": [
    "## Extract Bag-of-Words Features"
   ]
  },
  {
   "cell_type": "code",
   "execution_count": 13,
   "id": "30d7f9cf",
   "metadata": {},
   "outputs": [],
   "source": [
    "import numpy as np\n",
    "from sklearn.feature_extraction.text import CountVectorizer\n",
    "import joblib\n",
    "\n",
    "def extract_BoW_features(words_train, words_test, vocabulary_size=5000,\n",
    "                         cache_dir=cache_dir, cache_file=\"bow_features.pkl\"):\n",
    "    \"\"\"Extract Bag-of-Words for a given set of documents, already preprocessed into words.\"\"\"\n",
    "    \n",
    "    # If cache_file is not None, try to read from it first\n",
    "    cache_data = None\n",
    "    if cache_file is not None:\n",
    "        try:\n",
    "            with open(os.path.join(cache_dir, cache_file), \"rb\") as f:\n",
    "                cache_data = joblib.load(f)\n",
    "            print(\"Read features from cache file:\", cache_file)\n",
    "        except:\n",
    "            pass  # unable to read from cache, but that's okay\n",
    "    \n",
    "    # If cache is missing, then do the heavy lifting\n",
    "    if cache_data is None:\n",
    "        # Fit a vectorizer to training documents and use it to transform them\n",
    "        vectorizer = CountVectorizer(max_features=vocabulary_size)\n",
    "        features_train = vectorizer.fit_transform(words_train).toarray()\n",
    "\n",
    "        # Apply the same vectorizer to transform the test documents (ignore unknown words)\n",
    "        features_test = vectorizer.transform(words_test).toarray()\n",
    "        \n",
    "        # NOTE: Remember to convert the features using .toarray() for a compact representation\n",
    "        \n",
    "        # Write to cache file for future runs (store vocabulary as well)\n",
    "        if cache_file is not None:\n",
    "            vocabulary = vectorizer.vocabulary_\n",
    "            cache_data = dict(features_train=features_train, features_test=features_test,\n",
    "                             vocabulary=vocabulary)\n",
    "            with open(os.path.join(cache_dir, cache_file), \"wb\") as f:\n",
    "                joblib.dump(cache_data, f)\n",
    "            print(\"Wrote features to cache file:\", cache_file)\n",
    "    else:\n",
    "        # Unpack data loaded from cache file\n",
    "        features_train, features_test, vocabulary = (cache_data['features_train'],\n",
    "                cache_data['features_test'], cache_data['vocabulary'])\n",
    "    \n",
    "    # Return both the extracted features as well as the vocabulary\n",
    "    return features_train, features_test, vocabulary"
   ]
  },
  {
   "cell_type": "code",
   "execution_count": 14,
   "id": "b66467ff",
   "metadata": {},
   "outputs": [
    {
     "name": "stdout",
     "output_type": "stream",
     "text": [
      "Read features from cache file: bow_features.pkl\n"
     ]
    }
   ],
   "source": [
    "# Extract Bag of Words features for both training and test datasets\n",
    "train_X, test_X, vocabulary = extract_BoW_features(train_X, test_X)"
   ]
  },
  {
   "cell_type": "code",
   "execution_count": 15,
   "id": "a98913ba",
   "metadata": {},
   "outputs": [
    {
     "data": {
      "text/plain": [
       "5000"
      ]
     },
     "execution_count": 15,
     "metadata": {},
     "output_type": "execute_result"
    }
   ],
   "source": [
    "len(train_X[100])"
   ]
  },
  {
   "cell_type": "markdown",
   "id": "2a89f42e",
   "metadata": {},
   "source": [
    "## Upload Data to S3"
   ]
  },
  {
   "cell_type": "code",
   "execution_count": 16,
   "id": "628abcec",
   "metadata": {},
   "outputs": [],
   "source": [
    "import pandas as pd\n",
    "import sagemaker\n",
    "import boto3\n",
    "import numpy as np\n",
    "import os\n",
    "from sagemaker.amazon.amazon_estimator import get_image_uri"
   ]
  },
  {
   "cell_type": "code",
   "execution_count": 17,
   "id": "3b678ce7",
   "metadata": {},
   "outputs": [],
   "source": [
    "val_X = pd.DataFrame(train_X[:10000])\n",
    "train_X = pd.DataFrame(train_X[10000:])\n",
    "\n",
    "val_y = pd.DataFrame(train_y[:10000])\n",
    "train_y = pd.DataFrame(train_y[10000:])"
   ]
  },
  {
   "cell_type": "code",
   "execution_count": 18,
   "id": "fb004b49",
   "metadata": {},
   "outputs": [],
   "source": [
    "data_dir = '../data/sentiment_web_app'\n",
    "if not os.path.exists(data_dir):\n",
    "    os.makedirs(data_dir)"
   ]
  },
  {
   "cell_type": "code",
   "execution_count": 19,
   "id": "c3a1c1be",
   "metadata": {},
   "outputs": [],
   "source": [
    "pd.DataFrame(test_X).to_csv(os.path.join(data_dir, 'test.csv'), header=False, index=False)\n",
    "pd.concat([val_y, val_X], axis=1).to_csv(os.path.join(data_dir, 'validation.csv'), header=False, index=False)\n",
    "pd.concat([train_y, train_X], axis=1).to_csv(os.path.join(data_dir, 'train.csv'), header=False, index=False)"
   ]
  },
  {
   "cell_type": "code",
   "execution_count": 37,
   "id": "bc948191",
   "metadata": {},
   "outputs": [],
   "source": [
    "sagemaker_session = sagemaker.Session()\n",
    "boto_session = boto3.session.Session()\n",
    "role = sagemaker.get_execution_role()\n",
    "bucket = session.default_bucket()\n",
    "region = boto_session.region_name\n",
    "prefix = 'sagemaker/sentiment_xgboost'"
   ]
  },
  {
   "cell_type": "code",
   "execution_count": 40,
   "id": "4e97211a",
   "metadata": {},
   "outputs": [
    {
     "name": "stdout",
     "output_type": "stream",
     "text": [
      "Boto Session:  Session(region_name='us-west-2')\n",
      "Sagemaker Session:  <sagemaker.session.Session object at 0x7f0931ffa978>\n",
      "Role : arn:aws:iam::904606187431:role/service-role/AmazonSageMaker-ExecutionRole-20211223T092713\n",
      "S3 Bucket : sagemaker-us-west-2-904606187431\n",
      "S3 Prefix : sagemaker/sentiment_xgboost\n"
     ]
    }
   ],
   "source": [
    "print(\"Boto Session: \",boto_session)\n",
    "print(\"Sagemaker Session: \",sagemaker_session)\n",
    "print(\"Role :\",role)\n",
    "print(\"S3 Bucket :\",bucket)\n",
    "print(\"S3 Prefix :\",prefix)"
   ]
  },
  {
   "cell_type": "code",
   "execution_count": 41,
   "id": "9b074e18",
   "metadata": {},
   "outputs": [],
   "source": [
    "test_location = sagemaker_session.upload_data(os.path.join(data_dir, 'test.csv'), key_prefix=prefix)\n",
    "val_location = sagemaker_session.upload_data(os.path.join(data_dir, 'validation.csv'), key_prefix=prefix)\n",
    "train_location = sagemaker_session.upload_data(os.path.join(data_dir, 'train.csv'), key_prefix=prefix)"
   ]
  },
  {
   "cell_type": "markdown",
   "id": "e9c42e2d",
   "metadata": {},
   "source": [
    "## Create the XGboost Model"
   ]
  },
  {
   "cell_type": "code",
   "execution_count": 43,
   "id": "2c7b138c",
   "metadata": {},
   "outputs": [],
   "source": [
    "training_instance_type = 'ml.m4.xlarge'\n",
    "\n",
    "# retrieve xgboost image\n",
    "image_uri = sagemaker.image_uris.retrieve(\n",
    "    framework=\"xgboost\",\n",
    "    region=region,\n",
    "    version=\"1.0-1\",\n",
    "    py_version=\"py3\",\n",
    "    instance_type=training_instance_type,\n",
    ")"
   ]
  },
  {
   "cell_type": "code",
   "execution_count": 45,
   "id": "3b30aa9a",
   "metadata": {},
   "outputs": [],
   "source": [
    "# First we create a SageMaker estimator object for our model.\n",
    "xgb = sagemaker.estimator.Estimator(image_uri=image_uri, # The location of the container we wish to use\n",
    "                                    role=role,                                    # What is our current IAM Role\n",
    "                                    instance_count=1,                  # How many compute instances\n",
    "                                    instance_type=training_instance_type,      # What kind of compute instances\n",
    "                                    output_path='s3://{}/{}/output'.format(session.default_bucket(), prefix),\n",
    "                                    sagemaker_session=session)\n",
    "\n",
    "# And then set the algorithm specific parameters.\n",
    "xgb.set_hyperparameters(max_depth=5,\n",
    "                        eta=0.2,\n",
    "                        gamma=4,\n",
    "                        min_child_weight=6,\n",
    "                        subsample=0.8,\n",
    "                        silent=0,\n",
    "                        objective='binary:logistic',\n",
    "                        early_stopping_rounds=10,\n",
    "                        num_round=500)"
   ]
  },
  {
   "cell_type": "markdown",
   "id": "75eb86fe",
   "metadata": {},
   "source": [
    "## Train the Model"
   ]
  },
  {
   "cell_type": "code",
   "execution_count": 48,
   "id": "a27d299e",
   "metadata": {},
   "outputs": [
    {
     "name": "stdout",
     "output_type": "stream",
     "text": [
      "s3://sagemaker-us-west-2-904606187431/sagemaker/sentiment_xgboost/test.csv\n",
      "s3://sagemaker-us-west-2-904606187431/sagemaker/sentiment_xgboost/validation.csv\n",
      "s3://sagemaker-us-west-2-904606187431/sagemaker/sentiment_xgboost/train.csv\n"
     ]
    }
   ],
   "source": [
    "print(test_location)\n",
    "print(val_location)\n",
    "print(train_location)"
   ]
  },
  {
   "cell_type": "code",
   "execution_count": 49,
   "id": "e9e3c661",
   "metadata": {},
   "outputs": [],
   "source": [
    "from sagemaker.inputs import TrainingInput\n",
    "\n",
    "train_input = TrainingInput(train_location, content_type=\"text/csv\")\n",
    "val_input = TrainingInput(val_location, content_type=\"text/csv\")"
   ]
  },
  {
   "cell_type": "code",
   "execution_count": 50,
   "id": "297560ce",
   "metadata": {
    "scrolled": true
   },
   "outputs": [
    {
     "name": "stdout",
     "output_type": "stream",
     "text": [
      "2021-12-26 18:53:22 Starting - Starting the training job...\n",
      "2021-12-26 18:53:24 Starting - Launching requested ML instancesProfilerReport-1640544802: InProgress\n",
      "......\n",
      "2021-12-26 18:54:46 Starting - Preparing the instances for training.........\n",
      "2021-12-26 18:56:16 Downloading - Downloading input data...\n",
      "2021-12-26 18:56:46 Training - Downloading the training image...\n",
      "2021-12-26 18:57:11 Training - Training image download completed. Training in progress..\u001b[34mINFO:sagemaker-containers:Imported framework sagemaker_xgboost_container.training\u001b[0m\n",
      "\u001b[34mINFO:sagemaker-containers:Failed to parse hyperparameter objective value binary:logistic to Json.\u001b[0m\n",
      "\u001b[34mReturning the value itself\u001b[0m\n",
      "\u001b[34mINFO:sagemaker-containers:No GPUs detected (normal if no gpus installed)\u001b[0m\n",
      "\u001b[34mINFO:sagemaker_xgboost_container.training:Running XGBoost Sagemaker in algorithm mode\u001b[0m\n",
      "\u001b[34mINFO:root:Determined delimiter of CSV input is ','\u001b[0m\n",
      "\u001b[34mINFO:root:Determined delimiter of CSV input is ','\u001b[0m\n",
      "\u001b[34mINFO:root:Determined delimiter of CSV input is ','\u001b[0m\n",
      "\u001b[34m[18:57:18] 15000x5000 matrix with 75000000 entries loaded from /opt/ml/input/data/train?format=csv&label_column=0&delimiter=,\u001b[0m\n",
      "\u001b[34mINFO:root:Determined delimiter of CSV input is ','\u001b[0m\n",
      "\u001b[34m[18:57:20] 10000x5000 matrix with 50000000 entries loaded from /opt/ml/input/data/validation?format=csv&label_column=0&delimiter=,\u001b[0m\n",
      "\u001b[34mINFO:root:Single node training.\u001b[0m\n",
      "\u001b[34mINFO:root:Train matrix has 15000 rows\u001b[0m\n",
      "\u001b[34mINFO:root:Validation matrix has 10000 rows\u001b[0m\n",
      "\u001b[34m[18:57:20] WARNING: /workspace/src/learner.cc:328: \u001b[0m\n",
      "\u001b[34mParameters: { early_stopping_rounds, num_round, silent } might not be used.\n",
      "  This may not be accurate due to some parameters are only used in language bindings but\n",
      "  passed down to XGBoost core.  Or some parameters are not used but slip through this\n",
      "  verification. Please open an issue if you find above cases.\u001b[0m\n",
      "\u001b[34m[0]#011train-error:0.30147#011validation-error:0.30830\u001b[0m\n",
      "\u001b[34m[1]#011train-error:0.28693#011validation-error:0.29450\u001b[0m\n",
      "\u001b[34m[2]#011train-error:0.29040#011validation-error:0.29870\u001b[0m\n",
      "\u001b[34m[3]#011train-error:0.27553#011validation-error:0.28470\u001b[0m\n",
      "\u001b[34m[4]#011train-error:0.26473#011validation-error:0.27890\u001b[0m\n",
      "\u001b[34m[5]#011train-error:0.25593#011validation-error:0.27250\u001b[0m\n",
      "\u001b[34m[6]#011train-error:0.24740#011validation-error:0.26350\u001b[0m\n",
      "\u001b[34m[7]#011train-error:0.24427#011validation-error:0.26150\u001b[0m\n",
      "\u001b[34m[8]#011train-error:0.23880#011validation-error:0.25560\u001b[0m\n",
      "\u001b[34m[9]#011train-error:0.23013#011validation-error:0.25050\u001b[0m\n",
      "\u001b[34m[10]#011train-error:0.22527#011validation-error:0.24420\u001b[0m\n",
      "\u001b[34m[11]#011train-error:0.21820#011validation-error:0.23900\u001b[0m\n",
      "\u001b[34m[12]#011train-error:0.21553#011validation-error:0.23230\u001b[0m\n",
      "\u001b[34m[13]#011train-error:0.21100#011validation-error:0.23030\u001b[0m\n",
      "\u001b[34m[14]#011train-error:0.20707#011validation-error:0.22710\u001b[0m\n",
      "\u001b[34m[15]#011train-error:0.20373#011validation-error:0.22390\u001b[0m\n",
      "\u001b[34m[16]#011train-error:0.20107#011validation-error:0.21900\u001b[0m\n",
      "\u001b[34m[17]#011train-error:0.19700#011validation-error:0.21590\u001b[0m\n",
      "\u001b[34m[18]#011train-error:0.19480#011validation-error:0.21360\u001b[0m\n",
      "\u001b[34m[19]#011train-error:0.19167#011validation-error:0.21280\u001b[0m\n",
      "\u001b[34m[20]#011train-error:0.19093#011validation-error:0.21110\u001b[0m\n",
      "\u001b[34m[21]#011train-error:0.18760#011validation-error:0.20950\u001b[0m\n",
      "\u001b[34m[22]#011train-error:0.18527#011validation-error:0.20630\u001b[0m\n",
      "\u001b[34m[23]#011train-error:0.18187#011validation-error:0.20610\u001b[0m\n",
      "\u001b[34m[24]#011train-error:0.18060#011validation-error:0.20580\u001b[0m\n",
      "\u001b[34m[25]#011train-error:0.17960#011validation-error:0.20340\u001b[0m\n",
      "\u001b[34m[26]#011train-error:0.17707#011validation-error:0.20080\u001b[0m\n",
      "\u001b[34m[27]#011train-error:0.17727#011validation-error:0.20060\u001b[0m\n",
      "\u001b[34m[28]#011train-error:0.17327#011validation-error:0.19700\u001b[0m\n",
      "\u001b[34m[29]#011train-error:0.17200#011validation-error:0.19670\u001b[0m\n",
      "\u001b[34m[30]#011train-error:0.16973#011validation-error:0.19610\u001b[0m\n",
      "\u001b[34m[31]#011train-error:0.16767#011validation-error:0.19390\u001b[0m\n",
      "\u001b[34m[32]#011train-error:0.16560#011validation-error:0.19370\u001b[0m\n",
      "\u001b[34m[33]#011train-error:0.16480#011validation-error:0.19340\u001b[0m\n",
      "\u001b[34m[34]#011train-error:0.16300#011validation-error:0.19030\u001b[0m\n",
      "\u001b[34m[35]#011train-error:0.15873#011validation-error:0.18730\u001b[0m\n",
      "\u001b[34m[36]#011train-error:0.15720#011validation-error:0.18640\u001b[0m\n",
      "\u001b[34m[37]#011train-error:0.15527#011validation-error:0.18570\u001b[0m\n",
      "\u001b[34m[38]#011train-error:0.15447#011validation-error:0.18390\u001b[0m\n",
      "\u001b[34m[39]#011train-error:0.15480#011validation-error:0.18430\u001b[0m\n",
      "\u001b[34m[40]#011train-error:0.15367#011validation-error:0.18340\u001b[0m\n",
      "\u001b[34m[41]#011train-error:0.15033#011validation-error:0.18300\u001b[0m\n",
      "\u001b[34m[42]#011train-error:0.15000#011validation-error:0.18210\u001b[0m\n",
      "\u001b[34m[43]#011train-error:0.14873#011validation-error:0.18240\u001b[0m\n",
      "\u001b[34m[44]#011train-error:0.14613#011validation-error:0.18150\u001b[0m\n",
      "\u001b[34m[45]#011train-error:0.14473#011validation-error:0.17930\u001b[0m\n",
      "\u001b[34m[46]#011train-error:0.14387#011validation-error:0.17810\u001b[0m\n",
      "\u001b[34m[47]#011train-error:0.14273#011validation-error:0.17710\u001b[0m\n",
      "\u001b[34m[48]#011train-error:0.14127#011validation-error:0.17740\u001b[0m\n",
      "\u001b[34m[49]#011train-error:0.14093#011validation-error:0.17700\u001b[0m\n",
      "\u001b[34m[50]#011train-error:0.14047#011validation-error:0.17630\u001b[0m\n",
      "\u001b[34m[51]#011train-error:0.13840#011validation-error:0.17540\u001b[0m\n",
      "\u001b[34m[52]#011train-error:0.13753#011validation-error:0.17400\u001b[0m\n",
      "\u001b[34m[53]#011train-error:0.13633#011validation-error:0.17420\u001b[0m\n",
      "\u001b[34m[54]#011train-error:0.13493#011validation-error:0.17320\u001b[0m\n",
      "\u001b[34m[55]#011train-error:0.13333#011validation-error:0.17290\u001b[0m\n",
      "\u001b[34m[56]#011train-error:0.13253#011validation-error:0.17120\u001b[0m\n",
      "\u001b[34m[57]#011train-error:0.13220#011validation-error:0.17150\u001b[0m\n",
      "\u001b[34m[58]#011train-error:0.13167#011validation-error:0.17000\u001b[0m\n",
      "\u001b[34m[59]#011train-error:0.12927#011validation-error:0.16920\u001b[0m\n",
      "\u001b[34m[60]#011train-error:0.12847#011validation-error:0.16780\u001b[0m\n",
      "\u001b[34m[61]#011train-error:0.12820#011validation-error:0.16650\u001b[0m\n",
      "\u001b[34m[62]#011train-error:0.12653#011validation-error:0.16600\u001b[0m\n",
      "\u001b[34m[63]#011train-error:0.12640#011validation-error:0.16590\u001b[0m\n",
      "\u001b[34m[64]#011train-error:0.12553#011validation-error:0.16550\u001b[0m\n",
      "\u001b[34m[65]#011train-error:0.12473#011validation-error:0.16570\u001b[0m\n",
      "\u001b[34m[66]#011train-error:0.12373#011validation-error:0.16490\u001b[0m\n",
      "\u001b[34m[67]#011train-error:0.12327#011validation-error:0.16390\u001b[0m\n",
      "\u001b[34m[68]#011train-error:0.12307#011validation-error:0.16370\u001b[0m\n",
      "\u001b[34m[69]#011train-error:0.12287#011validation-error:0.16280\u001b[0m\n",
      "\u001b[34m[70]#011train-error:0.12173#011validation-error:0.16240\u001b[0m\n",
      "\u001b[34m[71]#011train-error:0.12113#011validation-error:0.16250\u001b[0m\n",
      "\u001b[34m[72]#011train-error:0.12093#011validation-error:0.16230\u001b[0m\n",
      "\u001b[34m[73]#011train-error:0.11947#011validation-error:0.16280\u001b[0m\n",
      "\u001b[34m[74]#011train-error:0.11800#011validation-error:0.16240\u001b[0m\n",
      "\u001b[34m[75]#011train-error:0.11833#011validation-error:0.16170\u001b[0m\n",
      "\u001b[34m[76]#011train-error:0.11753#011validation-error:0.16120\u001b[0m\n",
      "\u001b[34m[77]#011train-error:0.11687#011validation-error:0.16190\u001b[0m\n",
      "\u001b[34m[78]#011train-error:0.11480#011validation-error:0.15960\u001b[0m\n",
      "\u001b[34m[79]#011train-error:0.11420#011validation-error:0.15920\u001b[0m\n",
      "\u001b[34m[80]#011train-error:0.11420#011validation-error:0.15870\u001b[0m\n",
      "\u001b[34m[81]#011train-error:0.11273#011validation-error:0.15920\u001b[0m\n",
      "\u001b[34m[82]#011train-error:0.11233#011validation-error:0.15860\u001b[0m\n",
      "\u001b[34m[83]#011train-error:0.11187#011validation-error:0.15830\u001b[0m\n",
      "\u001b[34m[84]#011train-error:0.11073#011validation-error:0.15740\u001b[0m\n",
      "\u001b[34m[85]#011train-error:0.11080#011validation-error:0.15770\u001b[0m\n",
      "\u001b[34m[86]#011train-error:0.11027#011validation-error:0.15710\u001b[0m\n",
      "\u001b[34m[87]#011train-error:0.10987#011validation-error:0.15610\u001b[0m\n",
      "\u001b[34m[88]#011train-error:0.10907#011validation-error:0.15650\u001b[0m\n",
      "\u001b[34m[89]#011train-error:0.10707#011validation-error:0.15600\u001b[0m\n",
      "\u001b[34m[90]#011train-error:0.10713#011validation-error:0.15500\u001b[0m\n",
      "\u001b[34m[91]#011train-error:0.10713#011validation-error:0.15500\u001b[0m\n",
      "\u001b[34m[92]#011train-error:0.10640#011validation-error:0.15440\u001b[0m\n",
      "\u001b[34m[93]#011train-error:0.10720#011validation-error:0.15530\u001b[0m\n",
      "\u001b[34m[94]#011train-error:0.10640#011validation-error:0.15530\u001b[0m\n",
      "\u001b[34m[95]#011train-error:0.10593#011validation-error:0.15460\u001b[0m\n",
      "\u001b[34m[96]#011train-error:0.10573#011validation-error:0.15450\u001b[0m\n",
      "\u001b[34m[97]#011train-error:0.10513#011validation-error:0.15420\u001b[0m\n",
      "\u001b[34m[98]#011train-error:0.10400#011validation-error:0.15440\u001b[0m\n",
      "\u001b[34m[99]#011train-error:0.10333#011validation-error:0.15400\u001b[0m\n",
      "\u001b[34m[100]#011train-error:0.10220#011validation-error:0.15330\u001b[0m\n",
      "\u001b[34m[101]#011train-error:0.10167#011validation-error:0.15290\u001b[0m\n",
      "\u001b[34m[102]#011train-error:0.10093#011validation-error:0.15240\u001b[0m\n",
      "\u001b[34m[103]#011train-error:0.10027#011validation-error:0.15140\u001b[0m\n",
      "\u001b[34m[104]#011train-error:0.10027#011validation-error:0.15080\u001b[0m\n",
      "\u001b[34m[105]#011train-error:0.09980#011validation-error:0.15140\u001b[0m\n",
      "\u001b[34m[106]#011train-error:0.09933#011validation-error:0.15160\u001b[0m\n",
      "\u001b[34m[107]#011train-error:0.09793#011validation-error:0.15150\u001b[0m\n",
      "\u001b[34m[108]#011train-error:0.09753#011validation-error:0.15130\u001b[0m\n",
      "\u001b[34m[109]#011train-error:0.09780#011validation-error:0.15120\u001b[0m\n",
      "\u001b[34m[110]#011train-error:0.09807#011validation-error:0.15100\u001b[0m\n",
      "\u001b[34m[111]#011train-error:0.09680#011validation-error:0.15150\u001b[0m\n",
      "\u001b[34m[112]#011train-error:0.09680#011validation-error:0.15140\u001b[0m\n",
      "\u001b[34m[113]#011train-error:0.09693#011validation-error:0.15110\u001b[0m\n",
      "\u001b[34m[114]#011train-error:0.09680#011validation-error:0.15000\u001b[0m\n",
      "\u001b[34m[115]#011train-error:0.09567#011validation-error:0.14990\u001b[0m\n",
      "\u001b[34m[116]#011train-error:0.09567#011validation-error:0.14970\u001b[0m\n",
      "\u001b[34m[117]#011train-error:0.09547#011validation-error:0.14910\u001b[0m\n",
      "\u001b[34m[118]#011train-error:0.09567#011validation-error:0.14830\u001b[0m\n",
      "\u001b[34m[119]#011train-error:0.09520#011validation-error:0.14810\u001b[0m\n",
      "\u001b[34m[120]#011train-error:0.09520#011validation-error:0.14790\u001b[0m\n",
      "\u001b[34m[121]#011train-error:0.09513#011validation-error:0.14720\u001b[0m\n",
      "\u001b[34m[122]#011train-error:0.09440#011validation-error:0.14760\u001b[0m\n",
      "\u001b[34m[123]#011train-error:0.09380#011validation-error:0.14780\u001b[0m\n",
      "\u001b[34m[124]#011train-error:0.09287#011validation-error:0.14790\u001b[0m\n",
      "\u001b[34m[125]#011train-error:0.09340#011validation-error:0.14760\u001b[0m\n",
      "\u001b[34m[126]#011train-error:0.09227#011validation-error:0.14770\u001b[0m\n",
      "\u001b[34m[127]#011train-error:0.09227#011validation-error:0.14680\u001b[0m\n",
      "\u001b[34m[128]#011train-error:0.09147#011validation-error:0.14600\u001b[0m\n",
      "\u001b[34m[129]#011train-error:0.09147#011validation-error:0.14580\u001b[0m\n",
      "\u001b[34m[130]#011train-error:0.09147#011validation-error:0.14580\u001b[0m\n",
      "\u001b[34m[131]#011train-error:0.09133#011validation-error:0.14530\u001b[0m\n",
      "\u001b[34m[132]#011train-error:0.09133#011validation-error:0.14550\u001b[0m\n",
      "\u001b[34m[133]#011train-error:0.09127#011validation-error:0.14550\u001b[0m\n",
      "\u001b[34m[134]#011train-error:0.09060#011validation-error:0.14510\u001b[0m\n",
      "\u001b[34m[135]#011train-error:0.09007#011validation-error:0.14550\u001b[0m\n",
      "\u001b[34m[136]#011train-error:0.09000#011validation-error:0.14560\u001b[0m\n",
      "\u001b[34m[137]#011train-error:0.08887#011validation-error:0.14570\u001b[0m\n",
      "\u001b[34m[138]#011train-error:0.08800#011validation-error:0.14540\u001b[0m\n",
      "\u001b[34m[139]#011train-error:0.08753#011validation-error:0.14510\u001b[0m\n",
      "\u001b[34m[140]#011train-error:0.08713#011validation-error:0.14560\u001b[0m\n",
      "\u001b[34m[141]#011train-error:0.08793#011validation-error:0.14550\u001b[0m\n",
      "\u001b[34m[142]#011train-error:0.08740#011validation-error:0.14480\u001b[0m\n",
      "\u001b[34m[143]#011train-error:0.08760#011validation-error:0.14530\u001b[0m\n",
      "\u001b[34m[144]#011train-error:0.08733#011validation-error:0.14560\u001b[0m\n",
      "\u001b[34m[145]#011train-error:0.08667#011validation-error:0.14520\u001b[0m\n",
      "\u001b[34m[146]#011train-error:0.08560#011validation-error:0.14470\u001b[0m\n",
      "\u001b[34m[147]#011train-error:0.08527#011validation-error:0.14430\u001b[0m\n",
      "\u001b[34m[148]#011train-error:0.08427#011validation-error:0.14470\u001b[0m\n",
      "\u001b[34m[149]#011train-error:0.08400#011validation-error:0.14390\u001b[0m\n",
      "\u001b[34m[150]#011train-error:0.08413#011validation-error:0.14350\u001b[0m\n",
      "\u001b[34m[151]#011train-error:0.08367#011validation-error:0.14340\u001b[0m\n",
      "\u001b[34m[152]#011train-error:0.08373#011validation-error:0.14300\u001b[0m\n",
      "\u001b[34m[153]#011train-error:0.08360#011validation-error:0.14230\u001b[0m\n",
      "\u001b[34m[154]#011train-error:0.08353#011validation-error:0.14150\u001b[0m\n",
      "\u001b[34m[155]#011train-error:0.08327#011validation-error:0.14110\u001b[0m\n",
      "\u001b[34m[156]#011train-error:0.08187#011validation-error:0.14160\u001b[0m\n",
      "\u001b[34m[157]#011train-error:0.08147#011validation-error:0.14130\u001b[0m\n",
      "\u001b[34m[158]#011train-error:0.08193#011validation-error:0.14070\u001b[0m\n",
      "\u001b[34m[159]#011train-error:0.08200#011validation-error:0.14060\u001b[0m\n",
      "\u001b[34m[160]#011train-error:0.08153#011validation-error:0.14030\u001b[0m\n",
      "\u001b[34m[161]#011train-error:0.08167#011validation-error:0.14020\u001b[0m\n",
      "\u001b[34m[162]#011train-error:0.08013#011validation-error:0.13970\u001b[0m\n",
      "\u001b[34m[163]#011train-error:0.07980#011validation-error:0.14000\u001b[0m\n",
      "\u001b[34m[164]#011train-error:0.07933#011validation-error:0.13980\u001b[0m\n",
      "\u001b[34m[165]#011train-error:0.07920#011validation-error:0.13970\u001b[0m\n",
      "\u001b[34m[166]#011train-error:0.07893#011validation-error:0.13930\u001b[0m\n",
      "\u001b[34m[167]#011train-error:0.07867#011validation-error:0.13870\u001b[0m\n",
      "\u001b[34m[168]#011train-error:0.07847#011validation-error:0.13840\u001b[0m\n",
      "\u001b[34m[169]#011train-error:0.07827#011validation-error:0.13850\u001b[0m\n",
      "\u001b[34m[170]#011train-error:0.07713#011validation-error:0.13940\u001b[0m\n",
      "\u001b[34m[171]#011train-error:0.07747#011validation-error:0.13810\u001b[0m\n",
      "\u001b[34m[172]#011train-error:0.07687#011validation-error:0.13910\u001b[0m\n",
      "\u001b[34m[173]#011train-error:0.07693#011validation-error:0.13820\u001b[0m\n",
      "\u001b[34m[174]#011train-error:0.07667#011validation-error:0.13820\u001b[0m\n",
      "\u001b[34m[175]#011train-error:0.07633#011validation-error:0.13850\u001b[0m\n",
      "\u001b[34m[176]#011train-error:0.07633#011validation-error:0.13880\u001b[0m\n",
      "\u001b[34m[177]#011train-error:0.07547#011validation-error:0.13930\u001b[0m\n",
      "\u001b[34m[178]#011train-error:0.07493#011validation-error:0.13910\u001b[0m\n",
      "\u001b[34m[179]#011train-error:0.07467#011validation-error:0.13780\u001b[0m\n",
      "\u001b[34m[180]#011train-error:0.07507#011validation-error:0.13840\u001b[0m\n",
      "\u001b[34m[181]#011train-error:0.07507#011validation-error:0.13920\u001b[0m\n",
      "\u001b[34m[182]#011train-error:0.07487#011validation-error:0.13910\u001b[0m\n",
      "\u001b[34m[183]#011train-error:0.07407#011validation-error:0.13840\u001b[0m\n",
      "\u001b[34m[184]#011train-error:0.07200#011validation-error:0.13800\u001b[0m\n",
      "\u001b[34m[185]#011train-error:0.07240#011validation-error:0.13890\u001b[0m\n",
      "\u001b[34m[186]#011train-error:0.07207#011validation-error:0.13860\u001b[0m\n",
      "\u001b[34m[187]#011train-error:0.07173#011validation-error:0.13840\u001b[0m\n",
      "\u001b[34m[188]#011train-error:0.07107#011validation-error:0.13820\u001b[0m\n",
      "\u001b[34m[189]#011train-error:0.07100#011validation-error:0.13840\u001b[0m\n",
      "\n",
      "2021-12-26 19:01:28 Uploading - Uploading generated training model\n",
      "2021-12-26 19:01:28 Completed - Training job completed\n",
      "ProfilerReport-1640544802: NoIssuesFound\n",
      "Training seconds: 302\n",
      "Billable seconds: 302\n"
     ]
    }
   ],
   "source": [
    "xgb.fit({'train': train_input, 'validation': val_input})"
   ]
  },
  {
   "cell_type": "markdown",
   "id": "9d7d5f84",
   "metadata": {},
   "source": [
    "## Perform a Batch Transform Job to Test"
   ]
  },
  {
   "cell_type": "code",
   "execution_count": 52,
   "id": "153e7869",
   "metadata": {},
   "outputs": [],
   "source": [
    "xgb_transformer = xgb.transformer(instance_count=1, \n",
    "                                  instance_type='ml.m4.xlarge')"
   ]
  },
  {
   "cell_type": "code",
   "execution_count": 53,
   "id": "d23bd80e",
   "metadata": {
    "scrolled": true
   },
   "outputs": [
    {
     "name": "stdout",
     "output_type": "stream",
     "text": [
      "..................................\u001b[34m[2021-12-26:19:09:07:INFO] No GPUs detected (normal if no gpus installed)\u001b[0m\n",
      "\u001b[34m[2021-12-26:19:09:07:INFO] No GPUs detected (normal if no gpus installed)\u001b[0m\n",
      "\u001b[34m[2021-12-26:19:09:07:INFO] nginx config: \u001b[0m\n",
      "\u001b[34mworker_processes auto;\u001b[0m\n",
      "\u001b[34mdaemon off;\u001b[0m\n",
      "\u001b[34mpid /tmp/nginx.pid;\u001b[0m\n",
      "\u001b[34merror_log  /dev/stderr;\u001b[0m\n",
      "\u001b[34mworker_rlimit_nofile 4096;\u001b[0m\n",
      "\u001b[34mevents {\n",
      "  worker_connections 2048;\u001b[0m\n",
      "\u001b[34m}\u001b[0m\n",
      "\u001b[34mhttp {\n",
      "  include /etc/nginx/mime.types;\n",
      "  default_type application/octet-stream;\n",
      "  access_log /dev/stdout combined;\n",
      "  upstream gunicorn {\n",
      "    server unix:/tmp/gunicorn.sock;\n",
      "  }\n",
      "  server {\n",
      "    listen 8080 deferred;\n",
      "    client_max_body_size 0;\n",
      "    keepalive_timeout 3;\n",
      "    location ~ ^/(ping|invocations|execution-parameters) {\n",
      "      proxy_set_header X-Forwarded-For $proxy_add_x_forwarded_for;\n",
      "      proxy_set_header Host $http_host;\n",
      "      proxy_redirect off;\n",
      "      proxy_read_timeout 60s;\n",
      "      proxy_pass http://gunicorn;\n",
      "    }\n",
      "    location / {\n",
      "      return 404 \"{}\";\n",
      "    }\n",
      "  }\u001b[0m\n",
      "\u001b[34m}\u001b[0m\n",
      "\u001b[34m[2021-12-26 19:09:07 +0000] [19] [INFO] Starting gunicorn 19.10.0\u001b[0m\n",
      "\u001b[34m[2021-12-26 19:09:07 +0000] [19] [INFO] Listening at: unix:/tmp/gunicorn.sock (19)\u001b[0m\n",
      "\u001b[34m[2021-12-26 19:09:07 +0000] [19] [INFO] Using worker: gevent\u001b[0m\n",
      "\u001b[34m[2021-12-26 19:09:07 +0000] [26] [INFO] Booting worker with pid: 26\u001b[0m\n",
      "\u001b[34m[2021-12-26 19:09:07 +0000] [27] [INFO] Booting worker with pid: 27\u001b[0m\n",
      "\u001b[34m[2021-12-26 19:09:07 +0000] [31] [INFO] Booting worker with pid: 31\u001b[0m\n",
      "\u001b[34m[2021-12-26 19:09:07 +0000] [32] [INFO] Booting worker with pid: 32\u001b[0m\n",
      "\u001b[34m[2021-12-26:19:09:13:INFO] No GPUs detected (normal if no gpus installed)\u001b[0m\n",
      "\u001b[34m169.254.255.130 - - [26/Dec/2021:19:09:13 +0000] \"GET /ping HTTP/1.1\" 200 0 \"-\" \"Go-http-client/1.1\"\u001b[0m\n",
      "\u001b[34m[2021-12-26:19:09:13:INFO] No GPUs detected (normal if no gpus installed)\u001b[0m\n",
      "\u001b[34m169.254.255.130 - - [26/Dec/2021:19:09:13 +0000] \"GET /execution-parameters HTTP/1.1\" 200 84 \"-\" \"Go-http-client/1.1\"\u001b[0m\n",
      "\u001b[32m2021-12-26T19:09:13.549:[sagemaker logs]: MaxConcurrentTransforms=4, MaxPayloadInMB=6, BatchStrategy=MULTI_RECORD\u001b[0m\n",
      "\u001b[34m[2021-12-26:19:09:16:INFO] No GPUs detected (normal if no gpus installed)\u001b[0m\n",
      "\u001b[34m[2021-12-26:19:09:16:INFO] No GPUs detected (normal if no gpus installed)\u001b[0m\n",
      "\u001b[34m[2021-12-26:19:09:17:INFO] Determined delimiter of CSV input is ','\u001b[0m\n",
      "\u001b[34m[2021-12-26:19:09:17:INFO] Determined delimiter of CSV input is ','\u001b[0m\n",
      "\u001b[34m[2021-12-26:19:09:17:INFO] Determined delimiter of CSV input is ','\u001b[0m\n",
      "\u001b[35m[2021-12-26:19:09:16:INFO] No GPUs detected (normal if no gpus installed)\u001b[0m\n",
      "\u001b[35m[2021-12-26:19:09:16:INFO] No GPUs detected (normal if no gpus installed)\u001b[0m\n",
      "\u001b[35m[2021-12-26:19:09:17:INFO] Determined delimiter of CSV input is ','\u001b[0m\n",
      "\u001b[35m[2021-12-26:19:09:17:INFO] Determined delimiter of CSV input is ','\u001b[0m\n",
      "\u001b[35m[2021-12-26:19:09:17:INFO] Determined delimiter of CSV input is ','\u001b[0m\n",
      "\u001b[34m[2021-12-26:19:09:17:INFO] Determined delimiter of CSV input is ','\u001b[0m\n",
      "\u001b[35m[2021-12-26:19:09:17:INFO] Determined delimiter of CSV input is ','\u001b[0m\n",
      "\u001b[34m169.254.255.130 - - [26/Dec/2021:19:09:20 +0000] \"POST /invocations HTTP/1.1\" 200 12224 \"-\" \"Go-http-client/1.1\"\u001b[0m\n",
      "\u001b[34m169.254.255.130 - - [26/Dec/2021:19:09:20 +0000] \"POST /invocations HTTP/1.1\" 200 12221 \"-\" \"Go-http-client/1.1\"\u001b[0m\n",
      "\u001b[35m169.254.255.130 - - [26/Dec/2021:19:09:20 +0000] \"POST /invocations HTTP/1.1\" 200 12224 \"-\" \"Go-http-client/1.1\"\u001b[0m\n",
      "\u001b[35m169.254.255.130 - - [26/Dec/2021:19:09:20 +0000] \"POST /invocations HTTP/1.1\" 200 12221 \"-\" \"Go-http-client/1.1\"\u001b[0m\n",
      "\u001b[34m169.254.255.130 - - [26/Dec/2021:19:09:20 +0000] \"POST /invocations HTTP/1.1\" 200 12231 \"-\" \"Go-http-client/1.1\"\u001b[0m\n",
      "\u001b[34m169.254.255.130 - - [26/Dec/2021:19:09:20 +0000] \"POST /invocations HTTP/1.1\" 200 12252 \"-\" \"Go-http-client/1.1\"\u001b[0m\n",
      "\u001b[34m[2021-12-26:19:09:20:INFO] Determined delimiter of CSV input is ','\u001b[0m\n",
      "\u001b[34m[2021-12-26:19:09:20:INFO] Determined delimiter of CSV input is ','\u001b[0m\n",
      "\u001b[34m[2021-12-26:19:09:20:INFO] Determined delimiter of CSV input is ','\u001b[0m\n",
      "\u001b[34m[2021-12-26:19:09:20:INFO] Determined delimiter of CSV input is ','\u001b[0m\n",
      "\u001b[35m169.254.255.130 - - [26/Dec/2021:19:09:20 +0000] \"POST /invocations HTTP/1.1\" 200 12231 \"-\" \"Go-http-client/1.1\"\u001b[0m\n",
      "\u001b[35m169.254.255.130 - - [26/Dec/2021:19:09:20 +0000] \"POST /invocations HTTP/1.1\" 200 12252 \"-\" \"Go-http-client/1.1\"\u001b[0m\n",
      "\u001b[35m[2021-12-26:19:09:20:INFO] Determined delimiter of CSV input is ','\u001b[0m\n",
      "\u001b[35m[2021-12-26:19:09:20:INFO] Determined delimiter of CSV input is ','\u001b[0m\n",
      "\u001b[35m[2021-12-26:19:09:20:INFO] Determined delimiter of CSV input is ','\u001b[0m\n",
      "\u001b[35m[2021-12-26:19:09:20:INFO] Determined delimiter of CSV input is ','\u001b[0m\n",
      "\u001b[34m169.254.255.130 - - [26/Dec/2021:19:09:23 +0000] \"POST /invocations HTTP/1.1\" 200 12169 \"-\" \"Go-http-client/1.1\"\u001b[0m\n",
      "\u001b[34m169.254.255.130 - - [26/Dec/2021:19:09:23 +0000] \"POST /invocations HTTP/1.1\" 200 12194 \"-\" \"Go-http-client/1.1\"\u001b[0m\n",
      "\u001b[34m169.254.255.130 - - [26/Dec/2021:19:09:23 +0000] \"POST /invocations HTTP/1.1\" 200 12195 \"-\" \"Go-http-client/1.1\"\u001b[0m\n",
      "\u001b[34m169.254.255.130 - - [26/Dec/2021:19:09:23 +0000] \"POST /invocations HTTP/1.1\" 200 12228 \"-\" \"Go-http-client/1.1\"\u001b[0m\n",
      "\u001b[34m[2021-12-26:19:09:23:INFO] Determined delimiter of CSV input is ','\u001b[0m\n",
      "\u001b[34m[2021-12-26:19:09:23:INFO] Determined delimiter of CSV input is ','\u001b[0m\n",
      "\u001b[34m[2021-12-26:19:09:23:INFO] Determined delimiter of CSV input is ','\u001b[0m\n",
      "\u001b[34m[2021-12-26:19:09:23:INFO] Determined delimiter of CSV input is ','\u001b[0m\n",
      "\u001b[35m169.254.255.130 - - [26/Dec/2021:19:09:23 +0000] \"POST /invocations HTTP/1.1\" 200 12169 \"-\" \"Go-http-client/1.1\"\u001b[0m\n",
      "\u001b[35m169.254.255.130 - - [26/Dec/2021:19:09:23 +0000] \"POST /invocations HTTP/1.1\" 200 12194 \"-\" \"Go-http-client/1.1\"\u001b[0m\n",
      "\u001b[35m169.254.255.130 - - [26/Dec/2021:19:09:23 +0000] \"POST /invocations HTTP/1.1\" 200 12195 \"-\" \"Go-http-client/1.1\"\u001b[0m\n",
      "\u001b[35m169.254.255.130 - - [26/Dec/2021:19:09:23 +0000] \"POST /invocations HTTP/1.1\" 200 12228 \"-\" \"Go-http-client/1.1\"\u001b[0m\n",
      "\u001b[35m[2021-12-26:19:09:23:INFO] Determined delimiter of CSV input is ','\u001b[0m\n",
      "\u001b[35m[2021-12-26:19:09:23:INFO] Determined delimiter of CSV input is ','\u001b[0m\n",
      "\u001b[35m[2021-12-26:19:09:23:INFO] Determined delimiter of CSV input is ','\u001b[0m\n",
      "\u001b[35m[2021-12-26:19:09:23:INFO] Determined delimiter of CSV input is ','\u001b[0m\n",
      "\u001b[34m169.254.255.130 - - [26/Dec/2021:19:09:26 +0000] \"POST /invocations HTTP/1.1\" 200 12215 \"-\" \"Go-http-client/1.1\"\u001b[0m\n",
      "\u001b[35m169.254.255.130 - - [26/Dec/2021:19:09:26 +0000] \"POST /invocations HTTP/1.1\" 200 12215 \"-\" \"Go-http-client/1.1\"\u001b[0m\n",
      "\u001b[34m169.254.255.130 - - [26/Dec/2021:19:09:26 +0000] \"POST /invocations HTTP/1.1\" 200 12188 \"-\" \"Go-http-client/1.1\"\u001b[0m\n",
      "\u001b[34m169.254.255.130 - - [26/Dec/2021:19:09:26 +0000] \"POST /invocations HTTP/1.1\" 200 12197 \"-\" \"Go-http-client/1.1\"\u001b[0m\n",
      "\u001b[34m[2021-12-26:19:09:26:INFO] Determined delimiter of CSV input is ','\u001b[0m\n",
      "\u001b[34m[2021-12-26:19:09:26:INFO] Determined delimiter of CSV input is ','\u001b[0m\n",
      "\u001b[34m169.254.255.130 - - [26/Dec/2021:19:09:26 +0000] \"POST /invocations HTTP/1.1\" 200 12228 \"-\" \"Go-http-client/1.1\"\u001b[0m\n",
      "\u001b[34m[2021-12-26:19:09:26:INFO] Determined delimiter of CSV input is ','\u001b[0m\n",
      "\u001b[34m[2021-12-26:19:09:27:INFO] Determined delimiter of CSV input is ','\u001b[0m\n",
      "\u001b[35m169.254.255.130 - - [26/Dec/2021:19:09:26 +0000] \"POST /invocations HTTP/1.1\" 200 12188 \"-\" \"Go-http-client/1.1\"\u001b[0m\n",
      "\u001b[35m169.254.255.130 - - [26/Dec/2021:19:09:26 +0000] \"POST /invocations HTTP/1.1\" 200 12197 \"-\" \"Go-http-client/1.1\"\u001b[0m\n",
      "\u001b[35m[2021-12-26:19:09:26:INFO] Determined delimiter of CSV input is ','\u001b[0m\n",
      "\u001b[35m[2021-12-26:19:09:26:INFO] Determined delimiter of CSV input is ','\u001b[0m\n",
      "\u001b[35m169.254.255.130 - - [26/Dec/2021:19:09:26 +0000] \"POST /invocations HTTP/1.1\" 200 12228 \"-\" \"Go-http-client/1.1\"\u001b[0m\n",
      "\u001b[35m[2021-12-26:19:09:26:INFO] Determined delimiter of CSV input is ','\u001b[0m\n",
      "\u001b[35m[2021-12-26:19:09:27:INFO] Determined delimiter of CSV input is ','\u001b[0m\n",
      "\u001b[34m[2021-12-26:19:09:30:INFO] Determined delimiter of CSV input is ','\u001b[0m\n",
      "\u001b[35m[2021-12-26:19:09:30:INFO] Determined delimiter of CSV input is ','\u001b[0m\n",
      "\u001b[34m169.254.255.130 - - [26/Dec/2021:19:09:32 +0000] \"POST /invocations HTTP/1.1\" 200 12220 \"-\" \"Go-http-client/1.1\"\u001b[0m\n",
      "\u001b[34m169.254.255.130 - - [26/Dec/2021:19:09:33 +0000] \"POST /invocations HTTP/1.1\" 200 12186 \"-\" \"Go-http-client/1.1\"\u001b[0m\n",
      "\u001b[35m169.254.255.130 - - [26/Dec/2021:19:09:32 +0000] \"POST /invocations HTTP/1.1\" 200 12220 \"-\" \"Go-http-client/1.1\"\u001b[0m\n",
      "\u001b[35m169.254.255.130 - - [26/Dec/2021:19:09:33 +0000] \"POST /invocations HTTP/1.1\" 200 12186 \"-\" \"Go-http-client/1.1\"\u001b[0m\n",
      "\u001b[34m169.254.255.130 - - [26/Dec/2021:19:09:33 +0000] \"POST /invocations HTTP/1.1\" 200 12196 \"-\" \"Go-http-client/1.1\"\u001b[0m\n",
      "\u001b[34m[2021-12-26:19:09:33:INFO] Determined delimiter of CSV input is ','\u001b[0m\n",
      "\u001b[34m169.254.255.130 - - [26/Dec/2021:19:09:33 +0000] \"POST /invocations HTTP/1.1\" 200 12172 \"-\" \"Go-http-client/1.1\"\u001b[0m\n",
      "\u001b[34m[2021-12-26:19:09:33:INFO] Determined delimiter of CSV input is ','\u001b[0m\n",
      "\u001b[34m[2021-12-26:19:09:33:INFO] Determined delimiter of CSV input is ','\u001b[0m\n",
      "\u001b[34m[2021-12-26:19:09:33:INFO] Determined delimiter of CSV input is ','\u001b[0m\n",
      "\u001b[35m169.254.255.130 - - [26/Dec/2021:19:09:33 +0000] \"POST /invocations HTTP/1.1\" 200 12196 \"-\" \"Go-http-client/1.1\"\u001b[0m\n",
      "\u001b[35m[2021-12-26:19:09:33:INFO] Determined delimiter of CSV input is ','\u001b[0m\n",
      "\u001b[35m169.254.255.130 - - [26/Dec/2021:19:09:33 +0000] \"POST /invocations HTTP/1.1\" 200 12172 \"-\" \"Go-http-client/1.1\"\u001b[0m\n",
      "\u001b[35m[2021-12-26:19:09:33:INFO] Determined delimiter of CSV input is ','\u001b[0m\n",
      "\u001b[35m[2021-12-26:19:09:33:INFO] Determined delimiter of CSV input is ','\u001b[0m\n",
      "\u001b[35m[2021-12-26:19:09:33:INFO] Determined delimiter of CSV input is ','\u001b[0m\n",
      "\u001b[34m[2021-12-26:19:09:36:INFO] Determined delimiter of CSV input is ','\u001b[0m\n",
      "\u001b[34m[2021-12-26:19:09:36:INFO] Determined delimiter of CSV input is ','\u001b[0m\n",
      "\u001b[35m[2021-12-26:19:09:36:INFO] Determined delimiter of CSV input is ','\u001b[0m\n",
      "\u001b[35m[2021-12-26:19:09:36:INFO] Determined delimiter of CSV input is ','\u001b[0m\n",
      "\u001b[34m169.254.255.130 - - [26/Dec/2021:19:09:39 +0000] \"POST /invocations HTTP/1.1\" 200 12231 \"-\" \"Go-http-client/1.1\"\u001b[0m\n",
      "\u001b[34m169.254.255.130 - - [26/Dec/2021:19:09:39 +0000] \"POST /invocations HTTP/1.1\" 200 12272 \"-\" \"Go-http-client/1.1\"\u001b[0m\n",
      "\u001b[34m169.254.255.130 - - [26/Dec/2021:19:09:39 +0000] \"POST /invocations HTTP/1.1\" 200 12201 \"-\" \"Go-http-client/1.1\"\u001b[0m\n",
      "\u001b[34m[2021-12-26:19:09:39:INFO] Determined delimiter of CSV input is ','\u001b[0m\n",
      "\u001b[34m169.254.255.130 - - [26/Dec/2021:19:09:39 +0000] \"POST /invocations HTTP/1.1\" 200 12192 \"-\" \"Go-http-client/1.1\"\u001b[0m\n",
      "\u001b[34m[2021-12-26:19:09:39:INFO] Determined delimiter of CSV input is ','\u001b[0m\n",
      "\u001b[34m[2021-12-26:19:09:39:INFO] Determined delimiter of CSV input is ','\u001b[0m\n",
      "\u001b[34m[2021-12-26:19:09:39:INFO] Determined delimiter of CSV input is ','\u001b[0m\n",
      "\u001b[35m169.254.255.130 - - [26/Dec/2021:19:09:39 +0000] \"POST /invocations HTTP/1.1\" 200 12231 \"-\" \"Go-http-client/1.1\"\u001b[0m\n",
      "\u001b[35m169.254.255.130 - - [26/Dec/2021:19:09:39 +0000] \"POST /invocations HTTP/1.1\" 200 12272 \"-\" \"Go-http-client/1.1\"\u001b[0m\n",
      "\u001b[35m169.254.255.130 - - [26/Dec/2021:19:09:39 +0000] \"POST /invocations HTTP/1.1\" 200 12201 \"-\" \"Go-http-client/1.1\"\u001b[0m\n",
      "\u001b[35m[2021-12-26:19:09:39:INFO] Determined delimiter of CSV input is ','\u001b[0m\n",
      "\u001b[35m169.254.255.130 - - [26/Dec/2021:19:09:39 +0000] \"POST /invocations HTTP/1.1\" 200 12192 \"-\" \"Go-http-client/1.1\"\u001b[0m\n",
      "\u001b[35m[2021-12-26:19:09:39:INFO] Determined delimiter of CSV input is ','\u001b[0m\n",
      "\u001b[35m[2021-12-26:19:09:39:INFO] Determined delimiter of CSV input is ','\u001b[0m\n",
      "\u001b[35m[2021-12-26:19:09:39:INFO] Determined delimiter of CSV input is ','\u001b[0m\n",
      "\u001b[34m169.254.255.130 - - [26/Dec/2021:19:09:42 +0000] \"POST /invocations HTTP/1.1\" 200 12235 \"-\" \"Go-http-client/1.1\"\u001b[0m\n",
      "\u001b[34m169.254.255.130 - - [26/Dec/2021:19:09:42 +0000] \"POST /invocations HTTP/1.1\" 200 12220 \"-\" \"Go-http-client/1.1\"\u001b[0m\n",
      "\u001b[34m169.254.255.130 - - [26/Dec/2021:19:09:42 +0000] \"POST /invocations HTTP/1.1\" 200 12163 \"-\" \"Go-http-client/1.1\"\u001b[0m\n",
      "\u001b[34m169.254.255.130 - - [26/Dec/2021:19:09:42 +0000] \"POST /invocations HTTP/1.1\" 200 12226 \"-\" \"Go-http-client/1.1\"\u001b[0m\n",
      "\u001b[35m169.254.255.130 - - [26/Dec/2021:19:09:42 +0000] \"POST /invocations HTTP/1.1\" 200 12235 \"-\" \"Go-http-client/1.1\"\u001b[0m\n",
      "\u001b[35m169.254.255.130 - - [26/Dec/2021:19:09:42 +0000] \"POST /invocations HTTP/1.1\" 200 12220 \"-\" \"Go-http-client/1.1\"\u001b[0m\n",
      "\u001b[35m169.254.255.130 - - [26/Dec/2021:19:09:42 +0000] \"POST /invocations HTTP/1.1\" 200 12163 \"-\" \"Go-http-client/1.1\"\u001b[0m\n",
      "\u001b[35m169.254.255.130 - - [26/Dec/2021:19:09:42 +0000] \"POST /invocations HTTP/1.1\" 200 12226 \"-\" \"Go-http-client/1.1\"\u001b[0m\n",
      "\u001b[34m[2021-12-26:19:09:42:INFO] Determined delimiter of CSV input is ','\u001b[0m\n",
      "\u001b[34m[2021-12-26:19:09:43:INFO] Determined delimiter of CSV input is ','\u001b[0m\n",
      "\u001b[34m[2021-12-26:19:09:43:INFO] Determined delimiter of CSV input is ','\u001b[0m\n",
      "\u001b[35m[2021-12-26:19:09:42:INFO] Determined delimiter of CSV input is ','\u001b[0m\n",
      "\u001b[35m[2021-12-26:19:09:43:INFO] Determined delimiter of CSV input is ','\u001b[0m\n",
      "\u001b[35m[2021-12-26:19:09:43:INFO] Determined delimiter of CSV input is ','\u001b[0m\n",
      "\u001b[34m[2021-12-26:19:09:43:INFO] Determined delimiter of CSV input is ','\u001b[0m\n",
      "\u001b[35m[2021-12-26:19:09:43:INFO] Determined delimiter of CSV input is ','\u001b[0m\n",
      "\u001b[34m169.254.255.130 - - [26/Dec/2021:19:09:45 +0000] \"POST /invocations HTTP/1.1\" 200 12191 \"-\" \"Go-http-client/1.1\"\u001b[0m\n",
      "\u001b[34m169.254.255.130 - - [26/Dec/2021:19:09:45 +0000] \"POST /invocations HTTP/1.1\" 200 12181 \"-\" \"Go-http-client/1.1\"\u001b[0m\n",
      "\u001b[34m[2021-12-26:19:09:46:INFO] Determined delimiter of CSV input is ','\u001b[0m\n",
      "\u001b[35m169.254.255.130 - - [26/Dec/2021:19:09:45 +0000] \"POST /invocations HTTP/1.1\" 200 12191 \"-\" \"Go-http-client/1.1\"\u001b[0m\n",
      "\u001b[35m169.254.255.130 - - [26/Dec/2021:19:09:45 +0000] \"POST /invocations HTTP/1.1\" 200 12181 \"-\" \"Go-http-client/1.1\"\u001b[0m\n",
      "\u001b[35m[2021-12-26:19:09:46:INFO] Determined delimiter of CSV input is ','\u001b[0m\n",
      "\u001b[34m169.254.255.130 - - [26/Dec/2021:19:09:46 +0000] \"POST /invocations HTTP/1.1\" 200 12241 \"-\" \"Go-http-client/1.1\"\u001b[0m\n",
      "\u001b[34m169.254.255.130 - - [26/Dec/2021:19:09:46 +0000] \"POST /invocations HTTP/1.1\" 200 12177 \"-\" \"Go-http-client/1.1\"\u001b[0m\n",
      "\u001b[34m[2021-12-26:19:09:46:INFO] Determined delimiter of CSV input is ','\u001b[0m\n",
      "\u001b[35m169.254.255.130 - - [26/Dec/2021:19:09:46 +0000] \"POST /invocations HTTP/1.1\" 200 12241 \"-\" \"Go-http-client/1.1\"\u001b[0m\n",
      "\u001b[35m169.254.255.130 - - [26/Dec/2021:19:09:46 +0000] \"POST /invocations HTTP/1.1\" 200 12177 \"-\" \"Go-http-client/1.1\"\u001b[0m\n",
      "\u001b[35m[2021-12-26:19:09:46:INFO] Determined delimiter of CSV input is ','\u001b[0m\n",
      "\u001b[34m[2021-12-26:19:09:46:INFO] Determined delimiter of CSV input is ','\u001b[0m\n",
      "\u001b[34m[2021-12-26:19:09:46:INFO] Determined delimiter of CSV input is ','\u001b[0m\n",
      "\u001b[35m[2021-12-26:19:09:46:INFO] Determined delimiter of CSV input is ','\u001b[0m\n",
      "\u001b[35m[2021-12-26:19:09:46:INFO] Determined delimiter of CSV input is ','\u001b[0m\n",
      "\u001b[34m169.254.255.130 - - [26/Dec/2021:19:09:49 +0000] \"POST /invocations HTTP/1.1\" 200 12227 \"-\" \"Go-http-client/1.1\"\u001b[0m\n",
      "\u001b[35m169.254.255.130 - - [26/Dec/2021:19:09:49 +0000] \"POST /invocations HTTP/1.1\" 200 12227 \"-\" \"Go-http-client/1.1\"\u001b[0m\n",
      "\u001b[34m169.254.255.130 - - [26/Dec/2021:19:09:49 +0000] \"POST /invocations HTTP/1.1\" 200 12262 \"-\" \"Go-http-client/1.1\"\u001b[0m\n",
      "\u001b[35m169.254.255.130 - - [26/Dec/2021:19:09:49 +0000] \"POST /invocations HTTP/1.1\" 200 12262 \"-\" \"Go-http-client/1.1\"\u001b[0m\n",
      "\n",
      "\u001b[34m[2021-12-26:19:09:07:INFO] No GPUs detected (normal if no gpus installed)\u001b[0m\n",
      "\u001b[34m[2021-12-26:19:09:07:INFO] No GPUs detected (normal if no gpus installed)\u001b[0m\n",
      "\u001b[34m[2021-12-26:19:09:07:INFO] nginx config: \u001b[0m\n",
      "\u001b[34mworker_processes auto;\u001b[0m\n",
      "\u001b[34mdaemon off;\u001b[0m\n",
      "\u001b[34mpid /tmp/nginx.pid;\u001b[0m\n",
      "\u001b[34merror_log  /dev/stderr;\u001b[0m\n",
      "\u001b[34mworker_rlimit_nofile 4096;\u001b[0m\n",
      "\u001b[34mevents {\n",
      "  worker_connections 2048;\u001b[0m\n",
      "\u001b[34m}\u001b[0m\n",
      "\u001b[34mhttp {\n",
      "  include /etc/nginx/mime.types;\n",
      "  default_type application/octet-stream;\n",
      "  access_log /dev/stdout combined;\n",
      "  upstream gunicorn {\n",
      "    server unix:/tmp/gunicorn.sock;\n",
      "  }\n",
      "  server {\n",
      "    listen 8080 deferred;\n",
      "    client_max_body_size 0;\n",
      "    keepalive_timeout 3;\n",
      "    location ~ ^/(ping|invocations|execution-parameters) {\n",
      "      proxy_set_header X-Forwarded-For $proxy_add_x_forwarded_for;\n",
      "      proxy_set_header Host $http_host;\n",
      "      proxy_redirect off;\n",
      "      proxy_read_timeout 60s;\n",
      "      proxy_pass http://gunicorn;\n",
      "    }\n",
      "    location / {\n",
      "      return 404 \"{}\";\n",
      "    }\n",
      "  }\u001b[0m\n",
      "\u001b[34m}\u001b[0m\n",
      "\u001b[35m[2021-12-26:19:09:07:INFO] No GPUs detected (normal if no gpus installed)\u001b[0m\n",
      "\u001b[35m[2021-12-26:19:09:07:INFO] No GPUs detected (normal if no gpus installed)\u001b[0m\n",
      "\u001b[35m[2021-12-26:19:09:07:INFO] nginx config: \u001b[0m\n",
      "\u001b[35mworker_processes auto;\u001b[0m\n",
      "\u001b[35mdaemon off;\u001b[0m\n",
      "\u001b[35mpid /tmp/nginx.pid;\u001b[0m\n",
      "\u001b[35merror_log  /dev/stderr;\u001b[0m\n",
      "\u001b[35mworker_rlimit_nofile 4096;\u001b[0m\n",
      "\u001b[35mevents {\n",
      "  worker_connections 2048;\u001b[0m\n",
      "\u001b[35m}\u001b[0m\n",
      "\u001b[35mhttp {\n",
      "  include /etc/nginx/mime.types;\n",
      "  default_type application/octet-stream;\n",
      "  access_log /dev/stdout combined;\n",
      "  upstream gunicorn {\n",
      "    server unix:/tmp/gunicorn.sock;\n",
      "  }\n",
      "  server {\n",
      "    listen 8080 deferred;\n",
      "    client_max_body_size 0;\n",
      "    keepalive_timeout 3;\n",
      "    location ~ ^/(ping|invocations|execution-parameters) {\n",
      "      proxy_set_header X-Forwarded-For $proxy_add_x_forwarded_for;\n",
      "      proxy_set_header Host $http_host;\n",
      "      proxy_redirect off;\n",
      "      proxy_read_timeout 60s;\n",
      "      proxy_pass http://gunicorn;\n",
      "    }\n",
      "    location / {\n",
      "      return 404 \"{}\";\n",
      "    }\n",
      "  }\u001b[0m\n",
      "\u001b[35m}\u001b[0m\n",
      "\u001b[34m[2021-12-26 19:09:07 +0000] [19] [INFO] Starting gunicorn 19.10.0\u001b[0m\n",
      "\u001b[34m[2021-12-26 19:09:07 +0000] [19] [INFO] Listening at: unix:/tmp/gunicorn.sock (19)\u001b[0m\n",
      "\u001b[34m[2021-12-26 19:09:07 +0000] [19] [INFO] Using worker: gevent\u001b[0m\n",
      "\u001b[34m[2021-12-26 19:09:07 +0000] [26] [INFO] Booting worker with pid: 26\u001b[0m\n",
      "\u001b[34m[2021-12-26 19:09:07 +0000] [27] [INFO] Booting worker with pid: 27\u001b[0m\n",
      "\u001b[34m[2021-12-26 19:09:07 +0000] [31] [INFO] Booting worker with pid: 31\u001b[0m\n",
      "\u001b[34m[2021-12-26 19:09:07 +0000] [32] [INFO] Booting worker with pid: 32\u001b[0m\n",
      "\u001b[35m[2021-12-26 19:09:07 +0000] [19] [INFO] Starting gunicorn 19.10.0\u001b[0m\n",
      "\u001b[35m[2021-12-26 19:09:07 +0000] [19] [INFO] Listening at: unix:/tmp/gunicorn.sock (19)\u001b[0m\n",
      "\u001b[35m[2021-12-26 19:09:07 +0000] [19] [INFO] Using worker: gevent\u001b[0m\n",
      "\u001b[35m[2021-12-26 19:09:07 +0000] [26] [INFO] Booting worker with pid: 26\u001b[0m\n",
      "\u001b[35m[2021-12-26 19:09:07 +0000] [27] [INFO] Booting worker with pid: 27\u001b[0m\n",
      "\u001b[35m[2021-12-26 19:09:07 +0000] [31] [INFO] Booting worker with pid: 31\u001b[0m\n",
      "\u001b[35m[2021-12-26 19:09:07 +0000] [32] [INFO] Booting worker with pid: 32\u001b[0m\n",
      "\u001b[34m[2021-12-26:19:09:13:INFO] No GPUs detected (normal if no gpus installed)\u001b[0m\n",
      "\u001b[34m169.254.255.130 - - [26/Dec/2021:19:09:13 +0000] \"GET /ping HTTP/1.1\" 200 0 \"-\" \"Go-http-client/1.1\"\u001b[0m\n",
      "\u001b[34m[2021-12-26:19:09:13:INFO] No GPUs detected (normal if no gpus installed)\u001b[0m\n",
      "\u001b[35m[2021-12-26:19:09:13:INFO] No GPUs detected (normal if no gpus installed)\u001b[0m\n",
      "\u001b[35m169.254.255.130 - - [26/Dec/2021:19:09:13 +0000] \"GET /ping HTTP/1.1\" 200 0 \"-\" \"Go-http-client/1.1\"\u001b[0m\n",
      "\u001b[35m[2021-12-26:19:09:13:INFO] No GPUs detected (normal if no gpus installed)\u001b[0m\n",
      "\u001b[34m169.254.255.130 - - [26/Dec/2021:19:09:13 +0000] \"GET /execution-parameters HTTP/1.1\" 200 84 \"-\" \"Go-http-client/1.1\"\u001b[0m\n",
      "\u001b[35m169.254.255.130 - - [26/Dec/2021:19:09:13 +0000] \"GET /execution-parameters HTTP/1.1\" 200 84 \"-\" \"Go-http-client/1.1\"\u001b[0m\n",
      "\u001b[32m2021-12-26T19:09:13.549:[sagemaker logs]: MaxConcurrentTransforms=4, MaxPayloadInMB=6, BatchStrategy=MULTI_RECORD\u001b[0m\n",
      "\u001b[34m[2021-12-26:19:09:16:INFO] No GPUs detected (normal if no gpus installed)\u001b[0m\n",
      "\u001b[34m[2021-12-26:19:09:16:INFO] No GPUs detected (normal if no gpus installed)\u001b[0m\n",
      "\u001b[34m[2021-12-26:19:09:17:INFO] Determined delimiter of CSV input is ','\u001b[0m\n",
      "\u001b[34m[2021-12-26:19:09:17:INFO] Determined delimiter of CSV input is ','\u001b[0m\n",
      "\u001b[34m[2021-12-26:19:09:17:INFO] Determined delimiter of CSV input is ','\u001b[0m\n",
      "\u001b[35m[2021-12-26:19:09:16:INFO] No GPUs detected (normal if no gpus installed)\u001b[0m\n",
      "\u001b[35m[2021-12-26:19:09:16:INFO] No GPUs detected (normal if no gpus installed)\u001b[0m\n",
      "\u001b[35m[2021-12-26:19:09:17:INFO] Determined delimiter of CSV input is ','\u001b[0m\n",
      "\u001b[35m[2021-12-26:19:09:17:INFO] Determined delimiter of CSV input is ','\u001b[0m\n",
      "\u001b[35m[2021-12-26:19:09:17:INFO] Determined delimiter of CSV input is ','\u001b[0m\n",
      "\u001b[34m[2021-12-26:19:09:17:INFO] Determined delimiter of CSV input is ','\u001b[0m\n",
      "\u001b[35m[2021-12-26:19:09:17:INFO] Determined delimiter of CSV input is ','\u001b[0m\n",
      "\u001b[34m169.254.255.130 - - [26/Dec/2021:19:09:20 +0000] \"POST /invocations HTTP/1.1\" 200 12224 \"-\" \"Go-http-client/1.1\"\u001b[0m\n",
      "\u001b[34m169.254.255.130 - - [26/Dec/2021:19:09:20 +0000] \"POST /invocations HTTP/1.1\" 200 12221 \"-\" \"Go-http-client/1.1\"\u001b[0m\n",
      "\u001b[35m169.254.255.130 - - [26/Dec/2021:19:09:20 +0000] \"POST /invocations HTTP/1.1\" 200 12224 \"-\" \"Go-http-client/1.1\"\u001b[0m\n",
      "\u001b[35m169.254.255.130 - - [26/Dec/2021:19:09:20 +0000] \"POST /invocations HTTP/1.1\" 200 12221 \"-\" \"Go-http-client/1.1\"\u001b[0m\n",
      "\u001b[34m169.254.255.130 - - [26/Dec/2021:19:09:20 +0000] \"POST /invocations HTTP/1.1\" 200 12231 \"-\" \"Go-http-client/1.1\"\u001b[0m\n",
      "\u001b[34m169.254.255.130 - - [26/Dec/2021:19:09:20 +0000] \"POST /invocations HTTP/1.1\" 200 12252 \"-\" \"Go-http-client/1.1\"\u001b[0m\n",
      "\u001b[34m[2021-12-26:19:09:20:INFO] Determined delimiter of CSV input is ','\u001b[0m\n",
      "\u001b[34m[2021-12-26:19:09:20:INFO] Determined delimiter of CSV input is ','\u001b[0m\n",
      "\u001b[34m[2021-12-26:19:09:20:INFO] Determined delimiter of CSV input is ','\u001b[0m\n",
      "\u001b[34m[2021-12-26:19:09:20:INFO] Determined delimiter of CSV input is ','\u001b[0m\n",
      "\u001b[35m169.254.255.130 - - [26/Dec/2021:19:09:20 +0000] \"POST /invocations HTTP/1.1\" 200 12231 \"-\" \"Go-http-client/1.1\"\u001b[0m\n",
      "\u001b[35m169.254.255.130 - - [26/Dec/2021:19:09:20 +0000] \"POST /invocations HTTP/1.1\" 200 12252 \"-\" \"Go-http-client/1.1\"\u001b[0m\n",
      "\u001b[35m[2021-12-26:19:09:20:INFO] Determined delimiter of CSV input is ','\u001b[0m\n",
      "\u001b[35m[2021-12-26:19:09:20:INFO] Determined delimiter of CSV input is ','\u001b[0m\n",
      "\u001b[35m[2021-12-26:19:09:20:INFO] Determined delimiter of CSV input is ','\u001b[0m\n",
      "\u001b[35m[2021-12-26:19:09:20:INFO] Determined delimiter of CSV input is ','\u001b[0m\n",
      "\u001b[34m169.254.255.130 - - [26/Dec/2021:19:09:23 +0000] \"POST /invocations HTTP/1.1\" 200 12169 \"-\" \"Go-http-client/1.1\"\u001b[0m\n",
      "\u001b[34m169.254.255.130 - - [26/Dec/2021:19:09:23 +0000] \"POST /invocations HTTP/1.1\" 200 12194 \"-\" \"Go-http-client/1.1\"\u001b[0m\n",
      "\u001b[34m169.254.255.130 - - [26/Dec/2021:19:09:23 +0000] \"POST /invocations HTTP/1.1\" 200 12195 \"-\" \"Go-http-client/1.1\"\u001b[0m\n",
      "\u001b[34m169.254.255.130 - - [26/Dec/2021:19:09:23 +0000] \"POST /invocations HTTP/1.1\" 200 12228 \"-\" \"Go-http-client/1.1\"\u001b[0m\n",
      "\u001b[34m[2021-12-26:19:09:23:INFO] Determined delimiter of CSV input is ','\u001b[0m\n",
      "\u001b[34m[2021-12-26:19:09:23:INFO] Determined delimiter of CSV input is ','\u001b[0m\n",
      "\u001b[34m[2021-12-26:19:09:23:INFO] Determined delimiter of CSV input is ','\u001b[0m\n",
      "\u001b[34m[2021-12-26:19:09:23:INFO] Determined delimiter of CSV input is ','\u001b[0m\n",
      "\u001b[35m169.254.255.130 - - [26/Dec/2021:19:09:23 +0000] \"POST /invocations HTTP/1.1\" 200 12169 \"-\" \"Go-http-client/1.1\"\u001b[0m\n",
      "\u001b[35m169.254.255.130 - - [26/Dec/2021:19:09:23 +0000] \"POST /invocations HTTP/1.1\" 200 12194 \"-\" \"Go-http-client/1.1\"\u001b[0m\n",
      "\u001b[35m169.254.255.130 - - [26/Dec/2021:19:09:23 +0000] \"POST /invocations HTTP/1.1\" 200 12195 \"-\" \"Go-http-client/1.1\"\u001b[0m\n",
      "\u001b[35m169.254.255.130 - - [26/Dec/2021:19:09:23 +0000] \"POST /invocations HTTP/1.1\" 200 12228 \"-\" \"Go-http-client/1.1\"\u001b[0m\n",
      "\u001b[35m[2021-12-26:19:09:23:INFO] Determined delimiter of CSV input is ','\u001b[0m\n",
      "\u001b[35m[2021-12-26:19:09:23:INFO] Determined delimiter of CSV input is ','\u001b[0m\n",
      "\u001b[35m[2021-12-26:19:09:23:INFO] Determined delimiter of CSV input is ','\u001b[0m\n",
      "\u001b[35m[2021-12-26:19:09:23:INFO] Determined delimiter of CSV input is ','\u001b[0m\n",
      "\u001b[34m169.254.255.130 - - [26/Dec/2021:19:09:26 +0000] \"POST /invocations HTTP/1.1\" 200 12215 \"-\" \"Go-http-client/1.1\"\u001b[0m\n",
      "\u001b[35m169.254.255.130 - - [26/Dec/2021:19:09:26 +0000] \"POST /invocations HTTP/1.1\" 200 12215 \"-\" \"Go-http-client/1.1\"\u001b[0m\n",
      "\u001b[34m169.254.255.130 - - [26/Dec/2021:19:09:26 +0000] \"POST /invocations HTTP/1.1\" 200 12188 \"-\" \"Go-http-client/1.1\"\u001b[0m\n",
      "\u001b[34m169.254.255.130 - - [26/Dec/2021:19:09:26 +0000] \"POST /invocations HTTP/1.1\" 200 12197 \"-\" \"Go-http-client/1.1\"\u001b[0m\n",
      "\u001b[34m[2021-12-26:19:09:26:INFO] Determined delimiter of CSV input is ','\u001b[0m\n",
      "\u001b[34m[2021-12-26:19:09:26:INFO] Determined delimiter of CSV input is ','\u001b[0m\n",
      "\u001b[34m169.254.255.130 - - [26/Dec/2021:19:09:26 +0000] \"POST /invocations HTTP/1.1\" 200 12228 \"-\" \"Go-http-client/1.1\"\u001b[0m\n",
      "\u001b[34m[2021-12-26:19:09:26:INFO] Determined delimiter of CSV input is ','\u001b[0m\n",
      "\u001b[34m[2021-12-26:19:09:27:INFO] Determined delimiter of CSV input is ','\u001b[0m\n",
      "\u001b[35m169.254.255.130 - - [26/Dec/2021:19:09:26 +0000] \"POST /invocations HTTP/1.1\" 200 12188 \"-\" \"Go-http-client/1.1\"\u001b[0m\n",
      "\u001b[35m169.254.255.130 - - [26/Dec/2021:19:09:26 +0000] \"POST /invocations HTTP/1.1\" 200 12197 \"-\" \"Go-http-client/1.1\"\u001b[0m\n",
      "\u001b[35m[2021-12-26:19:09:26:INFO] Determined delimiter of CSV input is ','\u001b[0m\n",
      "\u001b[35m[2021-12-26:19:09:26:INFO] Determined delimiter of CSV input is ','\u001b[0m\n",
      "\u001b[35m169.254.255.130 - - [26/Dec/2021:19:09:26 +0000] \"POST /invocations HTTP/1.1\" 200 12228 \"-\" \"Go-http-client/1.1\"\u001b[0m\n",
      "\u001b[35m[2021-12-26:19:09:26:INFO] Determined delimiter of CSV input is ','\u001b[0m\n",
      "\u001b[35m[2021-12-26:19:09:27:INFO] Determined delimiter of CSV input is ','\u001b[0m\n",
      "\u001b[34m169.254.255.130 - - [26/Dec/2021:19:09:29 +0000] \"POST /invocations HTTP/1.1\" 200 12222 \"-\" \"Go-http-client/1.1\"\u001b[0m\n",
      "\u001b[34m169.254.255.130 - - [26/Dec/2021:19:09:29 +0000] \"POST /invocations HTTP/1.1\" 200 12190 \"-\" \"Go-http-client/1.1\"\u001b[0m\n",
      "\u001b[34m169.254.255.130 - - [26/Dec/2021:19:09:29 +0000] \"POST /invocations HTTP/1.1\" 200 12200 \"-\" \"Go-http-client/1.1\"\u001b[0m\n",
      "\u001b[34m[2021-12-26:19:09:29:INFO] Determined delimiter of CSV input is ','\u001b[0m\n",
      "\u001b[34m169.254.255.130 - - [26/Dec/2021:19:09:30 +0000] \"POST /invocations HTTP/1.1\" 200 12260 \"-\" \"Go-http-client/1.1\"\u001b[0m\n",
      "\u001b[34m[2021-12-26:19:09:30:INFO] Determined delimiter of CSV input is ','\u001b[0m\n",
      "\u001b[35m169.254.255.130 - - [26/Dec/2021:19:09:29 +0000] \"POST /invocations HTTP/1.1\" 200 12222 \"-\" \"Go-http-client/1.1\"\u001b[0m\n",
      "\u001b[35m169.254.255.130 - - [26/Dec/2021:19:09:29 +0000] \"POST /invocations HTTP/1.1\" 200 12190 \"-\" \"Go-http-client/1.1\"\u001b[0m\n",
      "\u001b[35m169.254.255.130 - - [26/Dec/2021:19:09:29 +0000] \"POST /invocations HTTP/1.1\" 200 12200 \"-\" \"Go-http-client/1.1\"\u001b[0m\n",
      "\u001b[35m[2021-12-26:19:09:29:INFO] Determined delimiter of CSV input is ','\u001b[0m\n",
      "\u001b[35m169.254.255.130 - - [26/Dec/2021:19:09:30 +0000] \"POST /invocations HTTP/1.1\" 200 12260 \"-\" \"Go-http-client/1.1\"\u001b[0m\n",
      "\u001b[35m[2021-12-26:19:09:30:INFO] Determined delimiter of CSV input is ','\u001b[0m\n",
      "\u001b[34m[2021-12-26:19:09:30:INFO] Determined delimiter of CSV input is ','\u001b[0m\n",
      "\u001b[35m[2021-12-26:19:09:30:INFO] Determined delimiter of CSV input is ','\u001b[0m\n",
      "\u001b[34m[2021-12-26:19:09:30:INFO] Determined delimiter of CSV input is ','\u001b[0m\n",
      "\u001b[35m[2021-12-26:19:09:30:INFO] Determined delimiter of CSV input is ','\u001b[0m\n",
      "\u001b[34m169.254.255.130 - - [26/Dec/2021:19:09:32 +0000] \"POST /invocations HTTP/1.1\" 200 12220 \"-\" \"Go-http-client/1.1\"\u001b[0m\n",
      "\u001b[34m169.254.255.130 - - [26/Dec/2021:19:09:33 +0000] \"POST /invocations HTTP/1.1\" 200 12186 \"-\" \"Go-http-client/1.1\"\u001b[0m\n",
      "\u001b[35m169.254.255.130 - - [26/Dec/2021:19:09:32 +0000] \"POST /invocations HTTP/1.1\" 200 12220 \"-\" \"Go-http-client/1.1\"\u001b[0m\n",
      "\u001b[35m169.254.255.130 - - [26/Dec/2021:19:09:33 +0000] \"POST /invocations HTTP/1.1\" 200 12186 \"-\" \"Go-http-client/1.1\"\u001b[0m\n",
      "\u001b[34m169.254.255.130 - - [26/Dec/2021:19:09:33 +0000] \"POST /invocations HTTP/1.1\" 200 12196 \"-\" \"Go-http-client/1.1\"\u001b[0m\n",
      "\u001b[34m[2021-12-26:19:09:33:INFO] Determined delimiter of CSV input is ','\u001b[0m\n",
      "\u001b[34m169.254.255.130 - - [26/Dec/2021:19:09:33 +0000] \"POST /invocations HTTP/1.1\" 200 12172 \"-\" \"Go-http-client/1.1\"\u001b[0m\n",
      "\u001b[34m[2021-12-26:19:09:33:INFO] Determined delimiter of CSV input is ','\u001b[0m\n",
      "\u001b[34m[2021-12-26:19:09:33:INFO] Determined delimiter of CSV input is ','\u001b[0m\n",
      "\u001b[34m[2021-12-26:19:09:33:INFO] Determined delimiter of CSV input is ','\u001b[0m\n",
      "\u001b[35m169.254.255.130 - - [26/Dec/2021:19:09:33 +0000] \"POST /invocations HTTP/1.1\" 200 12196 \"-\" \"Go-http-client/1.1\"\u001b[0m\n",
      "\u001b[35m[2021-12-26:19:09:33:INFO] Determined delimiter of CSV input is ','\u001b[0m\n",
      "\u001b[35m169.254.255.130 - - [26/Dec/2021:19:09:33 +0000] \"POST /invocations HTTP/1.1\" 200 12172 \"-\" \"Go-http-client/1.1\"\u001b[0m\n",
      "\u001b[35m[2021-12-26:19:09:33:INFO] Determined delimiter of CSV input is ','\u001b[0m\n",
      "\u001b[35m[2021-12-26:19:09:33:INFO] Determined delimiter of CSV input is ','\u001b[0m\n",
      "\u001b[35m[2021-12-26:19:09:33:INFO] Determined delimiter of CSV input is ','\u001b[0m\n",
      "\u001b[34m169.254.255.130 - - [26/Dec/2021:19:09:36 +0000] \"POST /invocations HTTP/1.1\" 200 12231 \"-\" \"Go-http-client/1.1\"\u001b[0m\n",
      "\u001b[34m169.254.255.130 - - [26/Dec/2021:19:09:36 +0000] \"POST /invocations HTTP/1.1\" 200 12242 \"-\" \"Go-http-client/1.1\"\u001b[0m\n",
      "\u001b[34m169.254.255.130 - - [26/Dec/2021:19:09:36 +0000] \"POST /invocations HTTP/1.1\" 200 12208 \"-\" \"Go-http-client/1.1\"\u001b[0m\n",
      "\u001b[34m[2021-12-26:19:09:36:INFO] Determined delimiter of CSV input is ','\u001b[0m\n",
      "\u001b[34m169.254.255.130 - - [26/Dec/2021:19:09:36 +0000] \"POST /invocations HTTP/1.1\" 200 12199 \"-\" \"Go-http-client/1.1\"\u001b[0m\n",
      "\u001b[35m169.254.255.130 - - [26/Dec/2021:19:09:36 +0000] \"POST /invocations HTTP/1.1\" 200 12231 \"-\" \"Go-http-client/1.1\"\u001b[0m\n",
      "\u001b[35m169.254.255.130 - - [26/Dec/2021:19:09:36 +0000] \"POST /invocations HTTP/1.1\" 200 12242 \"-\" \"Go-http-client/1.1\"\u001b[0m\n",
      "\u001b[35m169.254.255.130 - - [26/Dec/2021:19:09:36 +0000] \"POST /invocations HTTP/1.1\" 200 12208 \"-\" \"Go-http-client/1.1\"\u001b[0m\n",
      "\u001b[35m[2021-12-26:19:09:36:INFO] Determined delimiter of CSV input is ','\u001b[0m\n",
      "\u001b[35m169.254.255.130 - - [26/Dec/2021:19:09:36 +0000] \"POST /invocations HTTP/1.1\" 200 12199 \"-\" \"Go-http-client/1.1\"\u001b[0m\n",
      "\u001b[34m[2021-12-26:19:09:36:INFO] Determined delimiter of CSV input is ','\u001b[0m\n",
      "\u001b[34m[2021-12-26:19:09:36:INFO] Determined delimiter of CSV input is ','\u001b[0m\n",
      "\u001b[34m[2021-12-26:19:09:36:INFO] Determined delimiter of CSV input is ','\u001b[0m\n",
      "\u001b[35m[2021-12-26:19:09:36:INFO] Determined delimiter of CSV input is ','\u001b[0m\n",
      "\u001b[35m[2021-12-26:19:09:36:INFO] Determined delimiter of CSV input is ','\u001b[0m\n",
      "\u001b[35m[2021-12-26:19:09:36:INFO] Determined delimiter of CSV input is ','\u001b[0m\n",
      "\u001b[34m169.254.255.130 - - [26/Dec/2021:19:09:39 +0000] \"POST /invocations HTTP/1.1\" 200 12231 \"-\" \"Go-http-client/1.1\"\u001b[0m\n",
      "\u001b[34m169.254.255.130 - - [26/Dec/2021:19:09:39 +0000] \"POST /invocations HTTP/1.1\" 200 12272 \"-\" \"Go-http-client/1.1\"\u001b[0m\n",
      "\u001b[34m169.254.255.130 - - [26/Dec/2021:19:09:39 +0000] \"POST /invocations HTTP/1.1\" 200 12201 \"-\" \"Go-http-client/1.1\"\u001b[0m\n",
      "\u001b[34m[2021-12-26:19:09:39:INFO] Determined delimiter of CSV input is ','\u001b[0m\n",
      "\u001b[34m169.254.255.130 - - [26/Dec/2021:19:09:39 +0000] \"POST /invocations HTTP/1.1\" 200 12192 \"-\" \"Go-http-client/1.1\"\u001b[0m\n",
      "\u001b[34m[2021-12-26:19:09:39:INFO] Determined delimiter of CSV input is ','\u001b[0m\n",
      "\u001b[34m[2021-12-26:19:09:39:INFO] Determined delimiter of CSV input is ','\u001b[0m\n",
      "\u001b[34m[2021-12-26:19:09:39:INFO] Determined delimiter of CSV input is ','\u001b[0m\n",
      "\u001b[35m169.254.255.130 - - [26/Dec/2021:19:09:39 +0000] \"POST /invocations HTTP/1.1\" 200 12231 \"-\" \"Go-http-client/1.1\"\u001b[0m\n",
      "\u001b[35m169.254.255.130 - - [26/Dec/2021:19:09:39 +0000] \"POST /invocations HTTP/1.1\" 200 12272 \"-\" \"Go-http-client/1.1\"\u001b[0m\n",
      "\u001b[35m169.254.255.130 - - [26/Dec/2021:19:09:39 +0000] \"POST /invocations HTTP/1.1\" 200 12201 \"-\" \"Go-http-client/1.1\"\u001b[0m\n",
      "\u001b[35m[2021-12-26:19:09:39:INFO] Determined delimiter of CSV input is ','\u001b[0m\n",
      "\u001b[35m169.254.255.130 - - [26/Dec/2021:19:09:39 +0000] \"POST /invocations HTTP/1.1\" 200 12192 \"-\" \"Go-http-client/1.1\"\u001b[0m\n",
      "\u001b[35m[2021-12-26:19:09:39:INFO] Determined delimiter of CSV input is ','\u001b[0m\n",
      "\u001b[35m[2021-12-26:19:09:39:INFO] Determined delimiter of CSV input is ','\u001b[0m\n",
      "\u001b[35m[2021-12-26:19:09:39:INFO] Determined delimiter of CSV input is ','\u001b[0m\n",
      "\u001b[34m169.254.255.130 - - [26/Dec/2021:19:09:42 +0000] \"POST /invocations HTTP/1.1\" 200 12235 \"-\" \"Go-http-client/1.1\"\u001b[0m\n",
      "\u001b[34m169.254.255.130 - - [26/Dec/2021:19:09:42 +0000] \"POST /invocations HTTP/1.1\" 200 12220 \"-\" \"Go-http-client/1.1\"\u001b[0m\n",
      "\u001b[34m169.254.255.130 - - [26/Dec/2021:19:09:42 +0000] \"POST /invocations HTTP/1.1\" 200 12163 \"-\" \"Go-http-client/1.1\"\u001b[0m\n",
      "\u001b[34m169.254.255.130 - - [26/Dec/2021:19:09:42 +0000] \"POST /invocations HTTP/1.1\" 200 12226 \"-\" \"Go-http-client/1.1\"\u001b[0m\n",
      "\u001b[35m169.254.255.130 - - [26/Dec/2021:19:09:42 +0000] \"POST /invocations HTTP/1.1\" 200 12235 \"-\" \"Go-http-client/1.1\"\u001b[0m\n",
      "\u001b[35m169.254.255.130 - - [26/Dec/2021:19:09:42 +0000] \"POST /invocations HTTP/1.1\" 200 12220 \"-\" \"Go-http-client/1.1\"\u001b[0m\n",
      "\u001b[35m169.254.255.130 - - [26/Dec/2021:19:09:42 +0000] \"POST /invocations HTTP/1.1\" 200 12163 \"-\" \"Go-http-client/1.1\"\u001b[0m\n",
      "\u001b[35m169.254.255.130 - - [26/Dec/2021:19:09:42 +0000] \"POST /invocations HTTP/1.1\" 200 12226 \"-\" \"Go-http-client/1.1\"\u001b[0m\n",
      "\u001b[34m[2021-12-26:19:09:42:INFO] Determined delimiter of CSV input is ','\u001b[0m\n",
      "\u001b[34m[2021-12-26:19:09:43:INFO] Determined delimiter of CSV input is ','\u001b[0m\n",
      "\u001b[34m[2021-12-26:19:09:43:INFO] Determined delimiter of CSV input is ','\u001b[0m\n",
      "\u001b[35m[2021-12-26:19:09:42:INFO] Determined delimiter of CSV input is ','\u001b[0m\n",
      "\u001b[35m[2021-12-26:19:09:43:INFO] Determined delimiter of CSV input is ','\u001b[0m\n",
      "\u001b[35m[2021-12-26:19:09:43:INFO] Determined delimiter of CSV input is ','\u001b[0m\n",
      "\u001b[34m[2021-12-26:19:09:43:INFO] Determined delimiter of CSV input is ','\u001b[0m\n",
      "\u001b[35m[2021-12-26:19:09:43:INFO] Determined delimiter of CSV input is ','\u001b[0m\n",
      "\u001b[34m169.254.255.130 - - [26/Dec/2021:19:09:45 +0000] \"POST /invocations HTTP/1.1\" 200 12191 \"-\" \"Go-http-client/1.1\"\u001b[0m\n",
      "\u001b[34m169.254.255.130 - - [26/Dec/2021:19:09:45 +0000] \"POST /invocations HTTP/1.1\" 200 12181 \"-\" \"Go-http-client/1.1\"\u001b[0m\n",
      "\u001b[34m[2021-12-26:19:09:46:INFO] Determined delimiter of CSV input is ','\u001b[0m\n",
      "\u001b[35m169.254.255.130 - - [26/Dec/2021:19:09:45 +0000] \"POST /invocations HTTP/1.1\" 200 12191 \"-\" \"Go-http-client/1.1\"\u001b[0m\n",
      "\u001b[35m169.254.255.130 - - [26/Dec/2021:19:09:45 +0000] \"POST /invocations HTTP/1.1\" 200 12181 \"-\" \"Go-http-client/1.1\"\u001b[0m\n",
      "\u001b[35m[2021-12-26:19:09:46:INFO] Determined delimiter of CSV input is ','\u001b[0m\n",
      "\u001b[34m169.254.255.130 - - [26/Dec/2021:19:09:46 +0000] \"POST /invocations HTTP/1.1\" 200 12241 \"-\" \"Go-http-client/1.1\"\u001b[0m\n",
      "\u001b[34m169.254.255.130 - - [26/Dec/2021:19:09:46 +0000] \"POST /invocations HTTP/1.1\" 200 12177 \"-\" \"Go-http-client/1.1\"\u001b[0m\n",
      "\u001b[34m[2021-12-26:19:09:46:INFO] Determined delimiter of CSV input is ','\u001b[0m\n",
      "\u001b[35m169.254.255.130 - - [26/Dec/2021:19:09:46 +0000] \"POST /invocations HTTP/1.1\" 200 12241 \"-\" \"Go-http-client/1.1\"\u001b[0m\n",
      "\u001b[35m169.254.255.130 - - [26/Dec/2021:19:09:46 +0000] \"POST /invocations HTTP/1.1\" 200 12177 \"-\" \"Go-http-client/1.1\"\u001b[0m\n",
      "\u001b[35m[2021-12-26:19:09:46:INFO] Determined delimiter of CSV input is ','\u001b[0m\n",
      "\u001b[34m[2021-12-26:19:09:46:INFO] Determined delimiter of CSV input is ','\u001b[0m\n",
      "\u001b[34m[2021-12-26:19:09:46:INFO] Determined delimiter of CSV input is ','\u001b[0m\n",
      "\u001b[35m[2021-12-26:19:09:46:INFO] Determined delimiter of CSV input is ','\u001b[0m\n",
      "\u001b[35m[2021-12-26:19:09:46:INFO] Determined delimiter of CSV input is ','\u001b[0m\n",
      "\u001b[34m169.254.255.130 - - [26/Dec/2021:19:09:48 +0000] \"POST /invocations HTTP/1.1\" 200 9123 \"-\" \"Go-http-client/1.1\"\u001b[0m\n",
      "\u001b[34m169.254.255.130 - - [26/Dec/2021:19:09:48 +0000] \"POST /invocations HTTP/1.1\" 200 12230 \"-\" \"Go-http-client/1.1\"\u001b[0m\n",
      "\u001b[34m169.254.255.130 - - [26/Dec/2021:19:09:49 +0000] \"POST /invocations HTTP/1.1\" 200 12227 \"-\" \"Go-http-client/1.1\"\u001b[0m\n",
      "\u001b[35m169.254.255.130 - - [26/Dec/2021:19:09:48 +0000] \"POST /invocations HTTP/1.1\" 200 9123 \"-\" \"Go-http-client/1.1\"\u001b[0m\n",
      "\u001b[35m169.254.255.130 - - [26/Dec/2021:19:09:48 +0000] \"POST /invocations HTTP/1.1\" 200 12230 \"-\" \"Go-http-client/1.1\"\u001b[0m\n",
      "\u001b[35m169.254.255.130 - - [26/Dec/2021:19:09:49 +0000] \"POST /invocations HTTP/1.1\" 200 12227 \"-\" \"Go-http-client/1.1\"\u001b[0m\n",
      "\u001b[34m169.254.255.130 - - [26/Dec/2021:19:09:49 +0000] \"POST /invocations HTTP/1.1\" 200 12262 \"-\" \"Go-http-client/1.1\"\u001b[0m\n",
      "\u001b[35m169.254.255.130 - - [26/Dec/2021:19:09:49 +0000] \"POST /invocations HTTP/1.1\" 200 12262 \"-\" \"Go-http-client/1.1\"\u001b[0m\n"
     ]
    }
   ],
   "source": [
    "xgb_transformer.transform(test_location, content_type='text/csv', split_type='Line')\n",
    "xgb_transformer.wait()"
   ]
  },
  {
   "cell_type": "code",
   "execution_count": 60,
   "id": "d3a4bd8c",
   "metadata": {},
   "outputs": [
    {
     "name": "stdout",
     "output_type": "stream",
     "text": [
      "download: s3://sagemaker-us-west-2-904606187431/sagemaker-xgboost-2021-12-26-19-03-37-766/test.csv.out to ../data/sentiment_web_app/test.csv.out\n"
     ]
    }
   ],
   "source": [
    "!aws s3 cp --recursive $xgb_transformer.output_path $data_dir"
   ]
  },
  {
   "cell_type": "code",
   "execution_count": 61,
   "id": "b8a3cd0c",
   "metadata": {},
   "outputs": [],
   "source": [
    "predictions = pd.read_csv(os.path.join(data_dir, 'test.csv.out'), header=None)\n",
    "predictions = [round(num) for num in predictions.squeeze().values]"
   ]
  },
  {
   "cell_type": "code",
   "execution_count": 62,
   "id": "1d2dada1",
   "metadata": {},
   "outputs": [
    {
     "data": {
      "text/plain": [
       "0.86036"
      ]
     },
     "execution_count": 62,
     "metadata": {},
     "output_type": "execute_result"
    }
   ],
   "source": [
    "from sklearn.metrics import accuracy_score\n",
    "accuracy_score(test_y, predictions)"
   ]
  },
  {
   "cell_type": "markdown",
   "id": "0e86c68a",
   "metadata": {},
   "source": [
    "## Create Serverless Endpoint"
   ]
  },
  {
   "cell_type": "code",
   "execution_count": 57,
   "id": "49f8458c",
   "metadata": {},
   "outputs": [
    {
     "name": "stdout",
     "output_type": "stream",
     "text": [
      "Model name: xgboost-serverless2021-12-26-19-15-00\n",
      "s3://sagemaker-us-west-2-904606187431/sagemaker/sentiment_xgboost/output/sagemaker-xgboost-2021-12-26-18-53-22-665/output/model.tar.gz\n",
      "Model Arn: arn:aws:sagemaker:us-west-2:904606187431:model/xgboost-serverless2021-12-26-19-15-00\n"
     ]
    }
   ],
   "source": [
    "from time import gmtime, strftime\n",
    "\n",
    "\n",
    "client = boto3.client(service_name=\"sagemaker\")\n",
    "runtime = boto3.client(service_name=\"sagemaker-runtime\")\n",
    "\n",
    "model_name = \"xgboost-serverless\" + strftime(\"%Y-%m-%d-%H-%M-%S\", gmtime())\n",
    "print(\"Model name: \" + model_name)\n",
    "model_artifacts = xgb.model_data\n",
    "print(model_artifacts)\n",
    "\n",
    "# environment variables\n",
    "container_env_vars = {\"SAGEMAKER_CONTAINER_LOG_LEVEL\": \"20\"}\n",
    "\n",
    "create_model_response = client.create_model(\n",
    "    ModelName=model_name,\n",
    "    Containers=[\n",
    "        {\n",
    "            \"Image\": image_uri,\n",
    "            \"Mode\": \"SingleModel\",\n",
    "            \"ModelDataUrl\": model_artifacts,\n",
    "            \"Environment\": container_env_vars,\n",
    "        }\n",
    "    ],\n",
    "    ExecutionRoleArn=role,\n",
    ")\n",
    "\n",
    "print(\"Model Arn: \" + create_model_response[\"ModelArn\"])"
   ]
  },
  {
   "cell_type": "markdown",
   "id": "9bfee890",
   "metadata": {},
   "source": [
    "### Config Endpoint"
   ]
  },
  {
   "cell_type": "code",
   "execution_count": 59,
   "id": "9b7d7ce6",
   "metadata": {},
   "outputs": [
    {
     "name": "stdout",
     "output_type": "stream",
     "text": [
      "Endpoint Configuration Arn: arn:aws:sagemaker:us-west-2:904606187431:endpoint-config/xgboost-serverless-epc2021-12-26-19-16-08\n"
     ]
    }
   ],
   "source": [
    "xgboost_epc_name = \"xgboost-serverless-epc\" + strftime(\"%Y-%m-%d-%H-%M-%S\", gmtime())\n",
    "\n",
    "endpoint_config_response = client.create_endpoint_config(\n",
    "    EndpointConfigName=xgboost_epc_name,\n",
    "    ProductionVariants=[\n",
    "        {\n",
    "            \"VariantName\": \"byoVariant\",\n",
    "            \"ModelName\": model_name,\n",
    "            \"ServerlessConfig\": {\n",
    "                \"MemorySizeInMB\": 4096,\n",
    "                \"MaxConcurrency\": 1,\n",
    "            },\n",
    "        },\n",
    "    ],\n",
    ")\n",
    "\n",
    "print(\"Endpoint Configuration Arn: \" + endpoint_config_response[\"EndpointConfigArn\"])"
   ]
  },
  {
   "cell_type": "code",
   "execution_count": 63,
   "id": "cbcff9d7",
   "metadata": {},
   "outputs": [
    {
     "name": "stdout",
     "output_type": "stream",
     "text": [
      "Endpoint Arn: arn:aws:sagemaker:us-west-2:904606187431:endpoint/xgboost-serverless-ep2021-12-26-19-18-11\n"
     ]
    }
   ],
   "source": [
    "endpoint_name = \"xgboost-serverless-ep\" + strftime(\"%Y-%m-%d-%H-%M-%S\", gmtime())\n",
    "\n",
    "create_endpoint_response = client.create_endpoint(\n",
    "    EndpointName=endpoint_name,\n",
    "    EndpointConfigName=xgboost_epc_name,\n",
    ")\n",
    "\n",
    "print(\"Endpoint Arn: \" + create_endpoint_response[\"EndpointArn\"])"
   ]
  },
  {
   "cell_type": "code",
   "execution_count": 64,
   "id": "1de4e221",
   "metadata": {
    "scrolled": true
   },
   "outputs": [
    {
     "name": "stdout",
     "output_type": "stream",
     "text": [
      "Creating\n",
      "Creating\n",
      "Creating\n",
      "Creating\n",
      "Creating\n",
      "Creating\n",
      "Creating\n",
      "Creating\n",
      "Creating\n",
      "InService\n"
     ]
    },
    {
     "data": {
      "text/plain": [
       "{'EndpointName': 'xgboost-serverless-ep2021-12-26-19-18-11',\n",
       " 'EndpointArn': 'arn:aws:sagemaker:us-west-2:904606187431:endpoint/xgboost-serverless-ep2021-12-26-19-18-11',\n",
       " 'EndpointConfigName': 'xgboost-serverless-epc2021-12-26-19-16-08',\n",
       " 'ProductionVariants': [{'VariantName': 'byoVariant',\n",
       "   'DeployedImages': [{'SpecifiedImage': '246618743249.dkr.ecr.us-west-2.amazonaws.com/sagemaker-xgboost:1.0-1-cpu-py3',\n",
       "     'ResolvedImage': '246618743249.dkr.ecr.us-west-2.amazonaws.com/sagemaker-xgboost@sha256:04889b02181f14632e19ef6c2a7d74bfe699ff4c7f44669a78834bc90b77fe5a',\n",
       "     'ResolutionTime': datetime.datetime(2021, 12, 26, 19, 18, 13, 756000, tzinfo=tzlocal())}],\n",
       "   'CurrentWeight': 1.0,\n",
       "   'DesiredWeight': 1.0,\n",
       "   'CurrentInstanceCount': 0,\n",
       "   'CurrentServerlessConfig': {'MemorySizeInMB': 4096, 'MaxConcurrency': 1}}],\n",
       " 'EndpointStatus': 'InService',\n",
       " 'CreationTime': datetime.datetime(2021, 12, 26, 19, 18, 11, 785000, tzinfo=tzlocal()),\n",
       " 'LastModifiedTime': datetime.datetime(2021, 12, 26, 19, 20, 48, 691000, tzinfo=tzlocal()),\n",
       " 'ResponseMetadata': {'RequestId': 'ba6c106b-1844-4bcc-8ad1-451ad4979ee4',\n",
       "  'HTTPStatusCode': 200,\n",
       "  'HTTPHeaders': {'x-amzn-requestid': 'ba6c106b-1844-4bcc-8ad1-451ad4979ee4',\n",
       "   'content-type': 'application/x-amz-json-1.1',\n",
       "   'content-length': '818',\n",
       "   'date': 'Sun, 26 Dec 2021 19:20:55 GMT'},\n",
       "  'RetryAttempts': 0}}"
      ]
     },
     "execution_count": 64,
     "metadata": {},
     "output_type": "execute_result"
    }
   ],
   "source": [
    "# wait for endpoint to reach a terminal state (InService) using describe endpoint\n",
    "import time\n",
    "\n",
    "describe_endpoint_response = client.describe_endpoint(EndpointName=endpoint_name)\n",
    "\n",
    "while describe_endpoint_response[\"EndpointStatus\"] == \"Creating\":\n",
    "    describe_endpoint_response = client.describe_endpoint(EndpointName=endpoint_name)\n",
    "    print(describe_endpoint_response[\"EndpointStatus\"])\n",
    "    time.sleep(15)\n",
    "\n",
    "describe_endpoint_response"
   ]
  },
  {
   "cell_type": "markdown",
   "id": "e0d04049",
   "metadata": {},
   "source": [
    "## Test Endpoint"
   ]
  },
  {
   "cell_type": "code",
   "execution_count": 83,
   "id": "b73cb64b",
   "metadata": {},
   "outputs": [],
   "source": [
    "# test_review = \"Nothing but a disgusting materialistic pageant of glistening abed remote control greed zombies, totally devoid of any heart or heat. A romantic comedy that has zero romantic chemestry and zero laughs!\"\n",
    "\n",
    "test_review=\"Crappy\"\n"
   ]
  },
  {
   "cell_type": "code",
   "execution_count": 84,
   "id": "f6178a8f",
   "metadata": {},
   "outputs": [
    {
     "name": "stdout",
     "output_type": "stream",
     "text": [
      "crappy\n"
     ]
    }
   ],
   "source": [
    "test_words = review_to_words(test_review)\n",
    "print(test_words)"
   ]
  },
  {
   "cell_type": "code",
   "execution_count": 85,
   "id": "6201af93",
   "metadata": {},
   "outputs": [],
   "source": [
    "def bow_encoding(words, vocabulary):\n",
    "    bow = [0] * len(vocabulary) # Start by setting the count for each word in the vocabulary to zero.\n",
    "    for word in words.split():  # For each word in the string\n",
    "        if word in vocabulary:  # If the word is one that occurs in the vocabulary, increase its count.\n",
    "            bow[vocabulary[word]] += 1\n",
    "    return bow"
   ]
  },
  {
   "cell_type": "code",
   "execution_count": 86,
   "id": "4a70a70e",
   "metadata": {},
   "outputs": [
    {
     "name": "stdout",
     "output_type": "stream",
     "text": [
      "5000\n"
     ]
    }
   ],
   "source": [
    "test_bow = bow_encoding(test_words, vocabulary)\n",
    "print(len(test_bow))"
   ]
  },
  {
   "cell_type": "code",
   "execution_count": 87,
   "id": "738edb43",
   "metadata": {},
   "outputs": [
    {
     "data": {
      "text/plain": [
       "'xgboost-serverless-ep2021-12-26-19-18-11'"
      ]
     },
     "execution_count": 87,
     "metadata": {},
     "output_type": "execute_result"
    }
   ],
   "source": [
    "endpoint_name"
   ]
  },
  {
   "cell_type": "code",
   "execution_count": 88,
   "id": "e1cade02",
   "metadata": {},
   "outputs": [],
   "source": [
    "response = runtime.invoke_endpoint(EndpointName = endpoint_name, # The name of the endpoint we created\n",
    "                                   ContentType = 'text/csv',                     # The data format that is expected\n",
    "                                   Body = ','.join([str(val) for val in test_bow]).encode('utf-8'))"
   ]
  },
  {
   "cell_type": "code",
   "execution_count": 89,
   "id": "5f0fba6c",
   "metadata": {},
   "outputs": [
    {
     "name": "stdout",
     "output_type": "stream",
     "text": [
      "0.6226286292076111\n"
     ]
    }
   ],
   "source": [
    "response = response['Body'].read().decode('utf-8')\n",
    "print(response)"
   ]
  },
  {
   "cell_type": "code",
   "execution_count": null,
   "id": "db0b3185",
   "metadata": {},
   "outputs": [],
   "source": []
  }
 ],
 "metadata": {
  "kernelspec": {
   "display_name": "conda_python3",
   "language": "python",
   "name": "conda_python3"
  },
  "language_info": {
   "codemirror_mode": {
    "name": "ipython",
    "version": 3
   },
   "file_extension": ".py",
   "mimetype": "text/x-python",
   "name": "python",
   "nbconvert_exporter": "python",
   "pygments_lexer": "ipython3",
   "version": "3.6.13"
  }
 },
 "nbformat": 4,
 "nbformat_minor": 5
}
